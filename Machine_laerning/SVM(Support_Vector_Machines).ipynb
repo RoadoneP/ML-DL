{
  "nbformat": 4,
  "nbformat_minor": 0,
  "metadata": {
    "colab": {
      "name": "SVM(Support Vector Machines).ipynb",
      "provenance": [],
      "collapsed_sections": [],
      "include_colab_link": true
    },
    "kernelspec": {
      "name": "python3",
      "display_name": "Python 3"
    }
  },
  "cells": [
    {
      "cell_type": "markdown",
      "metadata": {
        "id": "view-in-github",
        "colab_type": "text"
      },
      "source": [
        "<a href=\"https://colab.research.google.com/github/RoadoneP/Machine_learning/blob/main/Machine_laerning/SVM(Support_Vector_Machines).ipynb\" target=\"_parent\"><img src=\"https://colab.research.google.com/assets/colab-badge.svg\" alt=\"Open In Colab\"/></a>"
      ]
    },
    {
      "cell_type": "markdown",
      "metadata": {
        "id": "g63soNOvFUSa"
      },
      "source": [
        "# 서포트 벡터 머신(Support Vector Machines)"
      ]
    },
    {
      "cell_type": "markdown",
      "metadata": {
        "id": "Rrbp02Mk5CDA"
      },
      "source": [
        "* 회귀, 분류, 이상치 탐지 등에 사용되는 지도학습 방법\n",
        "* 클래스 사이의 경계에 위치한 데이터 포인트를 서포트 벡터(support vector)라고 함\n",
        "* 각 지지 벡터가 클래스 사이의 결정 경계를 구분하는데 얼마나 중요한지를 학습\n",
        "* 각 지지 벡터 사이의 마진이 가장 큰 방향으로 학습\n",
        "* 지지 벡터 까지의 거리와 지지 벡터의 중요도를 기반으로 예측을 수행\n",
        "\n",
        "![support vector machine](https://upload.wikimedia.org/wikipedia/commons/thumb/2/20/Svm_separating_hyperplanes.png/220px-Svm_separating_hyperplanes.png)\n",
        "\n",
        "* H3은 두 클래스의 점들을 제대로 분류하고 있지 않음\n",
        "* H1과 H2는 두 클래스의 점들을 분류하는데, H2가 H1보다 더 큰 마진을 갖고 분류하는 것을 확인할 수 있음"
      ]
    },
    {
      "cell_type": "code",
      "metadata": {
        "id": "zBilnkAn4_U3"
      },
      "source": [
        "import multiprocessing\r\n",
        "import pandas as pd\r\n",
        "import numpy as np\r\n",
        "import matplotlib.pyplot as plt\r\n",
        "plt.style.use(['seaborn-whitegrid'])"
      ],
      "execution_count": 126,
      "outputs": []
    },
    {
      "cell_type": "code",
      "metadata": {
        "id": "1YRJRPy6hTe0"
      },
      "source": [
        "from sklearn.svm import SVR, SVC #회귀와 분류\r\n",
        "from sklearn.datasets import load_boston, load_diabetes\r\n",
        "from sklearn.datasets import load_breast_cancer, load_iris, load_wine\r\n",
        "from sklearn.pipeline import make_pipeline, Pipeline\r\n",
        "from sklearn.model_selection import train_test_split, cross_validate, GridSearchCV\r\n",
        "from sklearn.preprocessing import StandardScaler, MinMaxScaler\r\n",
        "from sklearn.manifold import TSNE"
      ],
      "execution_count": 44,
      "outputs": []
    },
    {
      "cell_type": "markdown",
      "metadata": {
        "id": "UxS0mPsCh4l0"
      },
      "source": [
        "## SVM을 이용한 회귀 모델과 분류 모델"
      ]
    },
    {
      "cell_type": "markdown",
      "metadata": {
        "id": "NTtcx3p8wtNX"
      },
      "source": [
        "### SVM을 사용한 회귀 모델 (SVR)"
      ]
    },
    {
      "cell_type": "code",
      "metadata": {
        "id": "sCrhSrMf5BqB",
        "colab": {
          "base_uri": "https://localhost:8080/"
        },
        "outputId": "1048e10f-38ae-4f5f-f7fd-cfc1ad254c75"
      },
      "source": [
        "X, y = load_boston(return_X_y=True)\r\n",
        "X_train, X_test, y_train, y_test = train_test_split(X, y, random_state=123)\r\n",
        "\r\n",
        "model = SVR()\r\n",
        "model.fit(X_train, y_train)\r\n",
        "\r\n",
        "print(\"학습 데이터 점수 : {}\".format(model.score(X_train, y_train)))\r\n",
        "print(\"평가 데이터 점수 : {}\".format(model.score(X_test, y_test)))"
      ],
      "execution_count": 45,
      "outputs": [
        {
          "output_type": "stream",
          "text": [
            "학습 데이터 점수 : 0.2177283706374875\n",
            "평가 데이터 점수 : 0.13544178468518187\n"
          ],
          "name": "stdout"
        }
      ]
    },
    {
      "cell_type": "markdown",
      "metadata": {
        "id": "CQraX6MzwvtE"
      },
      "source": [
        "### SVM을 사용한 분류 모델 (SVC)"
      ]
    },
    {
      "cell_type": "code",
      "metadata": {
        "id": "bnh5fS8gFbtK",
        "colab": {
          "base_uri": "https://localhost:8080/"
        },
        "outputId": "d2a1a9e7-926b-4514-f3d9-8c3616aa4b29"
      },
      "source": [
        "X, y = load_breast_cancer(return_X_y=True)\r\n",
        "X_train, X_test, y_train, y_test = train_test_split(X, y, random_state=123)\r\n",
        "\r\n",
        "model = SVC()\r\n",
        "model.fit(X_train, y_train)\r\n",
        "\r\n",
        "print(\"학습 데이터 점수 : {}\".format(model.score(X_train, y_train)))\r\n",
        "print(\"평가 데이터 점수 : {}\".format(model.score(X_test, y_test)))"
      ],
      "execution_count": 46,
      "outputs": [
        {
          "output_type": "stream",
          "text": [
            "학습 데이터 점수 : 0.9014084507042254\n",
            "평가 데이터 점수 : 0.9230769230769231\n"
          ],
          "name": "stdout"
        }
      ]
    },
    {
      "cell_type": "markdown",
      "metadata": {
        "id": "zgd_dvKrGeFh"
      },
      "source": [
        "## 커널 기법\n",
        "\n",
        "* 입력 데이터를 고차원 공간에 사상해서 비선형 특징을 학습할 수 있도록 확장하는 방법\n",
        "* scikit-learn에서는 Linear, Polynomial, RBF(Radial Basis Function)등 다양한 커널 기법을 지원\n",
        "\n",
        "![kernel trick](https://scikit-learn.org/stable/_images/sphx_glr_plot_iris_svc_0011.png)"
      ]
    },
    {
      "cell_type": "code",
      "metadata": {
        "id": "Azq1UJtZF8sU",
        "colab": {
          "base_uri": "https://localhost:8080/"
        },
        "outputId": "c08eb8d9-7f1b-4ebb-a3c6-612668f10b49"
      },
      "source": [
        "X, y = load_boston(return_X_y=True)\r\n",
        "X_train, X_test, y_train, y_test = train_test_split(X, y, random_state=123)\r\n",
        "\r\n",
        "linear_svr = SVR(kernel='linear')\r\n",
        "linear_svr.fit(X_train,y_train)\r\n",
        "\r\n",
        "print(\"Linear SVR 학습 데이터 점수 : {}\".format(linear_svr.score(X_train, y_train)))\r\n",
        "print(\"Linear SVR 평가 데이터 점수 : {}\".format(linear_svr.score(X_test, y_test)))\r\n",
        "\r\n",
        "polynomial_svr = SVR(kernel='poly')\r\n",
        "polynomial_svr.fit(X_train,y_train)\r\n",
        "\r\n",
        "print(\"Polynomial SVR 학습 데이터 점수 : {}\".format(polynomial_svr.score(X_train, y_train)))\r\n",
        "print(\"Polynomial SVR 평가 데이터 점수 : {}\".format(polynomial_svr.score(X_test, y_test)))\r\n",
        "\r\n",
        "rbf_svr = SVR(kernel='rbf')\r\n",
        "rbf_svr.fit(X_train,y_train)\r\n",
        "\r\n",
        "print(\"RBF SVR 학습 데이터 점수 : {}\".format(rbf_svr.score(X_train, y_train)))\r\n",
        "print(\"RBF SVR 평가 데이터 점수 : {}\".format(rbf_svr.score(X_test, y_test)))"
      ],
      "execution_count": 47,
      "outputs": [
        {
          "output_type": "stream",
          "text": [
            "Linear SVR 학습 데이터 점수 : 0.715506620496448\n",
            "Linear SVR 평가 데이터 점수 : 0.6380398541506058\n",
            "Polynomial SVR 학습 데이터 점수 : 0.2024454261446289\n",
            "Polynomial SVR 평가 데이터 점수 : 0.133668450367462\n",
            "RBF SVR 학습 데이터 점수 : 0.2177283706374875\n",
            "RBF SVR 평가 데이터 점수 : 0.13544178468518187\n"
          ],
          "name": "stdout"
        }
      ]
    },
    {
      "cell_type": "code",
      "metadata": {
        "id": "KuvRIzarJO0H",
        "colab": {
          "base_uri": "https://localhost:8080/"
        },
        "outputId": "62dd6e49-b10a-4de7-df32-b956fc53ad19"
      },
      "source": [
        "X, y = load_breast_cancer(return_X_y=True)\r\n",
        "X_train, X_test, y_train, y_test = train_test_split(X, y, random_state=123)\r\n",
        "\r\n",
        "linear_svc = SVC(kernel='linear')\r\n",
        "linear_svc.fit(X_train,y_train)\r\n",
        "\r\n",
        "print(\"Linear SVC 학습 데이터 점수 : {}\".format(linear_svc.score(X_train, y_train)))\r\n",
        "print(\"Linear SVC 평가 데이터 점수 : {}\".format(linear_svc.score(X_test, y_test)))\r\n",
        "\r\n",
        "polynomial_svc = SVC(kernel='poly')\r\n",
        "polynomial_svc.fit(X_train,y_train)\r\n",
        "\r\n",
        "print(\"Polynomial SVC 학습 데이터 점수 : {}\".format(polynomial_svc.score(X_train, y_train)))\r\n",
        "print(\"Polynomial SVC 평가 데이터 점수 : {}\".format(polynomial_svc.score(X_test, y_test)))\r\n",
        "\r\n",
        "rbf_svc = SVC(kernel='rbf')\r\n",
        "rbf_svc.fit(X_train,y_train)\r\n",
        "\r\n",
        "print(\"RBF SVC 학습 데이터 점수 : {}\".format(rbf_svc.score(X_train, y_train)))\r\n",
        "print(\"RBF SVC 평가 데이터 점수 : {}\".format(rbf_svc.score(X_test, y_test)))"
      ],
      "execution_count": 48,
      "outputs": [
        {
          "output_type": "stream",
          "text": [
            "Linear SVC 학습 데이터 점수 : 0.960093896713615\n",
            "Linear SVC 평가 데이터 점수 : 0.986013986013986\n",
            "Polynomial SVC 학습 데이터 점수 : 0.9014084507042254\n",
            "Polynomial SVC 평가 데이터 점수 : 0.9230769230769231\n",
            "RBF SVC 학습 데이터 점수 : 0.9014084507042254\n",
            "RBF SVC 평가 데이터 점수 : 0.9230769230769231\n"
          ],
          "name": "stdout"
        }
      ]
    },
    {
      "cell_type": "markdown",
      "metadata": {
        "id": "ysbUu5o3Lm2V"
      },
      "source": [
        "## 매개변수 튜닝\n",
        "\n",
        "* SVM은 사용하는 커널에 따라 다양한 매개변수 설정 가능\n",
        "* 매개변수를 변경하면서 성능변화를 관찰"
      ]
    },
    {
      "cell_type": "code",
      "metadata": {
        "id": "JyCxM4abOZyO"
      },
      "source": [
        "X, y = load_breast_cancer(return_X_y=True)\r\n",
        "X_train, X_test, y_train, y_test = train_test_split(X, y, random_state=123)"
      ],
      "execution_count": 49,
      "outputs": []
    },
    {
      "cell_type": "code",
      "metadata": {
        "id": "QN4BSxiaJspb",
        "colab": {
          "base_uri": "https://localhost:8080/"
        },
        "outputId": "71a9661a-bcd8-43fd-b7f9-beae2bced115"
      },
      "source": [
        "polynomial_svc = SVC(kernel='poly', degree=2, C=0.1 , gamma='auto')\r\n",
        "polynomial_svc.fit(X_train,y_train)\r\n",
        "\r\n",
        "print(\"kernel=poly, degree={}, C={}, gamma={}\".format(2, 0.1, 'auto'))\r\n",
        "print(\"Polynomial SVC 학습 데이터 점수 : {}\".format(polynomial_svc.score(X_train, y_train)))\r\n",
        "print(\"Polynomial SVC 평가 데이터 점수 : {}\".format(polynomial_svc.score(X_test, y_test)))"
      ],
      "execution_count": 50,
      "outputs": [
        {
          "output_type": "stream",
          "text": [
            "kernel=poly, degree=2, C=0.1, gamma=auto\n",
            "Polynomial SVC 학습 데이터 점수 : 0.9835680751173709\n",
            "Polynomial SVC 평가 데이터 점수 : 0.993006993006993\n"
          ],
          "name": "stdout"
        }
      ]
    },
    {
      "cell_type": "code",
      "metadata": {
        "id": "P7hOhO1oOvVC",
        "colab": {
          "base_uri": "https://localhost:8080/"
        },
        "outputId": "c37c5294-e0ab-42f0-9678-0962d260ae77"
      },
      "source": [
        "rbf_svc = SVC(kernel='rbf',C=2.0, gamma='scale')\r\n",
        "rbf_svc.fit(X_train,y_train)\r\n",
        "\r\n",
        "print(\"kernel= RBF, C={}, gamma={}\".format(2.0 , 'scale'))\r\n",
        "print(\"RBF SVC 학습 데이터 점수 : {}\".format(rbf_svc.score(X_train, y_train)))\r\n",
        "print(\"RBF SVC 평가 데이터 점수 : {}\".format(rbf_svc.score(X_test, y_test)))"
      ],
      "execution_count": 51,
      "outputs": [
        {
          "output_type": "stream",
          "text": [
            "kernel= RBF, C=2.0, gamma=scale\n",
            "RBF SVC 학습 데이터 점수 : 0.9154929577464789\n",
            "RBF SVC 평가 데이터 점수 : 0.9370629370629371\n"
          ],
          "name": "stdout"
        }
      ]
    },
    {
      "cell_type": "markdown",
      "metadata": {
        "id": "aEQL8h8WU0An"
      },
      "source": [
        "## 데이터 전처리\n",
        "\n",
        "* SVM은 입력 데이터가 정규화 되어야 좋은 성능을 보임\n",
        "* 주로 모든 특성 값을 [0, 1] 범위로 맞추는 방법을 사용\n",
        "* scikit-learn의 StandardScaler 또는 MinMaxScaler를 사용해 정규화"
      ]
    },
    {
      "cell_type": "code",
      "metadata": {
        "id": "RujhqUOsVU73"
      },
      "source": [
        "X, y = load_breast_cancer(return_X_y=True)\r\n",
        "X_train, X_test, y_train, y_test = train_test_split(X, y, random_state=123)"
      ],
      "execution_count": 52,
      "outputs": []
    },
    {
      "cell_type": "code",
      "metadata": {
        "id": "DWau9A6UWds4",
        "colab": {
          "base_uri": "https://localhost:8080/"
        },
        "outputId": "3af5a2f2-8e16-47de-afba-f38f5677d92a"
      },
      "source": [
        "model = SVC()\r\n",
        "model.fit(X_train, y_train)\r\n",
        "\r\n",
        "print(\"SVC 학습 데이터 점수 : {}\".format(model.score(X_train, y_train)))\r\n",
        "print(\"SVC 평가 데이터 점수 : {}\".format(model.score(X_test, y_test)))"
      ],
      "execution_count": 53,
      "outputs": [
        {
          "output_type": "stream",
          "text": [
            "SVC 학습 데이터 점수 : 0.9014084507042254\n",
            "SVC 평가 데이터 점수 : 0.9230769230769231\n"
          ],
          "name": "stdout"
        }
      ]
    },
    {
      "cell_type": "code",
      "metadata": {
        "id": "y_ScHENS0ssY"
      },
      "source": [
        "scaler = StandardScaler()\r\n",
        "X_train = scaler.fit_transform(X_train)\r\n",
        "X_test = scaler.transform(X_test)"
      ],
      "execution_count": 54,
      "outputs": []
    },
    {
      "cell_type": "code",
      "metadata": {
        "id": "R2_4R6JE0ssi",
        "colab": {
          "base_uri": "https://localhost:8080/"
        },
        "outputId": "6044c6bb-1e13-465e-a733-89a60098c673"
      },
      "source": [
        "model = SVC()\r\n",
        "model.fit(X_train, y_train)\r\n",
        "\r\n",
        "print(\"SVC 학습 데이터 점수 : {}\".format(model.score(X_train, y_train)))\r\n",
        "print(\"SVC 평가 데이터 점수 : {}\".format(model.score(X_test, y_test)))"
      ],
      "execution_count": 55,
      "outputs": [
        {
          "output_type": "stream",
          "text": [
            "SVC 학습 데이터 점수 : 0.9835680751173709\n",
            "SVC 평가 데이터 점수 : 0.986013986013986\n"
          ],
          "name": "stdout"
        }
      ]
    },
    {
      "cell_type": "code",
      "metadata": {
        "colab": {
          "base_uri": "https://localhost:8080/"
        },
        "id": "d9i1uCpLOxty",
        "outputId": "3212fbe3-bd20-4c14-8fb8-2a16d24ec8fb"
      },
      "source": [
        "model = SVC(kernel='linear')\r\n",
        "model.fit(X_train, y_train)\r\n",
        "\r\n",
        "print(\"SVC 학습 데이터 점수 : {}\".format(model.score(X_train, y_train)))\r\n",
        "print(\"SVC 평가 데이터 점수 : {}\".format(model.score(X_test, y_test)))"
      ],
      "execution_count": 56,
      "outputs": [
        {
          "output_type": "stream",
          "text": [
            "SVC 학습 데이터 점수 : 0.9906103286384976\n",
            "SVC 평가 데이터 점수 : 0.986013986013986\n"
          ],
          "name": "stdout"
        }
      ]
    },
    {
      "cell_type": "code",
      "metadata": {
        "id": "_EVkj33WVQOu"
      },
      "source": [
        "scaler = MinMaxScaler()\r\n",
        "X_train = scaler.fit_transform(X_train)\r\n",
        "X_test = scaler.transform(X_test)"
      ],
      "execution_count": 57,
      "outputs": []
    },
    {
      "cell_type": "code",
      "metadata": {
        "id": "D7Kj3q_bVmeN",
        "colab": {
          "base_uri": "https://localhost:8080/"
        },
        "outputId": "b49ebe1a-fd71-480d-b2d5-d9a123d1af4f"
      },
      "source": [
        "model = SVC()\r\n",
        "model.fit(X_train, y_train)\r\n",
        "\r\n",
        "print(\"SVC 학습 데이터 점수 : {}\".format(model.score(X_train, y_train)))\r\n",
        "print(\"SVC 평가 데이터 점수 : {}\".format(model.score(X_test, y_test)))"
      ],
      "execution_count": 58,
      "outputs": [
        {
          "output_type": "stream",
          "text": [
            "SVC 학습 데이터 점수 : 0.9812206572769953\n",
            "SVC 평가 데이터 점수 : 0.986013986013986\n"
          ],
          "name": "stdout"
        }
      ]
    },
    {
      "cell_type": "markdown",
      "metadata": {
        "id": "zLjtZC7gYr7R"
      },
      "source": [
        "## Linear SVR"
      ]
    },
    {
      "cell_type": "markdown",
      "metadata": {
        "id": "tbZicmjAZBZp"
      },
      "source": [
        "### 보스턴 주택 가격"
      ]
    },
    {
      "cell_type": "code",
      "metadata": {
        "id": "X39InXCSYuPf"
      },
      "source": [
        "X, y = load_boston(return_X_y=True)\r\n",
        "X_train, X_test, y_train, y_test = train_test_split(X, y, test_size= 0.2)"
      ],
      "execution_count": 59,
      "outputs": []
    },
    {
      "cell_type": "code",
      "metadata": {
        "id": "I1TKwSKhdLaU"
      },
      "source": [
        "scaler = StandardScaler()\r\n",
        "scaler.fit(X_train)\r\n",
        "X_train = scaler.transform(X_train)\r\n",
        "X_test = scaler.transform(X_test)"
      ],
      "execution_count": 60,
      "outputs": []
    },
    {
      "cell_type": "code",
      "metadata": {
        "id": "deIvkeKRZqTU",
        "colab": {
          "base_uri": "https://localhost:8080/"
        },
        "outputId": "cc8d3185-54e6-4672-c201-f8bbab6f13ef"
      },
      "source": [
        "model = SVR(kernel='linear')\r\n",
        "model.fit(X_train, y_train)\r\n",
        "\r\n",
        "print(\"SVR 학습 데이터 점수 : {}\".format(model.score(X_train, y_train)))\r\n",
        "print(\"SVR 평가 데이터 점수 : {}\".format(model.score(X_test, y_test)))"
      ],
      "execution_count": 61,
      "outputs": [
        {
          "output_type": "stream",
          "text": [
            "SVR 학습 데이터 점수 : 0.6845613014782957\n",
            "SVR 평가 데이터 점수 : 0.8167479691603318\n"
          ],
          "name": "stdout"
        }
      ]
    },
    {
      "cell_type": "code",
      "metadata": {
        "id": "zEknoMb5aRBt",
        "colab": {
          "base_uri": "https://localhost:8080/",
          "height": 0
        },
        "outputId": "0d956059-3ca1-40cd-dd3c-8b4f81001497"
      },
      "source": [
        "#저차원 형태로 변환\r\n",
        "X_comp = TSNE(n_components=1).fit_transform(X)\r\n",
        "plt.scatter(X_comp, y)"
      ],
      "execution_count": 62,
      "outputs": [
        {
          "output_type": "execute_result",
          "data": {
            "text/plain": [
              "<matplotlib.collections.PathCollection at 0x7fbe330ead30>"
            ]
          },
          "metadata": {
            "tags": []
          },
          "execution_count": 62
        },
        {
          "output_type": "display_data",
          "data": {
            "image/png": "[encoded data removed]",
            "text/plain": [
              "<Figure size 432x288 with 1 Axes>"
            ]
          },
          "metadata": {
            "tags": []
          }
        }
      ]
    },
    {
      "cell_type": "code",
      "metadata": {
        "id": "S3ipWjbFiete",
        "colab": {
          "base_uri": "https://localhost:8080/",
          "height": 0
        },
        "outputId": "0a4bb61d-b626-4532-a439-0cefba9ab3fd"
      },
      "source": [
        "model.fit(X_comp, y)\r\n",
        "predict = model.predict(X_comp)\r\n",
        "plt.scatter(X_comp,y)\r\n",
        "plt.scatter(X_comp,predict, color='r')"
      ],
      "execution_count": 63,
      "outputs": [
        {
          "output_type": "execute_result",
          "data": {
            "text/plain": [
              "<matplotlib.collections.PathCollection at 0x7fbe330b3eb8>"
            ]
          },
          "metadata": {
            "tags": []
          },
          "execution_count": 63
        },
        {
          "output_type": "display_data",
          "data": {
            "image/png": "[encoded data removed]",
            "text/plain": [
              "<Figure size 432x288 with 1 Axes>"
            ]
          },
          "metadata": {
            "tags": []
          }
        }
      ]
    },
    {
      "cell_type": "code",
      "metadata": {
        "id": "IqLc69hojcIr",
        "colab": {
          "base_uri": "https://localhost:8080/"
        },
        "outputId": "50c94478-3152-4b1d-fb7b-e42b549ef532"
      },
      "source": [
        "estimator = make_pipeline(StandardScaler(), SVR(kernel='linear'))\r\n",
        "\r\n",
        "cross_validate(\r\n",
        "    estimator = estimator,\r\n",
        "    X=X, y=y,\r\n",
        "    cv=5,\r\n",
        "    n_jobs = multiprocessing.cpu_count(),\r\n",
        "    verbose=True\r\n",
        ")"
      ],
      "execution_count": 64,
      "outputs": [
        {
          "output_type": "stream",
          "text": [
            "[Parallel(n_jobs=2)]: Using backend LokyBackend with 2 concurrent workers.\n",
            "[Parallel(n_jobs=2)]: Done   5 out of   5 | elapsed:    1.1s finished\n"
          ],
          "name": "stderr"
        },
        {
          "output_type": "execute_result",
          "data": {
            "text/plain": [
              "{'fit_time': array([0.02486968, 0.02500367, 0.02343297, 0.02381063, 0.02110314]),\n",
              " 'score_time': array([0.00207233, 0.00192285, 0.0018003 , 0.00178266, 0.00132036]),\n",
              " 'test_score': array([0.76908568, 0.72180141, 0.56428426, 0.14083339, 0.07810211])}"
            ]
          },
          "metadata": {
            "tags": []
          },
          "execution_count": 64
        }
      ]
    },
    {
      "cell_type": "code",
      "metadata": {
        "id": "YzGeXLmZbGY7",
        "colab": {
          "base_uri": "https://localhost:8080/"
        },
        "outputId": "9df5038a-20aa-4b3f-b916-a52ce30529ad"
      },
      "source": [
        " pipe = Pipeline([('scaler', StandardScaler()),\r\n",
        "                  ('model', SVR(kernel='linear'))])\r\n",
        "\r\n",
        "param_grid = [{'model__gamma':['scale','auto'],\r\n",
        "               'model__C':[1.0, 0.1, 0.01],\r\n",
        "               'model__epsilon': [1.0, 0.1, 0.01]}]\r\n",
        "\r\n",
        "gs = GridSearchCV(\r\n",
        "    estimator=pipe,\r\n",
        "    param_grid=param_grid,\r\n",
        "    n_jobs=multiprocessing.cpu_count(),\r\n",
        "    cv=5,\r\n",
        "    verbose=True\r\n",
        ")\r\n",
        "\r\n",
        "gs.fit(X, y)"
      ],
      "execution_count": 73,
      "outputs": [
        {
          "output_type": "stream",
          "text": [
            "Fitting 5 folds for each of 18 candidates, totalling 90 fits\n"
          ],
          "name": "stdout"
        },
        {
          "output_type": "stream",
          "text": [
            "[Parallel(n_jobs=2)]: Using backend LokyBackend with 2 concurrent workers.\n",
            "[Parallel(n_jobs=2)]: Done  90 out of  90 | elapsed:    1.7s finished\n"
          ],
          "name": "stderr"
        },
        {
          "output_type": "execute_result",
          "data": {
            "text/plain": [
              "GridSearchCV(cv=5, error_score=nan,\n",
              "             estimator=Pipeline(memory=None,\n",
              "                                steps=[('scaler',\n",
              "                                        StandardScaler(copy=True,\n",
              "                                                       with_mean=True,\n",
              "                                                       with_std=True)),\n",
              "                                       ('model',\n",
              "                                        SVR(C=1.0, cache_size=200, coef0=0.0,\n",
              "                                            degree=3, epsilon=0.1,\n",
              "                                            gamma='scale', kernel='linear',\n",
              "                                            max_iter=-1, shrinking=True,\n",
              "                                            tol=0.001, verbose=False))],\n",
              "                                verbose=False),\n",
              "             iid='deprecated', n_jobs=2,\n",
              "             param_grid=[{'model__C': [1.0, 0.1, 0.01],\n",
              "                          'model__epsilon': [1.0, 0.1, 0.01],\n",
              "                          'model__gamma': ['scale', 'auto']}],\n",
              "             pre_dispatch='2*n_jobs', refit=True, return_train_score=False,\n",
              "             scoring=None, verbose=True)"
            ]
          },
          "metadata": {
            "tags": []
          },
          "execution_count": 73
        }
      ]
    },
    {
      "cell_type": "code",
      "metadata": {
        "id": "Hfo2Z6T5jo73",
        "colab": {
          "base_uri": "https://localhost:8080/"
        },
        "outputId": "42060329-308e-41ae-b40e-bb07a20e5536"
      },
      "source": [
        "gs.best_estimator_"
      ],
      "execution_count": 74,
      "outputs": [
        {
          "output_type": "execute_result",
          "data": {
            "text/plain": [
              "Pipeline(memory=None,\n",
              "         steps=[('scaler',\n",
              "                 StandardScaler(copy=True, with_mean=True, with_std=True)),\n",
              "                ('model',\n",
              "                 SVR(C=0.1, cache_size=200, coef0=0.0, degree=3, epsilon=1.0,\n",
              "                     gamma='scale', kernel='linear', max_iter=-1,\n",
              "                     shrinking=True, tol=0.001, verbose=False))],\n",
              "         verbose=False)"
            ]
          },
          "metadata": {
            "tags": []
          },
          "execution_count": 74
        }
      ]
    },
    {
      "cell_type": "markdown",
      "metadata": {
        "id": "Tlmsj9sHlB_i"
      },
      "source": [
        "### 당뇨병"
      ]
    },
    {
      "cell_type": "code",
      "metadata": {
        "id": "Yq7qyDJOlXgn"
      },
      "source": [
        ""
      ],
      "execution_count": null,
      "outputs": []
    },
    {
      "cell_type": "code",
      "metadata": {
        "id": "O8ijEt-glfx0"
      },
      "source": [
        ""
      ],
      "execution_count": null,
      "outputs": []
    },
    {
      "cell_type": "code",
      "metadata": {
        "id": "NB4Kot_Yl1XY"
      },
      "source": [
        ""
      ],
      "execution_count": null,
      "outputs": []
    },
    {
      "cell_type": "code",
      "metadata": {
        "id": "VV0l-RNWmGCj"
      },
      "source": [
        ""
      ],
      "execution_count": null,
      "outputs": []
    },
    {
      "cell_type": "code",
      "metadata": {
        "id": "VTdrZjW3uKa6"
      },
      "source": [
        ""
      ],
      "execution_count": null,
      "outputs": []
    },
    {
      "cell_type": "code",
      "metadata": {
        "id": "f55hVLjGuKbE"
      },
      "source": [
        ""
      ],
      "execution_count": null,
      "outputs": []
    },
    {
      "cell_type": "code",
      "metadata": {
        "id": "cIrT1JJHmPJz"
      },
      "source": [
        ""
      ],
      "execution_count": null,
      "outputs": []
    },
    {
      "cell_type": "code",
      "metadata": {
        "id": "x7PN7Napm4OP"
      },
      "source": [
        ""
      ],
      "execution_count": null,
      "outputs": []
    },
    {
      "cell_type": "code",
      "metadata": {
        "id": "knBrWGyWhA9Z"
      },
      "source": [
        ""
      ],
      "execution_count": null,
      "outputs": []
    },
    {
      "cell_type": "markdown",
      "metadata": {
        "id": "iW0DXTLrNya-"
      },
      "source": [
        "## Linear SVC"
      ]
    },
    {
      "cell_type": "markdown",
      "metadata": {
        "id": "1b30IAFxN8XR"
      },
      "source": [
        "### 유방암"
      ]
    },
    {
      "cell_type": "code",
      "metadata": {
        "id": "bMHoF5stz0yG"
      },
      "source": [
        "import mglearn"
      ],
      "execution_count": 133,
      "outputs": []
    },
    {
      "cell_type": "code",
      "metadata": {
        "colab": {
          "base_uri": "https://localhost:8080/",
          "height": 263
        },
        "id": "6FYE1HOkz2kA",
        "outputId": "60ff81bc-478c-4355-9c8b-2d484912d980"
      },
      "source": [
        "mglearn.plots.plot_svm(log_C = 0.1, log_gamma=0.01)"
      ],
      "execution_count": 146,
      "outputs": [
        {
          "output_type": "display_data",
          "data": {
            "image/png": "[encoded data removed]",
            "text/plain": [
              "<Figure size 432x288 with 1 Axes>"
            ]
          },
          "metadata": {
            "tags": []
          }
        }
      ]
    },
    {
      "cell_type": "code",
      "metadata": {
        "id": "JA62MGlxT5wP"
      },
      "source": [
        "X, y =load_breast_cancer(return_X_y=True)\r\n",
        "X_train, X_test, y_train, y_test = train_test_split(X, y, test_size=0.2)"
      ],
      "execution_count": 104,
      "outputs": []
    },
    {
      "cell_type": "code",
      "metadata": {
        "id": "QLeBYuyrWQDw"
      },
      "source": [
        "scaler = StandardScaler()\r\n",
        "scaler.fit(X_train)\r\n",
        "X_train = scaler.transform(X_train)\r\n",
        "X_test = scaler.transform(X_test)"
      ],
      "execution_count": 105,
      "outputs": []
    },
    {
      "cell_type": "code",
      "metadata": {
        "id": "9MW3gKwJWaoQ",
        "colab": {
          "base_uri": "https://localhost:8080/"
        },
        "outputId": "b78d7ffd-f1db-477a-9108-35cbb6b6d411"
      },
      "source": [
        "model = SVC(kernel='linear')\r\n",
        "model.fit(X_train, y_train)\r\n",
        "\r\n",
        "print(\"학습 데이터 점수 : {}\".format(model.score(X_train, y_train)))\r\n",
        "print(\"평가 데이터 점수 : {}\".format(model.score(X_test, y_test)))"
      ],
      "execution_count": 106,
      "outputs": [
        {
          "output_type": "stream",
          "text": [
            "학습 데이터 점수 : 0.989010989010989\n",
            "평가 데이터 점수 : 0.9649122807017544\n"
          ],
          "name": "stdout"
        }
      ]
    },
    {
      "cell_type": "code",
      "metadata": {
        "id": "WBcgn7-0Whn6"
      },
      "source": [
        "def make_meshgrid(x, y, h=.02):\r\n",
        "  x_min, x_max = x.min()-1, x.max()+1\r\n",
        "  y_min, y_max = y.min()-1, y.max()+1\r\n",
        "  xx, yy = np.meshgrid(np.arange(x_min, x_max, h),\r\n",
        "                       np.arange(y_min, y_max, h))\r\n",
        "  \r\n",
        "  return xx, yy"
      ],
      "execution_count": 107,
      "outputs": []
    },
    {
      "cell_type": "code",
      "metadata": {
        "id": "bi1dYEBWmoxH"
      },
      "source": [
        "def plot_contours(clf, xx, yy, **params):\r\n",
        "  Z = clf.predict(np.c_[xx.ravel(),yy.ravel()])\r\n",
        "  Z = Z.reshape(xx.shape)\r\n",
        "  out = plt.contour(xx, yy, Z, **params)\r\n",
        "\r\n",
        "  return out"
      ],
      "execution_count": 108,
      "outputs": []
    },
    {
      "cell_type": "code",
      "metadata": {
        "id": "wThzdvIimoxN"
      },
      "source": [
        "X_comp = TSNE(n_components=2).fit_transform(X)\r\n",
        "X0, X1 = X_comp[:,0], X_comp[:,1]\r\n",
        "xx, yy = make_meshgrid(X0, X1)"
      ],
      "execution_count": 109,
      "outputs": []
    },
    {
      "cell_type": "code",
      "metadata": {
        "id": "wFMmUxkXXBAB",
        "colab": {
          "base_uri": "https://localhost:8080/",
          "height": 280
        },
        "outputId": "34c7d71e-d349-4d71-c8d8-675937582e58"
      },
      "source": [
        "model.fit(X_comp, y)\r\n",
        "\r\n",
        "plot_contours(model, xx, yy, cmap=plt.cm.coolwarm, alpha=0.7)\r\n",
        "plt.scatter(X0, X1, c=y, cmap=plt.cm.coolwarm, s=20, edgecolors='k')"
      ],
      "execution_count": 110,
      "outputs": [
        {
          "output_type": "execute_result",
          "data": {
            "text/plain": [
              "<matplotlib.collections.PathCollection at 0x7fbe32945908>"
            ]
          },
          "metadata": {
            "tags": []
          },
          "execution_count": 110
        },
        {
          "output_type": "display_data",
          "data": {
            "image/png": "[encoded data removed]",
            "text/plain": [
              "<Figure size 432x288 with 1 Axes>"
            ]
          },
          "metadata": {
            "tags": []
          }
        }
      ]
    },
    {
      "cell_type": "code",
      "metadata": {
        "id": "ys_mdw5TXHSU",
        "colab": {
          "base_uri": "https://localhost:8080/"
        },
        "outputId": "34895a79-fe45-4fff-b6e9-444949620440"
      },
      "source": [
        "estimator = make_pipeline(StandardScaler(), SVC(kernel='linear'))\r\n",
        "\r\n",
        "cross_validate(\r\n",
        "    estimator=estimator,\r\n",
        "    X=X, y=y,\r\n",
        "    cv=5,\r\n",
        "    n_jobs=multiprocessing.cpu_count(),\r\n",
        "    verbose=True\r\n",
        ")"
      ],
      "execution_count": 111,
      "outputs": [
        {
          "output_type": "stream",
          "text": [
            "[Parallel(n_jobs=2)]: Using backend LokyBackend with 2 concurrent workers.\n",
            "[Parallel(n_jobs=2)]: Done   5 out of   5 | elapsed:    0.0s finished\n"
          ],
          "name": "stderr"
        },
        {
          "output_type": "execute_result",
          "data": {
            "text/plain": [
              "{'fit_time': array([0.01583743, 0.00585294, 0.008569  , 0.0058012 , 0.00480175]),\n",
              " 'score_time': array([0.00089955, 0.00100017, 0.00090265, 0.00093913, 0.00072956]),\n",
              " 'test_score': array([0.96491228, 0.98245614, 0.96491228, 0.96491228, 0.98230088])}"
            ]
          },
          "metadata": {
            "tags": []
          },
          "execution_count": 111
        }
      ]
    },
    {
      "cell_type": "code",
      "metadata": {
        "id": "pvmNxo6tY8WY",
        "colab": {
          "base_uri": "https://localhost:8080/"
        },
        "outputId": "4ac79f5a-fb0e-499d-f13b-bcdac7e0b767"
      },
      "source": [
        "pipe = Pipeline([('scaler',StandardScaler()),\r\n",
        "                 ('model', SVR(kernel='linear'))])\r\n",
        "\r\n",
        "param_grid = [{'model__gamma': ['scale','auto'],\r\n",
        "               'model__C':[1.0, 0.1, 0.01]}]\r\n",
        "\r\n",
        "gs = GridSearchCV(\r\n",
        "    estimator=pipe,\r\n",
        "    param_grid=param_grid,\r\n",
        "    n_jobs = multiprocessing.cpu_count(),\r\n",
        "    cv =5,\r\n",
        "    verbose= True\r\n",
        ")\r\n",
        "\r\n",
        "gs.fit(X, y)"
      ],
      "execution_count": 112,
      "outputs": [
        {
          "output_type": "stream",
          "text": [
            "Fitting 5 folds for each of 6 candidates, totalling 30 fits\n"
          ],
          "name": "stdout"
        },
        {
          "output_type": "stream",
          "text": [
            "[Parallel(n_jobs=2)]: Using backend LokyBackend with 2 concurrent workers.\n",
            "[Parallel(n_jobs=2)]: Done  30 out of  30 | elapsed:    2.0s finished\n"
          ],
          "name": "stderr"
        },
        {
          "output_type": "execute_result",
          "data": {
            "text/plain": [
              "GridSearchCV(cv=5, error_score=nan,\n",
              "             estimator=Pipeline(memory=None,\n",
              "                                steps=[('scaler',\n",
              "                                        StandardScaler(copy=True,\n",
              "                                                       with_mean=True,\n",
              "                                                       with_std=True)),\n",
              "                                       ('model',\n",
              "                                        SVR(C=1.0, cache_size=200, coef0=0.0,\n",
              "                                            degree=3, epsilon=0.1,\n",
              "                                            gamma='scale', kernel='linear',\n",
              "                                            max_iter=-1, shrinking=True,\n",
              "                                            tol=0.001, verbose=False))],\n",
              "                                verbose=False),\n",
              "             iid='deprecated', n_jobs=2,\n",
              "             param_grid=[{'model__C': [1.0, 0.1, 0.01],\n",
              "                          'model__gamma': ['scale', 'auto']}],\n",
              "             pre_dispatch='2*n_jobs', refit=True, return_train_score=False,\n",
              "             scoring=None, verbose=True)"
            ]
          },
          "metadata": {
            "tags": []
          },
          "execution_count": 112
        }
      ]
    },
    {
      "cell_type": "code",
      "metadata": {
        "id": "wAXU-TMyY8B7",
        "colab": {
          "base_uri": "https://localhost:8080/"
        },
        "outputId": "21c9aa7f-a7fd-4b1c-f4be-2c869ca0dbc7"
      },
      "source": [
        "gs.best_estimator_"
      ],
      "execution_count": 113,
      "outputs": [
        {
          "output_type": "execute_result",
          "data": {
            "text/plain": [
              "Pipeline(memory=None,\n",
              "         steps=[('scaler',\n",
              "                 StandardScaler(copy=True, with_mean=True, with_std=True)),\n",
              "                ('model',\n",
              "                 SVR(C=1.0, cache_size=200, coef0=0.0, degree=3, epsilon=0.1,\n",
              "                     gamma='scale', kernel='linear', max_iter=-1,\n",
              "                     shrinking=True, tol=0.001, verbose=False))],\n",
              "         verbose=False)"
            ]
          },
          "metadata": {
            "tags": []
          },
          "execution_count": 113
        }
      ]
    },
    {
      "cell_type": "markdown",
      "metadata": {
        "id": "jJfcIODbN6ec"
      },
      "source": [
        "### 붓꽃"
      ]
    },
    {
      "cell_type": "markdown",
      "metadata": {
        "id": "w664JU1sxq-F"
      },
      "source": [
        ""
      ]
    },
    {
      "cell_type": "code",
      "metadata": {
        "id": "0a4QxOPmwC6m"
      },
      "source": [
        "X, y =load_iris(return_X_y=True)\r\n",
        "X_train, X_test, y_train, y_test = train_test_split(X, y, test_size=0.2)"
      ],
      "execution_count": 114,
      "outputs": []
    },
    {
      "cell_type": "code",
      "metadata": {
        "id": "zM-apROawC6-"
      },
      "source": [
        "scaler = StandardScaler()\r\n",
        "scaler.fit(X_train)\r\n",
        "X_train = scaler.transform(X_train)\r\n",
        "X_test = scaler.transform(X_test)"
      ],
      "execution_count": 115,
      "outputs": []
    },
    {
      "cell_type": "code",
      "metadata": {
        "colab": {
          "base_uri": "https://localhost:8080/"
        },
        "id": "8e9I6kDIwC6_",
        "outputId": "093d4c6f-a089-4fd1-bb17-51be65e40301"
      },
      "source": [
        "model = SVC(kernel='linear')\r\n",
        "model.fit(X_train, y_train)\r\n",
        "\r\n",
        "print(\"학습 데이터 점수 : {}\".format(model.score(X_train, y_train)))\r\n",
        "print(\"평가 데이터 점수 : {}\".format(model.score(X_test, y_test)))"
      ],
      "execution_count": 116,
      "outputs": [
        {
          "output_type": "stream",
          "text": [
            "학습 데이터 점수 : 0.9916666666666667\n",
            "평가 데이터 점수 : 0.9\n"
          ],
          "name": "stdout"
        }
      ]
    },
    {
      "cell_type": "code",
      "metadata": {
        "id": "9qZEj187wC7B"
      },
      "source": [
        "X_comp = TSNE(n_components=2).fit_transform(X)\r\n",
        "X0, X1 = X_comp[:,0], X_comp[:,1]\r\n",
        "xx, yy = make_meshgrid(X0, X1)"
      ],
      "execution_count": 121,
      "outputs": []
    },
    {
      "cell_type": "code",
      "metadata": {
        "colab": {
          "base_uri": "https://localhost:8080/",
          "height": 282
        },
        "id": "LOMxK4QswC7C",
        "outputId": "ba3914c1-1d94-4572-f520-4e6818fc9799"
      },
      "source": [
        "model.fit(X_comp, y)\r\n",
        "\r\n",
        "plot_contours(model, xx, yy, cmap=plt.cm.coolwarm, alpha=0.7)\r\n",
        "plt.scatter(X0, X1, c=y, cmap=plt.cm.coolwarm, s=20, edgecolors='k')"
      ],
      "execution_count": 127,
      "outputs": [
        {
          "output_type": "execute_result",
          "data": {
            "text/plain": [
              "<matplotlib.collections.PathCollection at 0x7fbe29ee2390>"
            ]
          },
          "metadata": {
            "tags": []
          },
          "execution_count": 127
        },
        {
          "output_type": "display_data",
          "data": {
            "image/png": "[encoded data removed]",
            "text/plain": [
              "<Figure size 432x288 with 1 Axes>"
            ]
          },
          "metadata": {
            "tags": []
          }
        }
      ]
    },
    {
      "cell_type": "code",
      "metadata": {
        "colab": {
          "base_uri": "https://localhost:8080/"
        },
        "id": "FJcncnUbwC7D",
        "outputId": "6c8fcaf0-0420-4922-ba35-0cefb81e535f"
      },
      "source": [
        "estimator = make_pipeline(StandardScaler(), SVC(kernel='linear'))\r\n",
        "\r\n",
        "cross_validate(\r\n",
        "    estimator=estimator,\r\n",
        "    X=X, y=y,\r\n",
        "    cv=5,\r\n",
        "    n_jobs=multiprocessing.cpu_count(),\r\n",
        "    verbose=True\r\n",
        ")"
      ],
      "execution_count": 128,
      "outputs": [
        {
          "output_type": "stream",
          "text": [
            "[Parallel(n_jobs=2)]: Using backend LokyBackend with 2 concurrent workers.\n",
            "[Parallel(n_jobs=2)]: Done   5 out of   5 | elapsed:    0.0s finished\n"
          ],
          "name": "stderr"
        },
        {
          "output_type": "execute_result",
          "data": {
            "text/plain": [
              "{'fit_time': array([0.00148606, 0.00207734, 0.00480413, 0.00135374, 0.00186801]),\n",
              " 'score_time': array([0.00046468, 0.00056958, 0.00061798, 0.00044441, 0.00040483]),\n",
              " 'test_score': array([0.96666667, 1.        , 0.93333333, 0.93333333, 1.        ])}"
            ]
          },
          "metadata": {
            "tags": []
          },
          "execution_count": 128
        }
      ]
    },
    {
      "cell_type": "code",
      "metadata": {
        "colab": {
          "base_uri": "https://localhost:8080/"
        },
        "id": "DQRtmHFTwC7D",
        "outputId": "455515d9-1597-47ce-b4ca-734e4f4b1618"
      },
      "source": [
        "pipe = Pipeline([('scaler',StandardScaler()),\r\n",
        "                 ('model', SVR(kernel='linear'))])\r\n",
        "\r\n",
        "param_grid = [{'model__gamma': ['scale','auto'],\r\n",
        "               'model__C':[1.0, 0.1, 0.01]}]\r\n",
        "\r\n",
        "gs = GridSearchCV(\r\n",
        "    estimator=pipe,\r\n",
        "    param_grid=param_grid,\r\n",
        "    n_jobs = multiprocessing.cpu_count(),\r\n",
        "    cv =5,\r\n",
        "    verbose= True\r\n",
        ")\r\n",
        "\r\n",
        "gs.fit(X, y)"
      ],
      "execution_count": 129,
      "outputs": [
        {
          "output_type": "stream",
          "text": [
            "Fitting 5 folds for each of 6 candidates, totalling 30 fits\n"
          ],
          "name": "stdout"
        },
        {
          "output_type": "stream",
          "text": [
            "[Parallel(n_jobs=2)]: Using backend LokyBackend with 2 concurrent workers.\n",
            "[Parallel(n_jobs=2)]: Done  30 out of  30 | elapsed:    0.1s finished\n"
          ],
          "name": "stderr"
        },
        {
          "output_type": "execute_result",
          "data": {
            "text/plain": [
              "GridSearchCV(cv=5, error_score=nan,\n",
              "             estimator=Pipeline(memory=None,\n",
              "                                steps=[('scaler',\n",
              "                                        StandardScaler(copy=True,\n",
              "                                                       with_mean=True,\n",
              "                                                       with_std=True)),\n",
              "                                       ('model',\n",
              "                                        SVR(C=1.0, cache_size=200, coef0=0.0,\n",
              "                                            degree=3, epsilon=0.1,\n",
              "                                            gamma='scale', kernel='linear',\n",
              "                                            max_iter=-1, shrinking=True,\n",
              "                                            tol=0.001, verbose=False))],\n",
              "                                verbose=False),\n",
              "             iid='deprecated', n_jobs=2,\n",
              "             param_grid=[{'model__C': [1.0, 0.1, 0.01],\n",
              "                          'model__gamma': ['scale', 'auto']}],\n",
              "             pre_dispatch='2*n_jobs', refit=True, return_train_score=False,\n",
              "             scoring=None, verbose=True)"
            ]
          },
          "metadata": {
            "tags": []
          },
          "execution_count": 129
        }
      ]
    },
    {
      "cell_type": "code",
      "metadata": {
        "colab": {
          "base_uri": "https://localhost:8080/"
        },
        "id": "o9Uu67MTwC7E",
        "outputId": "0d70c09c-cedb-4c42-f6c2-896a1cc7ce0d"
      },
      "source": [
        "gs.best_estimator_"
      ],
      "execution_count": 130,
      "outputs": [
        {
          "output_type": "execute_result",
          "data": {
            "text/plain": [
              "Pipeline(memory=None,\n",
              "         steps=[('scaler',\n",
              "                 StandardScaler(copy=True, with_mean=True, with_std=True)),\n",
              "                ('model',\n",
              "                 SVR(C=1.0, cache_size=200, coef0=0.0, degree=3, epsilon=0.1,\n",
              "                     gamma='scale', kernel='linear', max_iter=-1,\n",
              "                     shrinking=True, tol=0.001, verbose=False))],\n",
              "         verbose=False)"
            ]
          },
          "metadata": {
            "tags": []
          },
          "execution_count": 130
        }
      ]
    }
  ]
}