{
  "nbformat": 4,
  "nbformat_minor": 0,
  "metadata": {
    "colab": {
      "name": "결정트리(Decision Tree).ipynb",
      "provenance": [],
      "collapsed_sections": [
        "UfGQv6C2PJs7",
        "OGDgzHkAPmxa",
        "UWkYuZV5RmuT",
        "tEtaMTB4f34A"
      ],
      "authorship_tag": "ABX9TyPRF+6J1lNW9f297UT5P26f",
      "include_colab_link": true
    },
    "kernelspec": {
      "name": "python3",
      "display_name": "Python 3"
    }
  },
  "cells": [
    {
      "cell_type": "markdown",
      "metadata": {
        "id": "view-in-github",
        "colab_type": "text"
      },
      "source": [
        "<a href=\"https://colab.research.google.com/github/RoadoneP/Machine_learning/blob/main/DecisionTree%2CRandomForest/%EA%B2%B0%EC%A0%95%ED%8A%B8%EB%A6%AC(Decision_Tree).ipynb\" target=\"_parent\"><img src=\"https://colab.research.google.com/assets/colab-badge.svg\" alt=\"Open In Colab\"/></a>"
      ]
    },
    {
      "cell_type": "markdown",
      "metadata": {
        "id": "w8H_6DDiMTuo"
      },
      "source": [
        "#결정트리\r\n",
        "- 분류와 회귀에 사용되는 지도 학습 방법\r\n",
        "- 데이터 특성으로 부터 추론된 결정 규칙을 통해 값을 예측\r\n",
        "- if-then-else 결정 규칙을 통해 데이터 학습\r\n",
        "- 트리의 깊이가 깊을 수록 복잡한 모델\r\n",
        "- 결정 트리의 장점\r\n",
        " - 이해와 해석이 쉽다.\r\n",
        " - 시각화가 용이하다.\r\n",
        " - 많은 데이터 전처리가 필요하지 않다.\r\n",
        " - 수치형과 범주형 데이터를 모두 다룰 수 있다."
      ]
    },
    {
      "cell_type": "code",
      "metadata": {
        "id": "f9LY9fplMPnd"
      },
      "source": [
        "import pandas as pd\r\n",
        "import numpy as np\r\n",
        "import graphviz\r\n",
        "import multiprocessing\r\n",
        "import matplotlib.pyplot as plt\r\n",
        "plt.style.use(['seaborn-whitegrid'])"
      ],
      "execution_count": 1,
      "outputs": []
    },
    {
      "cell_type": "code",
      "metadata": {
        "id": "swIo2jl6M6VE"
      },
      "source": [
        "from sklearn.datasets import load_iris, load_wine, load_breast_cancer\r\n",
        "from sklearn.datasets import load_boston, load_diabetes\r\n",
        "from sklearn import tree\r\n",
        "#분류,회귀를 위한 모듈\r\n",
        "from sklearn.tree import DecisionTreeClassifier, DecisionTreeRegressor\r\n",
        "from sklearn.preprocessing import StandardScaler\r\n",
        "from sklearn.model_selection import cross_val_score\r\n",
        "from sklearn.pipeline import make_pipeline"
      ],
      "execution_count": 2,
      "outputs": []
    },
    {
      "cell_type": "markdown",
      "metadata": {
        "id": "VrHVbiRCNx8t"
      },
      "source": [
        "#분류를 위한 데이터"
      ]
    },
    {
      "cell_type": "markdown",
      "metadata": {
        "id": "8__GuYaxN3-l"
      },
      "source": [
        "## 붓꽃 데이터\r\n",
        "- 꽃받침(Sepal)과 꽃잎(Petal)의 길이와 폭을 가지고 세 개의 종을 분류"
      ]
    },
    {
      "cell_type": "code",
      "metadata": {
        "id": "pgc17GkLNzV6"
      },
      "source": [
        "iris = load_iris()"
      ],
      "execution_count": 3,
      "outputs": []
    },
    {
      "cell_type": "code",
      "metadata": {
        "colab": {
          "base_uri": "https://localhost:8080/",
          "height": 419
        },
        "id": "5k7w3sRoOJUU",
        "outputId": "ec039680-3cb1-4ded-e883-04823888ebc5"
      },
      "source": [
        "iris_df = pd.DataFrame(data=iris.data, columns= iris.feature_names)\r\n",
        "iris_df['target'] = iris.target\r\n",
        "iris_df"
      ],
      "execution_count": 4,
      "outputs": [
        {
          "output_type": "execute_result",
          "data": {
            "text/html": [
              "<div>\n",
              "<style scoped>\n",
              "    .dataframe tbody tr th:only-of-type {\n",
              "        vertical-align: middle;\n",
              "    }\n",
              "\n",
              "    .dataframe tbody tr th {\n",
              "        vertical-align: top;\n",
              "    }\n",
              "\n",
              "    .dataframe thead th {\n",
              "        text-align: right;\n",
              "    }\n",
              "</style>\n",
              "<table border=\"1\" class=\"dataframe\">\n",
              "  <thead>\n",
              "    <tr style=\"text-align: right;\">\n",
              "      <th></th>\n",
              "      <th>sepal length (cm)</th>\n",
              "      <th>sepal width (cm)</th>\n",
              "      <th>petal length (cm)</th>\n",
              "      <th>petal width (cm)</th>\n",
              "      <th>target</th>\n",
              "    </tr>\n",
              "  </thead>\n",
              "  <tbody>\n",
              "    <tr>\n",
              "      <th>0</th>\n",
              "      <td>5.1</td>\n",
              "      <td>3.5</td>\n",
              "      <td>1.4</td>\n",
              "      <td>0.2</td>\n",
              "      <td>0</td>\n",
              "    </tr>\n",
              "    <tr>\n",
              "      <th>1</th>\n",
              "      <td>4.9</td>\n",
              "      <td>3.0</td>\n",
              "      <td>1.4</td>\n",
              "      <td>0.2</td>\n",
              "      <td>0</td>\n",
              "    </tr>\n",
              "    <tr>\n",
              "      <th>2</th>\n",
              "      <td>4.7</td>\n",
              "      <td>3.2</td>\n",
              "      <td>1.3</td>\n",
              "      <td>0.2</td>\n",
              "      <td>0</td>\n",
              "    </tr>\n",
              "    <tr>\n",
              "      <th>3</th>\n",
              "      <td>4.6</td>\n",
              "      <td>3.1</td>\n",
              "      <td>1.5</td>\n",
              "      <td>0.2</td>\n",
              "      <td>0</td>\n",
              "    </tr>\n",
              "    <tr>\n",
              "      <th>4</th>\n",
              "      <td>5.0</td>\n",
              "      <td>3.6</td>\n",
              "      <td>1.4</td>\n",
              "      <td>0.2</td>\n",
              "      <td>0</td>\n",
              "    </tr>\n",
              "    <tr>\n",
              "      <th>...</th>\n",
              "      <td>...</td>\n",
              "      <td>...</td>\n",
              "      <td>...</td>\n",
              "      <td>...</td>\n",
              "      <td>...</td>\n",
              "    </tr>\n",
              "    <tr>\n",
              "      <th>145</th>\n",
              "      <td>6.7</td>\n",
              "      <td>3.0</td>\n",
              "      <td>5.2</td>\n",
              "      <td>2.3</td>\n",
              "      <td>2</td>\n",
              "    </tr>\n",
              "    <tr>\n",
              "      <th>146</th>\n",
              "      <td>6.3</td>\n",
              "      <td>2.5</td>\n",
              "      <td>5.0</td>\n",
              "      <td>1.9</td>\n",
              "      <td>2</td>\n",
              "    </tr>\n",
              "    <tr>\n",
              "      <th>147</th>\n",
              "      <td>6.5</td>\n",
              "      <td>3.0</td>\n",
              "      <td>5.2</td>\n",
              "      <td>2.0</td>\n",
              "      <td>2</td>\n",
              "    </tr>\n",
              "    <tr>\n",
              "      <th>148</th>\n",
              "      <td>6.2</td>\n",
              "      <td>3.4</td>\n",
              "      <td>5.4</td>\n",
              "      <td>2.3</td>\n",
              "      <td>2</td>\n",
              "    </tr>\n",
              "    <tr>\n",
              "      <th>149</th>\n",
              "      <td>5.9</td>\n",
              "      <td>3.0</td>\n",
              "      <td>5.1</td>\n",
              "      <td>1.8</td>\n",
              "      <td>2</td>\n",
              "    </tr>\n",
              "  </tbody>\n",
              "</table>\n",
              "<p>150 rows × 5 columns</p>\n",
              "</div>"
            ],
            "text/plain": [
              "     sepal length (cm)  sepal width (cm)  ...  petal width (cm)  target\n",
              "0                  5.1               3.5  ...               0.2       0\n",
              "1                  4.9               3.0  ...               0.2       0\n",
              "2                  4.7               3.2  ...               0.2       0\n",
              "3                  4.6               3.1  ...               0.2       0\n",
              "4                  5.0               3.6  ...               0.2       0\n",
              "..                 ...               ...  ...               ...     ...\n",
              "145                6.7               3.0  ...               2.3       2\n",
              "146                6.3               2.5  ...               1.9       2\n",
              "147                6.5               3.0  ...               2.0       2\n",
              "148                6.2               3.4  ...               2.3       2\n",
              "149                5.9               3.0  ...               1.8       2\n",
              "\n",
              "[150 rows x 5 columns]"
            ]
          },
          "metadata": {
            "tags": []
          },
          "execution_count": 4
        }
      ]
    },
    {
      "cell_type": "code",
      "metadata": {
        "id": "dVlVk9mHOW8S"
      },
      "source": [
        ""
      ],
      "execution_count": 4,
      "outputs": []
    },
    {
      "cell_type": "markdown",
      "metadata": {
        "id": "Pd0DhLckN-6C"
      },
      "source": [
        "## 와인데이터"
      ]
    },
    {
      "cell_type": "code",
      "metadata": {
        "id": "QgFPuwMlN_4J"
      },
      "source": [
        "wine = load_wine()"
      ],
      "execution_count": 5,
      "outputs": []
    },
    {
      "cell_type": "code",
      "metadata": {
        "colab": {
          "base_uri": "https://localhost:8080/",
          "height": 439
        },
        "id": "Kqa8M3VzO4ou",
        "outputId": "cab4790e-8d8f-42f2-ea96-691e02c8cb07"
      },
      "source": [
        "wine_df = pd.DataFrame(data=wine.data,columns=wine.feature_names)\r\n",
        "wine_df['target'] = wine.target\r\n",
        "wine_df"
      ],
      "execution_count": 6,
      "outputs": [
        {
          "output_type": "execute_result",
          "data": {
            "text/html": [
              "<div>\n",
              "<style scoped>\n",
              "    .dataframe tbody tr th:only-of-type {\n",
              "        vertical-align: middle;\n",
              "    }\n",
              "\n",
              "    .dataframe tbody tr th {\n",
              "        vertical-align: top;\n",
              "    }\n",
              "\n",
              "    .dataframe thead th {\n",
              "        text-align: right;\n",
              "    }\n",
              "</style>\n",
              "<table border=\"1\" class=\"dataframe\">\n",
              "  <thead>\n",
              "    <tr style=\"text-align: right;\">\n",
              "      <th></th>\n",
              "      <th>alcohol</th>\n",
              "      <th>malic_acid</th>\n",
              "      <th>ash</th>\n",
              "      <th>alcalinity_of_ash</th>\n",
              "      <th>magnesium</th>\n",
              "      <th>total_phenols</th>\n",
              "      <th>flavanoids</th>\n",
              "      <th>nonflavanoid_phenols</th>\n",
              "      <th>proanthocyanins</th>\n",
              "      <th>color_intensity</th>\n",
              "      <th>hue</th>\n",
              "      <th>od280/od315_of_diluted_wines</th>\n",
              "      <th>proline</th>\n",
              "      <th>target</th>\n",
              "    </tr>\n",
              "  </thead>\n",
              "  <tbody>\n",
              "    <tr>\n",
              "      <th>0</th>\n",
              "      <td>14.23</td>\n",
              "      <td>1.71</td>\n",
              "      <td>2.43</td>\n",
              "      <td>15.6</td>\n",
              "      <td>127.0</td>\n",
              "      <td>2.80</td>\n",
              "      <td>3.06</td>\n",
              "      <td>0.28</td>\n",
              "      <td>2.29</td>\n",
              "      <td>5.64</td>\n",
              "      <td>1.04</td>\n",
              "      <td>3.92</td>\n",
              "      <td>1065.0</td>\n",
              "      <td>0</td>\n",
              "    </tr>\n",
              "    <tr>\n",
              "      <th>1</th>\n",
              "      <td>13.20</td>\n",
              "      <td>1.78</td>\n",
              "      <td>2.14</td>\n",
              "      <td>11.2</td>\n",
              "      <td>100.0</td>\n",
              "      <td>2.65</td>\n",
              "      <td>2.76</td>\n",
              "      <td>0.26</td>\n",
              "      <td>1.28</td>\n",
              "      <td>4.38</td>\n",
              "      <td>1.05</td>\n",
              "      <td>3.40</td>\n",
              "      <td>1050.0</td>\n",
              "      <td>0</td>\n",
              "    </tr>\n",
              "    <tr>\n",
              "      <th>2</th>\n",
              "      <td>13.16</td>\n",
              "      <td>2.36</td>\n",
              "      <td>2.67</td>\n",
              "      <td>18.6</td>\n",
              "      <td>101.0</td>\n",
              "      <td>2.80</td>\n",
              "      <td>3.24</td>\n",
              "      <td>0.30</td>\n",
              "      <td>2.81</td>\n",
              "      <td>5.68</td>\n",
              "      <td>1.03</td>\n",
              "      <td>3.17</td>\n",
              "      <td>1185.0</td>\n",
              "      <td>0</td>\n",
              "    </tr>\n",
              "    <tr>\n",
              "      <th>3</th>\n",
              "      <td>14.37</td>\n",
              "      <td>1.95</td>\n",
              "      <td>2.50</td>\n",
              "      <td>16.8</td>\n",
              "      <td>113.0</td>\n",
              "      <td>3.85</td>\n",
              "      <td>3.49</td>\n",
              "      <td>0.24</td>\n",
              "      <td>2.18</td>\n",
              "      <td>7.80</td>\n",
              "      <td>0.86</td>\n",
              "      <td>3.45</td>\n",
              "      <td>1480.0</td>\n",
              "      <td>0</td>\n",
              "    </tr>\n",
              "    <tr>\n",
              "      <th>4</th>\n",
              "      <td>13.24</td>\n",
              "      <td>2.59</td>\n",
              "      <td>2.87</td>\n",
              "      <td>21.0</td>\n",
              "      <td>118.0</td>\n",
              "      <td>2.80</td>\n",
              "      <td>2.69</td>\n",
              "      <td>0.39</td>\n",
              "      <td>1.82</td>\n",
              "      <td>4.32</td>\n",
              "      <td>1.04</td>\n",
              "      <td>2.93</td>\n",
              "      <td>735.0</td>\n",
              "      <td>0</td>\n",
              "    </tr>\n",
              "    <tr>\n",
              "      <th>...</th>\n",
              "      <td>...</td>\n",
              "      <td>...</td>\n",
              "      <td>...</td>\n",
              "      <td>...</td>\n",
              "      <td>...</td>\n",
              "      <td>...</td>\n",
              "      <td>...</td>\n",
              "      <td>...</td>\n",
              "      <td>...</td>\n",
              "      <td>...</td>\n",
              "      <td>...</td>\n",
              "      <td>...</td>\n",
              "      <td>...</td>\n",
              "      <td>...</td>\n",
              "    </tr>\n",
              "    <tr>\n",
              "      <th>173</th>\n",
              "      <td>13.71</td>\n",
              "      <td>5.65</td>\n",
              "      <td>2.45</td>\n",
              "      <td>20.5</td>\n",
              "      <td>95.0</td>\n",
              "      <td>1.68</td>\n",
              "      <td>0.61</td>\n",
              "      <td>0.52</td>\n",
              "      <td>1.06</td>\n",
              "      <td>7.70</td>\n",
              "      <td>0.64</td>\n",
              "      <td>1.74</td>\n",
              "      <td>740.0</td>\n",
              "      <td>2</td>\n",
              "    </tr>\n",
              "    <tr>\n",
              "      <th>174</th>\n",
              "      <td>13.40</td>\n",
              "      <td>3.91</td>\n",
              "      <td>2.48</td>\n",
              "      <td>23.0</td>\n",
              "      <td>102.0</td>\n",
              "      <td>1.80</td>\n",
              "      <td>0.75</td>\n",
              "      <td>0.43</td>\n",
              "      <td>1.41</td>\n",
              "      <td>7.30</td>\n",
              "      <td>0.70</td>\n",
              "      <td>1.56</td>\n",
              "      <td>750.0</td>\n",
              "      <td>2</td>\n",
              "    </tr>\n",
              "    <tr>\n",
              "      <th>175</th>\n",
              "      <td>13.27</td>\n",
              "      <td>4.28</td>\n",
              "      <td>2.26</td>\n",
              "      <td>20.0</td>\n",
              "      <td>120.0</td>\n",
              "      <td>1.59</td>\n",
              "      <td>0.69</td>\n",
              "      <td>0.43</td>\n",
              "      <td>1.35</td>\n",
              "      <td>10.20</td>\n",
              "      <td>0.59</td>\n",
              "      <td>1.56</td>\n",
              "      <td>835.0</td>\n",
              "      <td>2</td>\n",
              "    </tr>\n",
              "    <tr>\n",
              "      <th>176</th>\n",
              "      <td>13.17</td>\n",
              "      <td>2.59</td>\n",
              "      <td>2.37</td>\n",
              "      <td>20.0</td>\n",
              "      <td>120.0</td>\n",
              "      <td>1.65</td>\n",
              "      <td>0.68</td>\n",
              "      <td>0.53</td>\n",
              "      <td>1.46</td>\n",
              "      <td>9.30</td>\n",
              "      <td>0.60</td>\n",
              "      <td>1.62</td>\n",
              "      <td>840.0</td>\n",
              "      <td>2</td>\n",
              "    </tr>\n",
              "    <tr>\n",
              "      <th>177</th>\n",
              "      <td>14.13</td>\n",
              "      <td>4.10</td>\n",
              "      <td>2.74</td>\n",
              "      <td>24.5</td>\n",
              "      <td>96.0</td>\n",
              "      <td>2.05</td>\n",
              "      <td>0.76</td>\n",
              "      <td>0.56</td>\n",
              "      <td>1.35</td>\n",
              "      <td>9.20</td>\n",
              "      <td>0.61</td>\n",
              "      <td>1.60</td>\n",
              "      <td>560.0</td>\n",
              "      <td>2</td>\n",
              "    </tr>\n",
              "  </tbody>\n",
              "</table>\n",
              "<p>178 rows × 14 columns</p>\n",
              "</div>"
            ],
            "text/plain": [
              "     alcohol  malic_acid   ash  ...  od280/od315_of_diluted_wines  proline  target\n",
              "0      14.23        1.71  2.43  ...                          3.92   1065.0       0\n",
              "1      13.20        1.78  2.14  ...                          3.40   1050.0       0\n",
              "2      13.16        2.36  2.67  ...                          3.17   1185.0       0\n",
              "3      14.37        1.95  2.50  ...                          3.45   1480.0       0\n",
              "4      13.24        2.59  2.87  ...                          2.93    735.0       0\n",
              "..       ...         ...   ...  ...                           ...      ...     ...\n",
              "173    13.71        5.65  2.45  ...                          1.74    740.0       2\n",
              "174    13.40        3.91  2.48  ...                          1.56    750.0       2\n",
              "175    13.27        4.28  2.26  ...                          1.56    835.0       2\n",
              "176    13.17        2.59  2.37  ...                          1.62    840.0       2\n",
              "177    14.13        4.10  2.74  ...                          1.60    560.0       2\n",
              "\n",
              "[178 rows x 14 columns]"
            ]
          },
          "metadata": {
            "tags": []
          },
          "execution_count": 6
        }
      ]
    },
    {
      "cell_type": "markdown",
      "metadata": {
        "id": "UfGQv6C2PJs7"
      },
      "source": [
        "## 유방암 데이터 (과제로 해보기)"
      ]
    },
    {
      "cell_type": "code",
      "metadata": {
        "id": "k03aw7bBPONr"
      },
      "source": [
        "cancer = load_breast_cancer()"
      ],
      "execution_count": 7,
      "outputs": []
    },
    {
      "cell_type": "code",
      "metadata": {
        "colab": {
          "base_uri": "https://localhost:8080/",
          "height": 0
        },
        "id": "sA4DkiZ4PNRW",
        "outputId": "2e6ac03e-897b-4fc6-e4a5-9b89bcc263ae"
      },
      "source": [
        "cancer_df = pd.DataFrame(data=cancer.data, columns=cancer.feature_names)\r\n",
        "cancer_df"
      ],
      "execution_count": 8,
      "outputs": [
        {
          "output_type": "execute_result",
          "data": {
            "text/html": [
              "<div>\n",
              "<style scoped>\n",
              "    .dataframe tbody tr th:only-of-type {\n",
              "        vertical-align: middle;\n",
              "    }\n",
              "\n",
              "    .dataframe tbody tr th {\n",
              "        vertical-align: top;\n",
              "    }\n",
              "\n",
              "    .dataframe thead th {\n",
              "        text-align: right;\n",
              "    }\n",
              "</style>\n",
              "<table border=\"1\" class=\"dataframe\">\n",
              "  <thead>\n",
              "    <tr style=\"text-align: right;\">\n",
              "      <th></th>\n",
              "      <th>mean radius</th>\n",
              "      <th>mean texture</th>\n",
              "      <th>mean perimeter</th>\n",
              "      <th>mean area</th>\n",
              "      <th>mean smoothness</th>\n",
              "      <th>mean compactness</th>\n",
              "      <th>mean concavity</th>\n",
              "      <th>mean concave points</th>\n",
              "      <th>mean symmetry</th>\n",
              "      <th>mean fractal dimension</th>\n",
              "      <th>radius error</th>\n",
              "      <th>texture error</th>\n",
              "      <th>perimeter error</th>\n",
              "      <th>area error</th>\n",
              "      <th>smoothness error</th>\n",
              "      <th>compactness error</th>\n",
              "      <th>concavity error</th>\n",
              "      <th>concave points error</th>\n",
              "      <th>symmetry error</th>\n",
              "      <th>fractal dimension error</th>\n",
              "      <th>worst radius</th>\n",
              "      <th>worst texture</th>\n",
              "      <th>worst perimeter</th>\n",
              "      <th>worst area</th>\n",
              "      <th>worst smoothness</th>\n",
              "      <th>worst compactness</th>\n",
              "      <th>worst concavity</th>\n",
              "      <th>worst concave points</th>\n",
              "      <th>worst symmetry</th>\n",
              "      <th>worst fractal dimension</th>\n",
              "    </tr>\n",
              "  </thead>\n",
              "  <tbody>\n",
              "    <tr>\n",
              "      <th>0</th>\n",
              "      <td>17.99</td>\n",
              "      <td>10.38</td>\n",
              "      <td>122.80</td>\n",
              "      <td>1001.0</td>\n",
              "      <td>0.11840</td>\n",
              "      <td>0.27760</td>\n",
              "      <td>0.30010</td>\n",
              "      <td>0.14710</td>\n",
              "      <td>0.2419</td>\n",
              "      <td>0.07871</td>\n",
              "      <td>1.0950</td>\n",
              "      <td>0.9053</td>\n",
              "      <td>8.589</td>\n",
              "      <td>153.40</td>\n",
              "      <td>0.006399</td>\n",
              "      <td>0.04904</td>\n",
              "      <td>0.05373</td>\n",
              "      <td>0.01587</td>\n",
              "      <td>0.03003</td>\n",
              "      <td>0.006193</td>\n",
              "      <td>25.380</td>\n",
              "      <td>17.33</td>\n",
              "      <td>184.60</td>\n",
              "      <td>2019.0</td>\n",
              "      <td>0.16220</td>\n",
              "      <td>0.66560</td>\n",
              "      <td>0.7119</td>\n",
              "      <td>0.2654</td>\n",
              "      <td>0.4601</td>\n",
              "      <td>0.11890</td>\n",
              "    </tr>\n",
              "    <tr>\n",
              "      <th>1</th>\n",
              "      <td>20.57</td>\n",
              "      <td>17.77</td>\n",
              "      <td>132.90</td>\n",
              "      <td>1326.0</td>\n",
              "      <td>0.08474</td>\n",
              "      <td>0.07864</td>\n",
              "      <td>0.08690</td>\n",
              "      <td>0.07017</td>\n",
              "      <td>0.1812</td>\n",
              "      <td>0.05667</td>\n",
              "      <td>0.5435</td>\n",
              "      <td>0.7339</td>\n",
              "      <td>3.398</td>\n",
              "      <td>74.08</td>\n",
              "      <td>0.005225</td>\n",
              "      <td>0.01308</td>\n",
              "      <td>0.01860</td>\n",
              "      <td>0.01340</td>\n",
              "      <td>0.01389</td>\n",
              "      <td>0.003532</td>\n",
              "      <td>24.990</td>\n",
              "      <td>23.41</td>\n",
              "      <td>158.80</td>\n",
              "      <td>1956.0</td>\n",
              "      <td>0.12380</td>\n",
              "      <td>0.18660</td>\n",
              "      <td>0.2416</td>\n",
              "      <td>0.1860</td>\n",
              "      <td>0.2750</td>\n",
              "      <td>0.08902</td>\n",
              "    </tr>\n",
              "    <tr>\n",
              "      <th>2</th>\n",
              "      <td>19.69</td>\n",
              "      <td>21.25</td>\n",
              "      <td>130.00</td>\n",
              "      <td>1203.0</td>\n",
              "      <td>0.10960</td>\n",
              "      <td>0.15990</td>\n",
              "      <td>0.19740</td>\n",
              "      <td>0.12790</td>\n",
              "      <td>0.2069</td>\n",
              "      <td>0.05999</td>\n",
              "      <td>0.7456</td>\n",
              "      <td>0.7869</td>\n",
              "      <td>4.585</td>\n",
              "      <td>94.03</td>\n",
              "      <td>0.006150</td>\n",
              "      <td>0.04006</td>\n",
              "      <td>0.03832</td>\n",
              "      <td>0.02058</td>\n",
              "      <td>0.02250</td>\n",
              "      <td>0.004571</td>\n",
              "      <td>23.570</td>\n",
              "      <td>25.53</td>\n",
              "      <td>152.50</td>\n",
              "      <td>1709.0</td>\n",
              "      <td>0.14440</td>\n",
              "      <td>0.42450</td>\n",
              "      <td>0.4504</td>\n",
              "      <td>0.2430</td>\n",
              "      <td>0.3613</td>\n",
              "      <td>0.08758</td>\n",
              "    </tr>\n",
              "    <tr>\n",
              "      <th>3</th>\n",
              "      <td>11.42</td>\n",
              "      <td>20.38</td>\n",
              "      <td>77.58</td>\n",
              "      <td>386.1</td>\n",
              "      <td>0.14250</td>\n",
              "      <td>0.28390</td>\n",
              "      <td>0.24140</td>\n",
              "      <td>0.10520</td>\n",
              "      <td>0.2597</td>\n",
              "      <td>0.09744</td>\n",
              "      <td>0.4956</td>\n",
              "      <td>1.1560</td>\n",
              "      <td>3.445</td>\n",
              "      <td>27.23</td>\n",
              "      <td>0.009110</td>\n",
              "      <td>0.07458</td>\n",
              "      <td>0.05661</td>\n",
              "      <td>0.01867</td>\n",
              "      <td>0.05963</td>\n",
              "      <td>0.009208</td>\n",
              "      <td>14.910</td>\n",
              "      <td>26.50</td>\n",
              "      <td>98.87</td>\n",
              "      <td>567.7</td>\n",
              "      <td>0.20980</td>\n",
              "      <td>0.86630</td>\n",
              "      <td>0.6869</td>\n",
              "      <td>0.2575</td>\n",
              "      <td>0.6638</td>\n",
              "      <td>0.17300</td>\n",
              "    </tr>\n",
              "    <tr>\n",
              "      <th>4</th>\n",
              "      <td>20.29</td>\n",
              "      <td>14.34</td>\n",
              "      <td>135.10</td>\n",
              "      <td>1297.0</td>\n",
              "      <td>0.10030</td>\n",
              "      <td>0.13280</td>\n",
              "      <td>0.19800</td>\n",
              "      <td>0.10430</td>\n",
              "      <td>0.1809</td>\n",
              "      <td>0.05883</td>\n",
              "      <td>0.7572</td>\n",
              "      <td>0.7813</td>\n",
              "      <td>5.438</td>\n",
              "      <td>94.44</td>\n",
              "      <td>0.011490</td>\n",
              "      <td>0.02461</td>\n",
              "      <td>0.05688</td>\n",
              "      <td>0.01885</td>\n",
              "      <td>0.01756</td>\n",
              "      <td>0.005115</td>\n",
              "      <td>22.540</td>\n",
              "      <td>16.67</td>\n",
              "      <td>152.20</td>\n",
              "      <td>1575.0</td>\n",
              "      <td>0.13740</td>\n",
              "      <td>0.20500</td>\n",
              "      <td>0.4000</td>\n",
              "      <td>0.1625</td>\n",
              "      <td>0.2364</td>\n",
              "      <td>0.07678</td>\n",
              "    </tr>\n",
              "    <tr>\n",
              "      <th>...</th>\n",
              "      <td>...</td>\n",
              "      <td>...</td>\n",
              "      <td>...</td>\n",
              "      <td>...</td>\n",
              "      <td>...</td>\n",
              "      <td>...</td>\n",
              "      <td>...</td>\n",
              "      <td>...</td>\n",
              "      <td>...</td>\n",
              "      <td>...</td>\n",
              "      <td>...</td>\n",
              "      <td>...</td>\n",
              "      <td>...</td>\n",
              "      <td>...</td>\n",
              "      <td>...</td>\n",
              "      <td>...</td>\n",
              "      <td>...</td>\n",
              "      <td>...</td>\n",
              "      <td>...</td>\n",
              "      <td>...</td>\n",
              "      <td>...</td>\n",
              "      <td>...</td>\n",
              "      <td>...</td>\n",
              "      <td>...</td>\n",
              "      <td>...</td>\n",
              "      <td>...</td>\n",
              "      <td>...</td>\n",
              "      <td>...</td>\n",
              "      <td>...</td>\n",
              "      <td>...</td>\n",
              "    </tr>\n",
              "    <tr>\n",
              "      <th>564</th>\n",
              "      <td>21.56</td>\n",
              "      <td>22.39</td>\n",
              "      <td>142.00</td>\n",
              "      <td>1479.0</td>\n",
              "      <td>0.11100</td>\n",
              "      <td>0.11590</td>\n",
              "      <td>0.24390</td>\n",
              "      <td>0.13890</td>\n",
              "      <td>0.1726</td>\n",
              "      <td>0.05623</td>\n",
              "      <td>1.1760</td>\n",
              "      <td>1.2560</td>\n",
              "      <td>7.673</td>\n",
              "      <td>158.70</td>\n",
              "      <td>0.010300</td>\n",
              "      <td>0.02891</td>\n",
              "      <td>0.05198</td>\n",
              "      <td>0.02454</td>\n",
              "      <td>0.01114</td>\n",
              "      <td>0.004239</td>\n",
              "      <td>25.450</td>\n",
              "      <td>26.40</td>\n",
              "      <td>166.10</td>\n",
              "      <td>2027.0</td>\n",
              "      <td>0.14100</td>\n",
              "      <td>0.21130</td>\n",
              "      <td>0.4107</td>\n",
              "      <td>0.2216</td>\n",
              "      <td>0.2060</td>\n",
              "      <td>0.07115</td>\n",
              "    </tr>\n",
              "    <tr>\n",
              "      <th>565</th>\n",
              "      <td>20.13</td>\n",
              "      <td>28.25</td>\n",
              "      <td>131.20</td>\n",
              "      <td>1261.0</td>\n",
              "      <td>0.09780</td>\n",
              "      <td>0.10340</td>\n",
              "      <td>0.14400</td>\n",
              "      <td>0.09791</td>\n",
              "      <td>0.1752</td>\n",
              "      <td>0.05533</td>\n",
              "      <td>0.7655</td>\n",
              "      <td>2.4630</td>\n",
              "      <td>5.203</td>\n",
              "      <td>99.04</td>\n",
              "      <td>0.005769</td>\n",
              "      <td>0.02423</td>\n",
              "      <td>0.03950</td>\n",
              "      <td>0.01678</td>\n",
              "      <td>0.01898</td>\n",
              "      <td>0.002498</td>\n",
              "      <td>23.690</td>\n",
              "      <td>38.25</td>\n",
              "      <td>155.00</td>\n",
              "      <td>1731.0</td>\n",
              "      <td>0.11660</td>\n",
              "      <td>0.19220</td>\n",
              "      <td>0.3215</td>\n",
              "      <td>0.1628</td>\n",
              "      <td>0.2572</td>\n",
              "      <td>0.06637</td>\n",
              "    </tr>\n",
              "    <tr>\n",
              "      <th>566</th>\n",
              "      <td>16.60</td>\n",
              "      <td>28.08</td>\n",
              "      <td>108.30</td>\n",
              "      <td>858.1</td>\n",
              "      <td>0.08455</td>\n",
              "      <td>0.10230</td>\n",
              "      <td>0.09251</td>\n",
              "      <td>0.05302</td>\n",
              "      <td>0.1590</td>\n",
              "      <td>0.05648</td>\n",
              "      <td>0.4564</td>\n",
              "      <td>1.0750</td>\n",
              "      <td>3.425</td>\n",
              "      <td>48.55</td>\n",
              "      <td>0.005903</td>\n",
              "      <td>0.03731</td>\n",
              "      <td>0.04730</td>\n",
              "      <td>0.01557</td>\n",
              "      <td>0.01318</td>\n",
              "      <td>0.003892</td>\n",
              "      <td>18.980</td>\n",
              "      <td>34.12</td>\n",
              "      <td>126.70</td>\n",
              "      <td>1124.0</td>\n",
              "      <td>0.11390</td>\n",
              "      <td>0.30940</td>\n",
              "      <td>0.3403</td>\n",
              "      <td>0.1418</td>\n",
              "      <td>0.2218</td>\n",
              "      <td>0.07820</td>\n",
              "    </tr>\n",
              "    <tr>\n",
              "      <th>567</th>\n",
              "      <td>20.60</td>\n",
              "      <td>29.33</td>\n",
              "      <td>140.10</td>\n",
              "      <td>1265.0</td>\n",
              "      <td>0.11780</td>\n",
              "      <td>0.27700</td>\n",
              "      <td>0.35140</td>\n",
              "      <td>0.15200</td>\n",
              "      <td>0.2397</td>\n",
              "      <td>0.07016</td>\n",
              "      <td>0.7260</td>\n",
              "      <td>1.5950</td>\n",
              "      <td>5.772</td>\n",
              "      <td>86.22</td>\n",
              "      <td>0.006522</td>\n",
              "      <td>0.06158</td>\n",
              "      <td>0.07117</td>\n",
              "      <td>0.01664</td>\n",
              "      <td>0.02324</td>\n",
              "      <td>0.006185</td>\n",
              "      <td>25.740</td>\n",
              "      <td>39.42</td>\n",
              "      <td>184.60</td>\n",
              "      <td>1821.0</td>\n",
              "      <td>0.16500</td>\n",
              "      <td>0.86810</td>\n",
              "      <td>0.9387</td>\n",
              "      <td>0.2650</td>\n",
              "      <td>0.4087</td>\n",
              "      <td>0.12400</td>\n",
              "    </tr>\n",
              "    <tr>\n",
              "      <th>568</th>\n",
              "      <td>7.76</td>\n",
              "      <td>24.54</td>\n",
              "      <td>47.92</td>\n",
              "      <td>181.0</td>\n",
              "      <td>0.05263</td>\n",
              "      <td>0.04362</td>\n",
              "      <td>0.00000</td>\n",
              "      <td>0.00000</td>\n",
              "      <td>0.1587</td>\n",
              "      <td>0.05884</td>\n",
              "      <td>0.3857</td>\n",
              "      <td>1.4280</td>\n",
              "      <td>2.548</td>\n",
              "      <td>19.15</td>\n",
              "      <td>0.007189</td>\n",
              "      <td>0.00466</td>\n",
              "      <td>0.00000</td>\n",
              "      <td>0.00000</td>\n",
              "      <td>0.02676</td>\n",
              "      <td>0.002783</td>\n",
              "      <td>9.456</td>\n",
              "      <td>30.37</td>\n",
              "      <td>59.16</td>\n",
              "      <td>268.6</td>\n",
              "      <td>0.08996</td>\n",
              "      <td>0.06444</td>\n",
              "      <td>0.0000</td>\n",
              "      <td>0.0000</td>\n",
              "      <td>0.2871</td>\n",
              "      <td>0.07039</td>\n",
              "    </tr>\n",
              "  </tbody>\n",
              "</table>\n",
              "<p>569 rows × 30 columns</p>\n",
              "</div>"
            ],
            "text/plain": [
              "     mean radius  mean texture  ...  worst symmetry  worst fractal dimension\n",
              "0          17.99         10.38  ...          0.4601                  0.11890\n",
              "1          20.57         17.77  ...          0.2750                  0.08902\n",
              "2          19.69         21.25  ...          0.3613                  0.08758\n",
              "3          11.42         20.38  ...          0.6638                  0.17300\n",
              "4          20.29         14.34  ...          0.2364                  0.07678\n",
              "..           ...           ...  ...             ...                      ...\n",
              "564        21.56         22.39  ...          0.2060                  0.07115\n",
              "565        20.13         28.25  ...          0.2572                  0.06637\n",
              "566        16.60         28.08  ...          0.2218                  0.07820\n",
              "567        20.60         29.33  ...          0.4087                  0.12400\n",
              "568         7.76         24.54  ...          0.2871                  0.07039\n",
              "\n",
              "[569 rows x 30 columns]"
            ]
          },
          "metadata": {
            "tags": []
          },
          "execution_count": 8
        }
      ]
    },
    {
      "cell_type": "markdown",
      "metadata": {
        "id": "Tb_t6olSPijE"
      },
      "source": [
        "# 회귀를 위한 데이터"
      ]
    },
    {
      "cell_type": "markdown",
      "metadata": {
        "id": "OGDgzHkAPmxa"
      },
      "source": [
        "## 보스턴 주책 가격 데이터"
      ]
    },
    {
      "cell_type": "code",
      "metadata": {
        "id": "8rjP4Q8pPmjq"
      },
      "source": [
        "boston = load_boston()"
      ],
      "execution_count": 9,
      "outputs": []
    },
    {
      "cell_type": "code",
      "metadata": {
        "colab": {
          "base_uri": "https://localhost:8080/",
          "height": 0
        },
        "id": "kCYxBwXpPkgE",
        "outputId": "8bc8f7b5-57e7-4c9b-cd69-15f63296aec6"
      },
      "source": [
        "boston_df = pd.DataFrame(data=boston.data, columns=boston.feature_names)\r\n",
        "boston_df['TARGET'] = boston.target\r\n",
        "boston_df"
      ],
      "execution_count": 10,
      "outputs": [
        {
          "output_type": "execute_result",
          "data": {
            "text/html": [
              "<div>\n",
              "<style scoped>\n",
              "    .dataframe tbody tr th:only-of-type {\n",
              "        vertical-align: middle;\n",
              "    }\n",
              "\n",
              "    .dataframe tbody tr th {\n",
              "        vertical-align: top;\n",
              "    }\n",
              "\n",
              "    .dataframe thead th {\n",
              "        text-align: right;\n",
              "    }\n",
              "</style>\n",
              "<table border=\"1\" class=\"dataframe\">\n",
              "  <thead>\n",
              "    <tr style=\"text-align: right;\">\n",
              "      <th></th>\n",
              "      <th>CRIM</th>\n",
              "      <th>ZN</th>\n",
              "      <th>INDUS</th>\n",
              "      <th>CHAS</th>\n",
              "      <th>NOX</th>\n",
              "      <th>RM</th>\n",
              "      <th>AGE</th>\n",
              "      <th>DIS</th>\n",
              "      <th>RAD</th>\n",
              "      <th>TAX</th>\n",
              "      <th>PTRATIO</th>\n",
              "      <th>B</th>\n",
              "      <th>LSTAT</th>\n",
              "      <th>TARGET</th>\n",
              "    </tr>\n",
              "  </thead>\n",
              "  <tbody>\n",
              "    <tr>\n",
              "      <th>0</th>\n",
              "      <td>0.00632</td>\n",
              "      <td>18.0</td>\n",
              "      <td>2.31</td>\n",
              "      <td>0.0</td>\n",
              "      <td>0.538</td>\n",
              "      <td>6.575</td>\n",
              "      <td>65.2</td>\n",
              "      <td>4.0900</td>\n",
              "      <td>1.0</td>\n",
              "      <td>296.0</td>\n",
              "      <td>15.3</td>\n",
              "      <td>396.90</td>\n",
              "      <td>4.98</td>\n",
              "      <td>24.0</td>\n",
              "    </tr>\n",
              "    <tr>\n",
              "      <th>1</th>\n",
              "      <td>0.02731</td>\n",
              "      <td>0.0</td>\n",
              "      <td>7.07</td>\n",
              "      <td>0.0</td>\n",
              "      <td>0.469</td>\n",
              "      <td>6.421</td>\n",
              "      <td>78.9</td>\n",
              "      <td>4.9671</td>\n",
              "      <td>2.0</td>\n",
              "      <td>242.0</td>\n",
              "      <td>17.8</td>\n",
              "      <td>396.90</td>\n",
              "      <td>9.14</td>\n",
              "      <td>21.6</td>\n",
              "    </tr>\n",
              "    <tr>\n",
              "      <th>2</th>\n",
              "      <td>0.02729</td>\n",
              "      <td>0.0</td>\n",
              "      <td>7.07</td>\n",
              "      <td>0.0</td>\n",
              "      <td>0.469</td>\n",
              "      <td>7.185</td>\n",
              "      <td>61.1</td>\n",
              "      <td>4.9671</td>\n",
              "      <td>2.0</td>\n",
              "      <td>242.0</td>\n",
              "      <td>17.8</td>\n",
              "      <td>392.83</td>\n",
              "      <td>4.03</td>\n",
              "      <td>34.7</td>\n",
              "    </tr>\n",
              "    <tr>\n",
              "      <th>3</th>\n",
              "      <td>0.03237</td>\n",
              "      <td>0.0</td>\n",
              "      <td>2.18</td>\n",
              "      <td>0.0</td>\n",
              "      <td>0.458</td>\n",
              "      <td>6.998</td>\n",
              "      <td>45.8</td>\n",
              "      <td>6.0622</td>\n",
              "      <td>3.0</td>\n",
              "      <td>222.0</td>\n",
              "      <td>18.7</td>\n",
              "      <td>394.63</td>\n",
              "      <td>2.94</td>\n",
              "      <td>33.4</td>\n",
              "    </tr>\n",
              "    <tr>\n",
              "      <th>4</th>\n",
              "      <td>0.06905</td>\n",
              "      <td>0.0</td>\n",
              "      <td>2.18</td>\n",
              "      <td>0.0</td>\n",
              "      <td>0.458</td>\n",
              "      <td>7.147</td>\n",
              "      <td>54.2</td>\n",
              "      <td>6.0622</td>\n",
              "      <td>3.0</td>\n",
              "      <td>222.0</td>\n",
              "      <td>18.7</td>\n",
              "      <td>396.90</td>\n",
              "      <td>5.33</td>\n",
              "      <td>36.2</td>\n",
              "    </tr>\n",
              "    <tr>\n",
              "      <th>...</th>\n",
              "      <td>...</td>\n",
              "      <td>...</td>\n",
              "      <td>...</td>\n",
              "      <td>...</td>\n",
              "      <td>...</td>\n",
              "      <td>...</td>\n",
              "      <td>...</td>\n",
              "      <td>...</td>\n",
              "      <td>...</td>\n",
              "      <td>...</td>\n",
              "      <td>...</td>\n",
              "      <td>...</td>\n",
              "      <td>...</td>\n",
              "      <td>...</td>\n",
              "    </tr>\n",
              "    <tr>\n",
              "      <th>501</th>\n",
              "      <td>0.06263</td>\n",
              "      <td>0.0</td>\n",
              "      <td>11.93</td>\n",
              "      <td>0.0</td>\n",
              "      <td>0.573</td>\n",
              "      <td>6.593</td>\n",
              "      <td>69.1</td>\n",
              "      <td>2.4786</td>\n",
              "      <td>1.0</td>\n",
              "      <td>273.0</td>\n",
              "      <td>21.0</td>\n",
              "      <td>391.99</td>\n",
              "      <td>9.67</td>\n",
              "      <td>22.4</td>\n",
              "    </tr>\n",
              "    <tr>\n",
              "      <th>502</th>\n",
              "      <td>0.04527</td>\n",
              "      <td>0.0</td>\n",
              "      <td>11.93</td>\n",
              "      <td>0.0</td>\n",
              "      <td>0.573</td>\n",
              "      <td>6.120</td>\n",
              "      <td>76.7</td>\n",
              "      <td>2.2875</td>\n",
              "      <td>1.0</td>\n",
              "      <td>273.0</td>\n",
              "      <td>21.0</td>\n",
              "      <td>396.90</td>\n",
              "      <td>9.08</td>\n",
              "      <td>20.6</td>\n",
              "    </tr>\n",
              "    <tr>\n",
              "      <th>503</th>\n",
              "      <td>0.06076</td>\n",
              "      <td>0.0</td>\n",
              "      <td>11.93</td>\n",
              "      <td>0.0</td>\n",
              "      <td>0.573</td>\n",
              "      <td>6.976</td>\n",
              "      <td>91.0</td>\n",
              "      <td>2.1675</td>\n",
              "      <td>1.0</td>\n",
              "      <td>273.0</td>\n",
              "      <td>21.0</td>\n",
              "      <td>396.90</td>\n",
              "      <td>5.64</td>\n",
              "      <td>23.9</td>\n",
              "    </tr>\n",
              "    <tr>\n",
              "      <th>504</th>\n",
              "      <td>0.10959</td>\n",
              "      <td>0.0</td>\n",
              "      <td>11.93</td>\n",
              "      <td>0.0</td>\n",
              "      <td>0.573</td>\n",
              "      <td>6.794</td>\n",
              "      <td>89.3</td>\n",
              "      <td>2.3889</td>\n",
              "      <td>1.0</td>\n",
              "      <td>273.0</td>\n",
              "      <td>21.0</td>\n",
              "      <td>393.45</td>\n",
              "      <td>6.48</td>\n",
              "      <td>22.0</td>\n",
              "    </tr>\n",
              "    <tr>\n",
              "      <th>505</th>\n",
              "      <td>0.04741</td>\n",
              "      <td>0.0</td>\n",
              "      <td>11.93</td>\n",
              "      <td>0.0</td>\n",
              "      <td>0.573</td>\n",
              "      <td>6.030</td>\n",
              "      <td>80.8</td>\n",
              "      <td>2.5050</td>\n",
              "      <td>1.0</td>\n",
              "      <td>273.0</td>\n",
              "      <td>21.0</td>\n",
              "      <td>396.90</td>\n",
              "      <td>7.88</td>\n",
              "      <td>11.9</td>\n",
              "    </tr>\n",
              "  </tbody>\n",
              "</table>\n",
              "<p>506 rows × 14 columns</p>\n",
              "</div>"
            ],
            "text/plain": [
              "        CRIM    ZN  INDUS  CHAS    NOX  ...    TAX  PTRATIO       B  LSTAT  TARGET\n",
              "0    0.00632  18.0   2.31   0.0  0.538  ...  296.0     15.3  396.90   4.98    24.0\n",
              "1    0.02731   0.0   7.07   0.0  0.469  ...  242.0     17.8  396.90   9.14    21.6\n",
              "2    0.02729   0.0   7.07   0.0  0.469  ...  242.0     17.8  392.83   4.03    34.7\n",
              "3    0.03237   0.0   2.18   0.0  0.458  ...  222.0     18.7  394.63   2.94    33.4\n",
              "4    0.06905   0.0   2.18   0.0  0.458  ...  222.0     18.7  396.90   5.33    36.2\n",
              "..       ...   ...    ...   ...    ...  ...    ...      ...     ...    ...     ...\n",
              "501  0.06263   0.0  11.93   0.0  0.573  ...  273.0     21.0  391.99   9.67    22.4\n",
              "502  0.04527   0.0  11.93   0.0  0.573  ...  273.0     21.0  396.90   9.08    20.6\n",
              "503  0.06076   0.0  11.93   0.0  0.573  ...  273.0     21.0  396.90   5.64    23.9\n",
              "504  0.10959   0.0  11.93   0.0  0.573  ...  273.0     21.0  393.45   6.48    22.0\n",
              "505  0.04741   0.0  11.93   0.0  0.573  ...  273.0     21.0  396.90   7.88    11.9\n",
              "\n",
              "[506 rows x 14 columns]"
            ]
          },
          "metadata": {
            "tags": []
          },
          "execution_count": 10
        }
      ]
    },
    {
      "cell_type": "markdown",
      "metadata": {
        "id": "IZDCMmZTP4qU"
      },
      "source": [
        "## 당뇨병 데이터"
      ]
    },
    {
      "cell_type": "code",
      "metadata": {
        "id": "j4dQCFMaP001"
      },
      "source": [
        "diabetes = load_diabetes() "
      ],
      "execution_count": 11,
      "outputs": []
    },
    {
      "cell_type": "code",
      "metadata": {
        "colab": {
          "base_uri": "https://localhost:8080/",
          "height": 439
        },
        "id": "gSkbUS5-P8tP",
        "outputId": "79333116-c68d-4cdf-d60d-1c9ab3ab5955"
      },
      "source": [
        "diabetes_df = pd.DataFrame(data=diabetes.data , columns=diabetes.feature_names)\r\n",
        "diabetes_df['target'] = diabetes.target\r\n",
        "diabetes_df"
      ],
      "execution_count": 12,
      "outputs": [
        {
          "output_type": "execute_result",
          "data": {
            "text/html": [
              "<div>\n",
              "<style scoped>\n",
              "    .dataframe tbody tr th:only-of-type {\n",
              "        vertical-align: middle;\n",
              "    }\n",
              "\n",
              "    .dataframe tbody tr th {\n",
              "        vertical-align: top;\n",
              "    }\n",
              "\n",
              "    .dataframe thead th {\n",
              "        text-align: right;\n",
              "    }\n",
              "</style>\n",
              "<table border=\"1\" class=\"dataframe\">\n",
              "  <thead>\n",
              "    <tr style=\"text-align: right;\">\n",
              "      <th></th>\n",
              "      <th>age</th>\n",
              "      <th>sex</th>\n",
              "      <th>bmi</th>\n",
              "      <th>bp</th>\n",
              "      <th>s1</th>\n",
              "      <th>s2</th>\n",
              "      <th>s3</th>\n",
              "      <th>s4</th>\n",
              "      <th>s5</th>\n",
              "      <th>s6</th>\n",
              "      <th>target</th>\n",
              "    </tr>\n",
              "  </thead>\n",
              "  <tbody>\n",
              "    <tr>\n",
              "      <th>0</th>\n",
              "      <td>0.038076</td>\n",
              "      <td>0.050680</td>\n",
              "      <td>0.061696</td>\n",
              "      <td>0.021872</td>\n",
              "      <td>-0.044223</td>\n",
              "      <td>-0.034821</td>\n",
              "      <td>-0.043401</td>\n",
              "      <td>-0.002592</td>\n",
              "      <td>0.019908</td>\n",
              "      <td>-0.017646</td>\n",
              "      <td>151.0</td>\n",
              "    </tr>\n",
              "    <tr>\n",
              "      <th>1</th>\n",
              "      <td>-0.001882</td>\n",
              "      <td>-0.044642</td>\n",
              "      <td>-0.051474</td>\n",
              "      <td>-0.026328</td>\n",
              "      <td>-0.008449</td>\n",
              "      <td>-0.019163</td>\n",
              "      <td>0.074412</td>\n",
              "      <td>-0.039493</td>\n",
              "      <td>-0.068330</td>\n",
              "      <td>-0.092204</td>\n",
              "      <td>75.0</td>\n",
              "    </tr>\n",
              "    <tr>\n",
              "      <th>2</th>\n",
              "      <td>0.085299</td>\n",
              "      <td>0.050680</td>\n",
              "      <td>0.044451</td>\n",
              "      <td>-0.005671</td>\n",
              "      <td>-0.045599</td>\n",
              "      <td>-0.034194</td>\n",
              "      <td>-0.032356</td>\n",
              "      <td>-0.002592</td>\n",
              "      <td>0.002864</td>\n",
              "      <td>-0.025930</td>\n",
              "      <td>141.0</td>\n",
              "    </tr>\n",
              "    <tr>\n",
              "      <th>3</th>\n",
              "      <td>-0.089063</td>\n",
              "      <td>-0.044642</td>\n",
              "      <td>-0.011595</td>\n",
              "      <td>-0.036656</td>\n",
              "      <td>0.012191</td>\n",
              "      <td>0.024991</td>\n",
              "      <td>-0.036038</td>\n",
              "      <td>0.034309</td>\n",
              "      <td>0.022692</td>\n",
              "      <td>-0.009362</td>\n",
              "      <td>206.0</td>\n",
              "    </tr>\n",
              "    <tr>\n",
              "      <th>4</th>\n",
              "      <td>0.005383</td>\n",
              "      <td>-0.044642</td>\n",
              "      <td>-0.036385</td>\n",
              "      <td>0.021872</td>\n",
              "      <td>0.003935</td>\n",
              "      <td>0.015596</td>\n",
              "      <td>0.008142</td>\n",
              "      <td>-0.002592</td>\n",
              "      <td>-0.031991</td>\n",
              "      <td>-0.046641</td>\n",
              "      <td>135.0</td>\n",
              "    </tr>\n",
              "    <tr>\n",
              "      <th>...</th>\n",
              "      <td>...</td>\n",
              "      <td>...</td>\n",
              "      <td>...</td>\n",
              "      <td>...</td>\n",
              "      <td>...</td>\n",
              "      <td>...</td>\n",
              "      <td>...</td>\n",
              "      <td>...</td>\n",
              "      <td>...</td>\n",
              "      <td>...</td>\n",
              "      <td>...</td>\n",
              "    </tr>\n",
              "    <tr>\n",
              "      <th>437</th>\n",
              "      <td>0.041708</td>\n",
              "      <td>0.050680</td>\n",
              "      <td>0.019662</td>\n",
              "      <td>0.059744</td>\n",
              "      <td>-0.005697</td>\n",
              "      <td>-0.002566</td>\n",
              "      <td>-0.028674</td>\n",
              "      <td>-0.002592</td>\n",
              "      <td>0.031193</td>\n",
              "      <td>0.007207</td>\n",
              "      <td>178.0</td>\n",
              "    </tr>\n",
              "    <tr>\n",
              "      <th>438</th>\n",
              "      <td>-0.005515</td>\n",
              "      <td>0.050680</td>\n",
              "      <td>-0.015906</td>\n",
              "      <td>-0.067642</td>\n",
              "      <td>0.049341</td>\n",
              "      <td>0.079165</td>\n",
              "      <td>-0.028674</td>\n",
              "      <td>0.034309</td>\n",
              "      <td>-0.018118</td>\n",
              "      <td>0.044485</td>\n",
              "      <td>104.0</td>\n",
              "    </tr>\n",
              "    <tr>\n",
              "      <th>439</th>\n",
              "      <td>0.041708</td>\n",
              "      <td>0.050680</td>\n",
              "      <td>-0.015906</td>\n",
              "      <td>0.017282</td>\n",
              "      <td>-0.037344</td>\n",
              "      <td>-0.013840</td>\n",
              "      <td>-0.024993</td>\n",
              "      <td>-0.011080</td>\n",
              "      <td>-0.046879</td>\n",
              "      <td>0.015491</td>\n",
              "      <td>132.0</td>\n",
              "    </tr>\n",
              "    <tr>\n",
              "      <th>440</th>\n",
              "      <td>-0.045472</td>\n",
              "      <td>-0.044642</td>\n",
              "      <td>0.039062</td>\n",
              "      <td>0.001215</td>\n",
              "      <td>0.016318</td>\n",
              "      <td>0.015283</td>\n",
              "      <td>-0.028674</td>\n",
              "      <td>0.026560</td>\n",
              "      <td>0.044528</td>\n",
              "      <td>-0.025930</td>\n",
              "      <td>220.0</td>\n",
              "    </tr>\n",
              "    <tr>\n",
              "      <th>441</th>\n",
              "      <td>-0.045472</td>\n",
              "      <td>-0.044642</td>\n",
              "      <td>-0.073030</td>\n",
              "      <td>-0.081414</td>\n",
              "      <td>0.083740</td>\n",
              "      <td>0.027809</td>\n",
              "      <td>0.173816</td>\n",
              "      <td>-0.039493</td>\n",
              "      <td>-0.004220</td>\n",
              "      <td>0.003064</td>\n",
              "      <td>57.0</td>\n",
              "    </tr>\n",
              "  </tbody>\n",
              "</table>\n",
              "<p>442 rows × 11 columns</p>\n",
              "</div>"
            ],
            "text/plain": [
              "          age       sex       bmi  ...        s5        s6  target\n",
              "0    0.038076  0.050680  0.061696  ...  0.019908 -0.017646   151.0\n",
              "1   -0.001882 -0.044642 -0.051474  ... -0.068330 -0.092204    75.0\n",
              "2    0.085299  0.050680  0.044451  ...  0.002864 -0.025930   141.0\n",
              "3   -0.089063 -0.044642 -0.011595  ...  0.022692 -0.009362   206.0\n",
              "4    0.005383 -0.044642 -0.036385  ... -0.031991 -0.046641   135.0\n",
              "..        ...       ...       ...  ...       ...       ...     ...\n",
              "437  0.041708  0.050680  0.019662  ...  0.031193  0.007207   178.0\n",
              "438 -0.005515  0.050680 -0.015906  ... -0.018118  0.044485   104.0\n",
              "439  0.041708  0.050680 -0.015906  ... -0.046879  0.015491   132.0\n",
              "440 -0.045472 -0.044642  0.039062  ...  0.044528 -0.025930   220.0\n",
              "441 -0.045472 -0.044642 -0.073030  ... -0.004220  0.003064    57.0\n",
              "\n",
              "[442 rows x 11 columns]"
            ]
          },
          "metadata": {
            "tags": []
          },
          "execution_count": 12
        }
      ]
    },
    {
      "cell_type": "markdown",
      "metadata": {
        "id": "cTp2J18hQYBs"
      },
      "source": [
        "# 분류 - **`DecisionTreeClassifier()`**\r\n",
        "  - `DecisionTreeClassifier`는 분류를 위한 결정트리 모델\r\n",
        "  - 두개의 배열 X,y를 입력받음\r\n",
        "    - X는 [n_smaples,n_features]크기의 데이터 특성 배열\r\n",
        "    - y는 [n_samples] 크기의 정답 배열\r\n"
      ]
    },
    {
      "cell_type": "code",
      "metadata": {
        "id": "vQB5Or6zQLHl"
      },
      "source": [
        "X= [[0, 0],[1, 1]]\r\n",
        "y= [0, 1]\r\n",
        "\r\n",
        "model = tree.DecisionTreeClassifier()\r\n",
        "model = model.fit(X,y)"
      ],
      "execution_count": 13,
      "outputs": []
    },
    {
      "cell_type": "code",
      "metadata": {
        "colab": {
          "base_uri": "https://localhost:8080/"
        },
        "id": "shnKOZzjRIwp",
        "outputId": "24caf292-88e2-469c-bdfb-512b35e1bcf8"
      },
      "source": [
        "model.predict([[2., 2.]])"
      ],
      "execution_count": 14,
      "outputs": [
        {
          "output_type": "execute_result",
          "data": {
            "text/plain": [
              "array([1])"
            ]
          },
          "metadata": {
            "tags": []
          },
          "execution_count": 14
        }
      ]
    },
    {
      "cell_type": "code",
      "metadata": {
        "colab": {
          "base_uri": "https://localhost:8080/"
        },
        "id": "r1JVw7l-RLgK",
        "outputId": "f8b3b949-baa8-4a14-9bd1-50605f21f8f3"
      },
      "source": [
        "#확률결과가 2를 넣었을때 1로 갔다는 것을 알 수 있음\r\n",
        "model.predict_proba([[2., 2.]])"
      ],
      "execution_count": 15,
      "outputs": [
        {
          "output_type": "execute_result",
          "data": {
            "text/plain": [
              "array([[0., 1.]])"
            ]
          },
          "metadata": {
            "tags": []
          },
          "execution_count": 15
        }
      ]
    },
    {
      "cell_type": "markdown",
      "metadata": {
        "id": "UWkYuZV5RmuT"
      },
      "source": [
        " # 붓꽃 데이터 학습"
      ]
    },
    {
      "cell_type": "markdown",
      "metadata": {
        "id": "4OK30PrIRrKd"
      },
      "source": [
        "## 교차 검증"
      ]
    },
    {
      "cell_type": "markdown",
      "metadata": {
        "id": "9U5jz8zhRyaZ"
      },
      "source": [
        "### 전처리 없이 학습"
      ]
    },
    {
      "cell_type": "code",
      "metadata": {
        "id": "13H_owVWRQ9I"
      },
      "source": [
        "model = DecisionTreeClassifier()"
      ],
      "execution_count": 16,
      "outputs": []
    },
    {
      "cell_type": "code",
      "metadata": {
        "colab": {
          "base_uri": "https://localhost:8080/"
        },
        "id": "dOqhDpwDR4xx",
        "outputId": "8e032efe-33ef-4f9f-c9a7-1c92bbd4e7ef"
      },
      "source": [
        "scores = cross_val_score(\r\n",
        "    estimator = model,\r\n",
        "    X= iris.data, y = iris.target,\r\n",
        "    cv=5, #5번 교차검증 한다.\r\n",
        "    n_jobs=multiprocessing.cpu_count()\r\n",
        ")\r\n",
        "scores"
      ],
      "execution_count": 17,
      "outputs": [
        {
          "output_type": "execute_result",
          "data": {
            "text/plain": [
              "array([0.96666667, 0.96666667, 0.9       , 0.93333333, 1.        ])"
            ]
          },
          "metadata": {
            "tags": []
          },
          "execution_count": 17
        }
      ]
    },
    {
      "cell_type": "code",
      "metadata": {
        "colab": {
          "base_uri": "https://localhost:8080/"
        },
        "id": "zh1zH82ISKoV",
        "outputId": "6f091318-30ce-484f-df76-36a844ff04d6"
      },
      "source": [
        "print(\"교차 검증 평균 점수: {:.2f}\".format(scores.mean()))"
      ],
      "execution_count": 18,
      "outputs": [
        {
          "output_type": "stream",
          "text": [
            "교차 검증 평균 점수: 0.95\n"
          ],
          "name": "stdout"
        }
      ]
    },
    {
      "cell_type": "markdown",
      "metadata": {
        "id": "GRq9RsSjUm0H"
      },
      "source": [
        "## 전처리 후 학습\r\n",
        " - 결정 트리는 규칙을 학습하기 때문에 전처리(정규화)에 큰 영향을 받지 않는다."
      ]
    },
    {
      "cell_type": "code",
      "metadata": {
        "id": "kpN-hI_ETmTj"
      },
      "source": [
        "model = make_pipeline(\r\n",
        "    StandardScaler(),\r\n",
        "    DecisionTreeClassifier(),\r\n",
        ")"
      ],
      "execution_count": 20,
      "outputs": []
    },
    {
      "cell_type": "markdown",
      "metadata": {
        "id": "ppVJ2OyhVJQJ"
      },
      "source": [
        "**파이프라인의 목적**\r\n",
        "- to assemble several steps that can be cross-validated together while setting different parameters\r\n",
        "데이터변환(전처리)와 모델을 연결하여 코드를 줄이고 재사용성을 높이기위함"
      ]
    },
    {
      "cell_type": "code",
      "metadata": {
        "colab": {
          "base_uri": "https://localhost:8080/"
        },
        "id": "0_3qajrjVLGS",
        "outputId": "381cfe71-f714-4b6f-cff6-cacdb071c637"
      },
      "source": [
        "scores = cross_val_score(\r\n",
        "    estimator = model,\r\n",
        "    X = iris.data, y = iris.target,\r\n",
        "    cv=5,\r\n",
        "    n_jobs = multiprocessing.cpu_count()\r\n",
        ")\r\n",
        "scores"
      ],
      "execution_count": 21,
      "outputs": [
        {
          "output_type": "execute_result",
          "data": {
            "text/plain": [
              "array([0.96666667, 0.96666667, 0.9       , 0.96666667, 1.        ])"
            ]
          },
          "metadata": {
            "tags": []
          },
          "execution_count": 21
        }
      ]
    },
    {
      "cell_type": "code",
      "metadata": {
        "colab": {
          "base_uri": "https://localhost:8080/"
        },
        "id": "miVIJhzuV6m8",
        "outputId": "10f15b09-2918-4ac2-ad59-adc1ffb60e0e"
      },
      "source": [
        "print(\"교차 검증 평균 점수: {:.2f}\".format(scores.mean()))"
      ],
      "execution_count": 22,
      "outputs": [
        {
          "output_type": "stream",
          "text": [
            "교차 검증 평균 점수: 0.96\n"
          ],
          "name": "stdout"
        }
      ]
    },
    {
      "cell_type": "markdown",
      "metadata": {
        "id": "rbyC5k9wXPCE"
      },
      "source": [
        "### 학습된 결정 트리 시각화"
      ]
    },
    {
      "cell_type": "code",
      "metadata": {
        "colab": {
          "base_uri": "https://localhost:8080/"
        },
        "id": "htGHe9JiXOFJ",
        "outputId": "758a287e-b087-439b-f4c9-35cbb91b0b27"
      },
      "source": [
        "model = DecisionTreeClassifier()\r\n",
        "model.fit(iris.data, iris.target)"
      ],
      "execution_count": 23,
      "outputs": [
        {
          "output_type": "execute_result",
          "data": {
            "text/plain": [
              "DecisionTreeClassifier(ccp_alpha=0.0, class_weight=None, criterion='gini',\n",
              "                       max_depth=None, max_features=None, max_leaf_nodes=None,\n",
              "                       min_impurity_decrease=0.0, min_impurity_split=None,\n",
              "                       min_samples_leaf=1, min_samples_split=2,\n",
              "                       min_weight_fraction_leaf=0.0, presort='deprecated',\n",
              "                       random_state=None, splitter='best')"
            ]
          },
          "metadata": {
            "tags": []
          },
          "execution_count": 23
        }
      ]
    },
    {
      "cell_type": "markdown",
      "metadata": {
        "id": "5jB-MaQpXX0E"
      },
      "source": [
        "### 텍스트를 통한 시각화"
      ]
    },
    {
      "cell_type": "code",
      "metadata": {
        "colab": {
          "base_uri": "https://localhost:8080/"
        },
        "id": "S7dJnsyaXVXA",
        "outputId": "16800ff6-1d9a-45a6-df9a-418e8c1aa8b9"
      },
      "source": [
        "r = tree.export_text(decision_tree=model,\r\n",
        "                     feature_names= iris.feature_names)\r\n",
        "print(r)"
      ],
      "execution_count": 24,
      "outputs": [
        {
          "output_type": "stream",
          "text": [
            "|--- petal length (cm) <= 2.45\n",
            "|   |--- class: 0\n",
            "|--- petal length (cm) >  2.45\n",
            "|   |--- petal width (cm) <= 1.75\n",
            "|   |   |--- petal length (cm) <= 4.95\n",
            "|   |   |   |--- petal width (cm) <= 1.65\n",
            "|   |   |   |   |--- class: 1\n",
            "|   |   |   |--- petal width (cm) >  1.65\n",
            "|   |   |   |   |--- class: 2\n",
            "|   |   |--- petal length (cm) >  4.95\n",
            "|   |   |   |--- petal width (cm) <= 1.55\n",
            "|   |   |   |   |--- class: 2\n",
            "|   |   |   |--- petal width (cm) >  1.55\n",
            "|   |   |   |   |--- petal length (cm) <= 5.45\n",
            "|   |   |   |   |   |--- class: 1\n",
            "|   |   |   |   |--- petal length (cm) >  5.45\n",
            "|   |   |   |   |   |--- class: 2\n",
            "|   |--- petal width (cm) >  1.75\n",
            "|   |   |--- petal length (cm) <= 4.85\n",
            "|   |   |   |--- sepal width (cm) <= 3.10\n",
            "|   |   |   |   |--- class: 2\n",
            "|   |   |   |--- sepal width (cm) >  3.10\n",
            "|   |   |   |   |--- class: 1\n",
            "|   |   |--- petal length (cm) >  4.85\n",
            "|   |   |   |--- class: 2\n",
            "\n"
          ],
          "name": "stdout"
        }
      ]
    },
    {
      "cell_type": "markdown",
      "metadata": {
        "id": "mc2n1xZNXzy-"
      },
      "source": [
        "### plot_tree를 이용한 시각화"
      ]
    },
    {
      "cell_type": "code",
      "metadata": {
        "colab": {
          "base_uri": "https://localhost:8080/",
          "height": 0
        },
        "id": "lBu5_NocXi59",
        "outputId": "f2fe17ea-bd8a-462f-e973-3f6eae53245c"
      },
      "source": [
        "tree.plot_tree(model)"
      ],
      "execution_count": 25,
      "outputs": [
        {
          "output_type": "execute_result",
          "data": {
            "text/plain": [
              "[Text(167.4, 199.32, 'X[2] <= 2.45\\ngini = 0.667\\nsamples = 150\\nvalue = [50, 50, 50]'),\n",
              " Text(141.64615384615385, 163.07999999999998, 'gini = 0.0\\nsamples = 50\\nvalue = [50, 0, 0]'),\n",
              " Text(193.15384615384616, 163.07999999999998, 'X[3] <= 1.75\\ngini = 0.5\\nsamples = 100\\nvalue = [0, 50, 50]'),\n",
              " Text(103.01538461538462, 126.83999999999999, 'X[2] <= 4.95\\ngini = 0.168\\nsamples = 54\\nvalue = [0, 49, 5]'),\n",
              " Text(51.50769230769231, 90.6, 'X[3] <= 1.65\\ngini = 0.041\\nsamples = 48\\nvalue = [0, 47, 1]'),\n",
              " Text(25.753846153846155, 54.359999999999985, 'gini = 0.0\\nsamples = 47\\nvalue = [0, 47, 0]'),\n",
              " Text(77.26153846153846, 54.359999999999985, 'gini = 0.0\\nsamples = 1\\nvalue = [0, 0, 1]'),\n",
              " Text(154.52307692307693, 90.6, 'X[3] <= 1.55\\ngini = 0.444\\nsamples = 6\\nvalue = [0, 2, 4]'),\n",
              " Text(128.76923076923077, 54.359999999999985, 'gini = 0.0\\nsamples = 3\\nvalue = [0, 0, 3]'),\n",
              " Text(180.27692307692308, 54.359999999999985, 'X[2] <= 5.45\\ngini = 0.444\\nsamples = 3\\nvalue = [0, 2, 1]'),\n",
              " Text(154.52307692307693, 18.119999999999976, 'gini = 0.0\\nsamples = 2\\nvalue = [0, 2, 0]'),\n",
              " Text(206.03076923076924, 18.119999999999976, 'gini = 0.0\\nsamples = 1\\nvalue = [0, 0, 1]'),\n",
              " Text(283.2923076923077, 126.83999999999999, 'X[2] <= 4.85\\ngini = 0.043\\nsamples = 46\\nvalue = [0, 1, 45]'),\n",
              " Text(257.53846153846155, 90.6, 'X[1] <= 3.1\\ngini = 0.444\\nsamples = 3\\nvalue = [0, 1, 2]'),\n",
              " Text(231.7846153846154, 54.359999999999985, 'gini = 0.0\\nsamples = 2\\nvalue = [0, 0, 2]'),\n",
              " Text(283.2923076923077, 54.359999999999985, 'gini = 0.0\\nsamples = 1\\nvalue = [0, 1, 0]'),\n",
              " Text(309.04615384615386, 90.6, 'gini = 0.0\\nsamples = 43\\nvalue = [0, 0, 43]')]"
            ]
          },
          "metadata": {
            "tags": []
          },
          "execution_count": 25
        },
        {
          "output_type": "display_data",
          "data": {
            "image/png": "[encoded data removed]",
            "text/plain": [
              "<Figure size 432x288 with 1 Axes>"
            ]
          },
          "metadata": {
            "tags": [],
            "needs_background": "light"
          }
        }
      ]
    },
    {
      "cell_type": "markdown",
      "metadata": {
        "id": "n_UPc5etYGa9"
      },
      "source": [
        "### graphviz를 이용한 시각화"
      ]
    },
    {
      "cell_type": "code",
      "metadata": {
        "colab": {
          "base_uri": "https://localhost:8080/",
          "height": 0
        },
        "id": "wybanOsNX3Aq",
        "outputId": "af0f5987-c6de-4b77-e7bb-7c4d1ae7ac90"
      },
      "source": [
        "dot_data = tree.export_graphviz(decision_tree= model,\r\n",
        "                                feature_names = iris.feature_names,\r\n",
        "                                class_names = iris.target_names,\r\n",
        "                                filled= True, rounded = True,\r\n",
        "                                special_characters = True)\r\n",
        "graph = graphviz.Source(dot_data)\r\n",
        "graph"
      ],
      "execution_count": 26,
      "outputs": [
        {
          "output_type": "execute_result",
          "data": {
            "text/plain": [
              "<graphviz.files.Source at 0x7f6829a5b2b0>"
            ],
            "image/svg+xml": "<?xml version=\"1.0\" encoding=\"UTF-8\" standalone=\"no\"?>\n<!DOCTYPE svg PUBLIC \"-//W3C//DTD SVG 1.1//EN\"\n \"http://www.w3.org/Graphics/SVG/1.1/DTD/svg11.dtd\">\n<!-- Generated by graphviz version 2.40.1 (20161225.0304)\n -->\n<!-- Title: Tree Pages: 1 -->\n<svg width=\"893pt\" height=\"671pt\"\n viewBox=\"0.00 0.00 892.50 671.00\" xmlns=\"http://www.w3.org/2000/svg\" xmlns:xlink=\"http://www.w3.org/1999/xlink\">\n<g id=\"graph0\" class=\"graph\" transform=\"scale(1 1) rotate(0) translate(4 667)\">\n<title>Tree</title>\n<polygon fill=\"#ffffff\" stroke=\"transparent\" points=\"-4,4 -4,-667 888.5,-667 888.5,4 -4,4\"/>\n<!-- 0 -->\n<g id=\"node1\" class=\"node\">\n<title>0</title>\n<path fill=\"#ffffff\" stroke=\"#000000\" d=\"M539.5,-663C539.5,-663 396.5,-663 396.5,-663 390.5,-663 384.5,-657 384.5,-651 384.5,-651 384.5,-592 384.5,-592 384.5,-586 390.5,-580 396.5,-580 396.5,-580 539.5,-580 539.5,-580 545.5,-580 551.5,-586 551.5,-592 551.5,-592 551.5,-651 551.5,-651 551.5,-657 545.5,-663 539.5,-663\"/>\n<text text-anchor=\"start\" x=\"392.5\" y=\"-647.8\" font-family=\"Helvetica,sans-Serif\" font-size=\"14.00\" fill=\"#000000\">petal length (cm) ≤ 2.45</text>\n<text text-anchor=\"start\" x=\"430\" y=\"-632.8\" font-family=\"Helvetica,sans-Serif\" font-size=\"14.00\" fill=\"#000000\">gini = 0.667</text>\n<text text-anchor=\"start\" x=\"420\" y=\"-617.8\" font-family=\"Helvetica,sans-Serif\" font-size=\"14.00\" fill=\"#000000\">samples = 150</text>\n<text text-anchor=\"start\" x=\"406\" y=\"-602.8\" font-family=\"Helvetica,sans-Serif\" font-size=\"14.00\" fill=\"#000000\">value = [50, 50, 50]</text>\n<text text-anchor=\"start\" x=\"421\" y=\"-587.8\" font-family=\"Helvetica,sans-Serif\" font-size=\"14.00\" fill=\"#000000\">class = setosa</text>\n</g>\n<!-- 1 -->\n<g id=\"node2\" class=\"node\">\n<title>1</title>\n<path fill=\"#e58139\" stroke=\"#000000\" d=\"M437.5,-536.5C437.5,-536.5 338.5,-536.5 338.5,-536.5 332.5,-536.5 326.5,-530.5 326.5,-524.5 326.5,-524.5 326.5,-480.5 326.5,-480.5 326.5,-474.5 332.5,-468.5 338.5,-468.5 338.5,-468.5 437.5,-468.5 437.5,-468.5 443.5,-468.5 449.5,-474.5 449.5,-480.5 449.5,-480.5 449.5,-524.5 449.5,-524.5 449.5,-530.5 443.5,-536.5 437.5,-536.5\"/>\n<text text-anchor=\"start\" x=\"358.5\" y=\"-521.3\" font-family=\"Helvetica,sans-Serif\" font-size=\"14.00\" fill=\"#000000\">gini = 0.0</text>\n<text text-anchor=\"start\" x=\"344\" y=\"-506.3\" font-family=\"Helvetica,sans-Serif\" font-size=\"14.00\" fill=\"#000000\">samples = 50</text>\n<text text-anchor=\"start\" x=\"334.5\" y=\"-491.3\" font-family=\"Helvetica,sans-Serif\" font-size=\"14.00\" fill=\"#000000\">value = [50, 0, 0]</text>\n<text text-anchor=\"start\" x=\"341\" y=\"-476.3\" font-family=\"Helvetica,sans-Serif\" font-size=\"14.00\" fill=\"#000000\">class = setosa</text>\n</g>\n<!-- 0&#45;&gt;1 -->\n<g id=\"edge1\" class=\"edge\">\n<title>0&#45;&gt;1</title>\n<path fill=\"none\" stroke=\"#000000\" d=\"M440.0199,-579.8796C432.4797,-568.6636 424.3113,-556.5131 416.7309,-545.2372\"/>\n<polygon fill=\"#000000\" stroke=\"#000000\" points=\"419.5527,-543.1612 411.0689,-536.8149 413.7434,-547.0667 419.5527,-543.1612\"/>\n<text text-anchor=\"middle\" x=\"406.2608\" y=\"-557.6482\" font-family=\"Helvetica,sans-Serif\" font-size=\"14.00\" fill=\"#000000\">True</text>\n</g>\n<!-- 2 -->\n<g id=\"node3\" class=\"node\">\n<title>2</title>\n<path fill=\"#ffffff\" stroke=\"#000000\" d=\"M616.5,-544C616.5,-544 479.5,-544 479.5,-544 473.5,-544 467.5,-538 467.5,-532 467.5,-532 467.5,-473 467.5,-473 467.5,-467 473.5,-461 479.5,-461 479.5,-461 616.5,-461 616.5,-461 622.5,-461 628.5,-467 628.5,-473 628.5,-473 628.5,-532 628.5,-532 628.5,-538 622.5,-544 616.5,-544\"/>\n<text text-anchor=\"start\" x=\"475.5\" y=\"-528.8\" font-family=\"Helvetica,sans-Serif\" font-size=\"14.00\" fill=\"#000000\">petal width (cm) ≤ 1.75</text>\n<text text-anchor=\"start\" x=\"518.5\" y=\"-513.8\" font-family=\"Helvetica,sans-Serif\" font-size=\"14.00\" fill=\"#000000\">gini = 0.5</text>\n<text text-anchor=\"start\" x=\"500\" y=\"-498.8\" font-family=\"Helvetica,sans-Serif\" font-size=\"14.00\" fill=\"#000000\">samples = 100</text>\n<text text-anchor=\"start\" x=\"490.5\" y=\"-483.8\" font-family=\"Helvetica,sans-Serif\" font-size=\"14.00\" fill=\"#000000\">value = [0, 50, 50]</text>\n<text text-anchor=\"start\" x=\"492\" y=\"-468.8\" font-family=\"Helvetica,sans-Serif\" font-size=\"14.00\" fill=\"#000000\">class = versicolor</text>\n</g>\n<!-- 0&#45;&gt;2 -->\n<g id=\"edge2\" class=\"edge\">\n<title>0&#45;&gt;2</title>\n<path fill=\"none\" stroke=\"#000000\" d=\"M495.9801,-579.8796C501.8531,-571.1434 508.1073,-561.8404 514.1679,-552.8253\"/>\n<polygon fill=\"#000000\" stroke=\"#000000\" points=\"517.2259,-554.5498 519.9005,-544.2981 511.4166,-550.6444 517.2259,-554.5498\"/>\n<text text-anchor=\"middle\" x=\"524.7085\" y=\"-565.1314\" font-family=\"Helvetica,sans-Serif\" font-size=\"14.00\" fill=\"#000000\">False</text>\n</g>\n<!-- 3 -->\n<g id=\"node4\" class=\"node\">\n<title>3</title>\n<path fill=\"#4de88e\" stroke=\"#000000\" d=\"M503.5,-425C503.5,-425 360.5,-425 360.5,-425 354.5,-425 348.5,-419 348.5,-413 348.5,-413 348.5,-354 348.5,-354 348.5,-348 354.5,-342 360.5,-342 360.5,-342 503.5,-342 503.5,-342 509.5,-342 515.5,-348 515.5,-354 515.5,-354 515.5,-413 515.5,-413 515.5,-419 509.5,-425 503.5,-425\"/>\n<text text-anchor=\"start\" x=\"356.5\" y=\"-409.8\" font-family=\"Helvetica,sans-Serif\" font-size=\"14.00\" fill=\"#000000\">petal length (cm) ≤ 4.95</text>\n<text text-anchor=\"start\" x=\"394\" y=\"-394.8\" font-family=\"Helvetica,sans-Serif\" font-size=\"14.00\" fill=\"#000000\">gini = 0.168</text>\n<text text-anchor=\"start\" x=\"388\" y=\"-379.8\" font-family=\"Helvetica,sans-Serif\" font-size=\"14.00\" fill=\"#000000\">samples = 54</text>\n<text text-anchor=\"start\" x=\"378.5\" y=\"-364.8\" font-family=\"Helvetica,sans-Serif\" font-size=\"14.00\" fill=\"#000000\">value = [0, 49, 5]</text>\n<text text-anchor=\"start\" x=\"376\" y=\"-349.8\" font-family=\"Helvetica,sans-Serif\" font-size=\"14.00\" fill=\"#000000\">class = versicolor</text>\n</g>\n<!-- 2&#45;&gt;3 -->\n<g id=\"edge3\" class=\"edge\">\n<title>2&#45;&gt;3</title>\n<path fill=\"none\" stroke=\"#000000\" d=\"M507.4288,-460.8796C498.5618,-451.7832 489.0956,-442.0722 479.9709,-432.7116\"/>\n<polygon fill=\"#000000\" stroke=\"#000000\" points=\"482.2309,-430.0158 472.7443,-425.2981 477.2183,-434.9019 482.2309,-430.0158\"/>\n</g>\n<!-- 12 -->\n<g id=\"node13\" class=\"node\">\n<title>12</title>\n<path fill=\"#843de6\" stroke=\"#000000\" d=\"M736.5,-425C736.5,-425 593.5,-425 593.5,-425 587.5,-425 581.5,-419 581.5,-413 581.5,-413 581.5,-354 581.5,-354 581.5,-348 587.5,-342 593.5,-342 593.5,-342 736.5,-342 736.5,-342 742.5,-342 748.5,-348 748.5,-354 748.5,-354 748.5,-413 748.5,-413 748.5,-419 742.5,-425 736.5,-425\"/>\n<text text-anchor=\"start\" x=\"589.5\" y=\"-409.8\" font-family=\"Helvetica,sans-Serif\" font-size=\"14.00\" fill=\"#000000\">petal length (cm) ≤ 4.85</text>\n<text text-anchor=\"start\" x=\"627\" y=\"-394.8\" font-family=\"Helvetica,sans-Serif\" font-size=\"14.00\" fill=\"#000000\">gini = 0.043</text>\n<text text-anchor=\"start\" x=\"621\" y=\"-379.8\" font-family=\"Helvetica,sans-Serif\" font-size=\"14.00\" fill=\"#000000\">samples = 46</text>\n<text text-anchor=\"start\" x=\"611.5\" y=\"-364.8\" font-family=\"Helvetica,sans-Serif\" font-size=\"14.00\" fill=\"#000000\">value = [0, 1, 45]</text>\n<text text-anchor=\"start\" x=\"613.5\" y=\"-349.8\" font-family=\"Helvetica,sans-Serif\" font-size=\"14.00\" fill=\"#000000\">class = virginica</text>\n</g>\n<!-- 2&#45;&gt;12 -->\n<g id=\"edge12\" class=\"edge\">\n<title>2&#45;&gt;12</title>\n<path fill=\"none\" stroke=\"#000000\" d=\"M588.9209,-460.8796C597.953,-451.6931 607.6013,-441.8798 616.8888,-432.4336\"/>\n<polygon fill=\"#000000\" stroke=\"#000000\" points=\"619.3893,-434.8827 623.9044,-425.2981 614.3977,-429.975 619.3893,-434.8827\"/>\n</g>\n<!-- 4 -->\n<g id=\"node5\" class=\"node\">\n<title>4</title>\n<path fill=\"#3de684\" stroke=\"#000000\" d=\"M274.5,-306C274.5,-306 137.5,-306 137.5,-306 131.5,-306 125.5,-300 125.5,-294 125.5,-294 125.5,-235 125.5,-235 125.5,-229 131.5,-223 137.5,-223 137.5,-223 274.5,-223 274.5,-223 280.5,-223 286.5,-229 286.5,-235 286.5,-235 286.5,-294 286.5,-294 286.5,-300 280.5,-306 274.5,-306\"/>\n<text text-anchor=\"start\" x=\"133.5\" y=\"-290.8\" font-family=\"Helvetica,sans-Serif\" font-size=\"14.00\" fill=\"#000000\">petal width (cm) ≤ 1.65</text>\n<text text-anchor=\"start\" x=\"168\" y=\"-275.8\" font-family=\"Helvetica,sans-Serif\" font-size=\"14.00\" fill=\"#000000\">gini = 0.041</text>\n<text text-anchor=\"start\" x=\"162\" y=\"-260.8\" font-family=\"Helvetica,sans-Serif\" font-size=\"14.00\" fill=\"#000000\">samples = 48</text>\n<text text-anchor=\"start\" x=\"152.5\" y=\"-245.8\" font-family=\"Helvetica,sans-Serif\" font-size=\"14.00\" fill=\"#000000\">value = [0, 47, 1]</text>\n<text text-anchor=\"start\" x=\"150\" y=\"-230.8\" font-family=\"Helvetica,sans-Serif\" font-size=\"14.00\" fill=\"#000000\">class = versicolor</text>\n</g>\n<!-- 3&#45;&gt;4 -->\n<g id=\"edge4\" class=\"edge\">\n<title>3&#45;&gt;4</title>\n<path fill=\"none\" stroke=\"#000000\" d=\"M352.9562,-341.8796C333.8599,-331.8244 313.3373,-321.0183 293.8638,-310.7645\"/>\n<polygon fill=\"#000000\" stroke=\"#000000\" points=\"295.4782,-307.6591 284.9992,-306.0969 292.2169,-313.853 295.4782,-307.6591\"/>\n</g>\n<!-- 7 -->\n<g id=\"node8\" class=\"node\">\n<title>7</title>\n<path fill=\"#c09cf2\" stroke=\"#000000\" d=\"M500.5,-306C500.5,-306 363.5,-306 363.5,-306 357.5,-306 351.5,-300 351.5,-294 351.5,-294 351.5,-235 351.5,-235 351.5,-229 357.5,-223 363.5,-223 363.5,-223 500.5,-223 500.5,-223 506.5,-223 512.5,-229 512.5,-235 512.5,-235 512.5,-294 512.5,-294 512.5,-300 506.5,-306 500.5,-306\"/>\n<text text-anchor=\"start\" x=\"359.5\" y=\"-290.8\" font-family=\"Helvetica,sans-Serif\" font-size=\"14.00\" fill=\"#000000\">petal width (cm) ≤ 1.55</text>\n<text text-anchor=\"start\" x=\"394\" y=\"-275.8\" font-family=\"Helvetica,sans-Serif\" font-size=\"14.00\" fill=\"#000000\">gini = 0.444</text>\n<text text-anchor=\"start\" x=\"392.5\" y=\"-260.8\" font-family=\"Helvetica,sans-Serif\" font-size=\"14.00\" fill=\"#000000\">samples = 6</text>\n<text text-anchor=\"start\" x=\"382.5\" y=\"-245.8\" font-family=\"Helvetica,sans-Serif\" font-size=\"14.00\" fill=\"#000000\">value = [0, 2, 4]</text>\n<text text-anchor=\"start\" x=\"380.5\" y=\"-230.8\" font-family=\"Helvetica,sans-Serif\" font-size=\"14.00\" fill=\"#000000\">class = virginica</text>\n</g>\n<!-- 3&#45;&gt;7 -->\n<g id=\"edge7\" class=\"edge\">\n<title>3&#45;&gt;7</title>\n<path fill=\"none\" stroke=\"#000000\" d=\"M432,-341.8796C432,-333.6838 432,-324.9891 432,-316.5013\"/>\n<polygon fill=\"#000000\" stroke=\"#000000\" points=\"435.5001,-316.298 432,-306.2981 428.5001,-316.2981 435.5001,-316.298\"/>\n</g>\n<!-- 5 -->\n<g id=\"node6\" class=\"node\">\n<title>5</title>\n<path fill=\"#39e581\" stroke=\"#000000\" d=\"M116,-179.5C116,-179.5 12,-179.5 12,-179.5 6,-179.5 0,-173.5 0,-167.5 0,-167.5 0,-123.5 0,-123.5 0,-117.5 6,-111.5 12,-111.5 12,-111.5 116,-111.5 116,-111.5 122,-111.5 128,-117.5 128,-123.5 128,-123.5 128,-167.5 128,-167.5 128,-173.5 122,-179.5 116,-179.5\"/>\n<text text-anchor=\"start\" x=\"34.5\" y=\"-164.3\" font-family=\"Helvetica,sans-Serif\" font-size=\"14.00\" fill=\"#000000\">gini = 0.0</text>\n<text text-anchor=\"start\" x=\"20\" y=\"-149.3\" font-family=\"Helvetica,sans-Serif\" font-size=\"14.00\" fill=\"#000000\">samples = 47</text>\n<text text-anchor=\"start\" x=\"10.5\" y=\"-134.3\" font-family=\"Helvetica,sans-Serif\" font-size=\"14.00\" fill=\"#000000\">value = [0, 47, 0]</text>\n<text text-anchor=\"start\" x=\"8\" y=\"-119.3\" font-family=\"Helvetica,sans-Serif\" font-size=\"14.00\" fill=\"#000000\">class = versicolor</text>\n</g>\n<!-- 4&#45;&gt;5 -->\n<g id=\"edge5\" class=\"edge\">\n<title>4&#45;&gt;5</title>\n<path fill=\"none\" stroke=\"#000000\" d=\"M156.3353,-222.8796C142.1642,-211.0038 126.743,-198.0804 112.6342,-186.2568\"/>\n<polygon fill=\"#000000\" stroke=\"#000000\" points=\"114.8598,-183.5554 104.9472,-179.8149 110.3637,-188.9206 114.8598,-183.5554\"/>\n</g>\n<!-- 6 -->\n<g id=\"node7\" class=\"node\">\n<title>6</title>\n<path fill=\"#8139e5\" stroke=\"#000000\" d=\"M253.5,-179.5C253.5,-179.5 158.5,-179.5 158.5,-179.5 152.5,-179.5 146.5,-173.5 146.5,-167.5 146.5,-167.5 146.5,-123.5 146.5,-123.5 146.5,-117.5 152.5,-111.5 158.5,-111.5 158.5,-111.5 253.5,-111.5 253.5,-111.5 259.5,-111.5 265.5,-117.5 265.5,-123.5 265.5,-123.5 265.5,-167.5 265.5,-167.5 265.5,-173.5 259.5,-179.5 253.5,-179.5\"/>\n<text text-anchor=\"start\" x=\"176.5\" y=\"-164.3\" font-family=\"Helvetica,sans-Serif\" font-size=\"14.00\" fill=\"#000000\">gini = 0.0</text>\n<text text-anchor=\"start\" x=\"166.5\" y=\"-149.3\" font-family=\"Helvetica,sans-Serif\" font-size=\"14.00\" fill=\"#000000\">samples = 1</text>\n<text text-anchor=\"start\" x=\"156.5\" y=\"-134.3\" font-family=\"Helvetica,sans-Serif\" font-size=\"14.00\" fill=\"#000000\">value = [0, 0, 1]</text>\n<text text-anchor=\"start\" x=\"154.5\" y=\"-119.3\" font-family=\"Helvetica,sans-Serif\" font-size=\"14.00\" fill=\"#000000\">class = virginica</text>\n</g>\n<!-- 4&#45;&gt;6 -->\n<g id=\"edge6\" class=\"edge\">\n<title>4&#45;&gt;6</title>\n<path fill=\"none\" stroke=\"#000000\" d=\"M206,-222.8796C206,-212.2134 206,-200.7021 206,-189.9015\"/>\n<polygon fill=\"#000000\" stroke=\"#000000\" points=\"209.5001,-189.8149 206,-179.8149 202.5001,-189.815 209.5001,-189.8149\"/>\n</g>\n<!-- 8 -->\n<g id=\"node9\" class=\"node\">\n<title>8</title>\n<path fill=\"#8139e5\" stroke=\"#000000\" d=\"M390.5,-179.5C390.5,-179.5 295.5,-179.5 295.5,-179.5 289.5,-179.5 283.5,-173.5 283.5,-167.5 283.5,-167.5 283.5,-123.5 283.5,-123.5 283.5,-117.5 289.5,-111.5 295.5,-111.5 295.5,-111.5 390.5,-111.5 390.5,-111.5 396.5,-111.5 402.5,-117.5 402.5,-123.5 402.5,-123.5 402.5,-167.5 402.5,-167.5 402.5,-173.5 396.5,-179.5 390.5,-179.5\"/>\n<text text-anchor=\"start\" x=\"313.5\" y=\"-164.3\" font-family=\"Helvetica,sans-Serif\" font-size=\"14.00\" fill=\"#000000\">gini = 0.0</text>\n<text text-anchor=\"start\" x=\"303.5\" y=\"-149.3\" font-family=\"Helvetica,sans-Serif\" font-size=\"14.00\" fill=\"#000000\">samples = 3</text>\n<text text-anchor=\"start\" x=\"293.5\" y=\"-134.3\" font-family=\"Helvetica,sans-Serif\" font-size=\"14.00\" fill=\"#000000\">value = [0, 0, 3]</text>\n<text text-anchor=\"start\" x=\"291.5\" y=\"-119.3\" font-family=\"Helvetica,sans-Serif\" font-size=\"14.00\" fill=\"#000000\">class = virginica</text>\n</g>\n<!-- 7&#45;&gt;8 -->\n<g id=\"edge8\" class=\"edge\">\n<title>7&#45;&gt;8</title>\n<path fill=\"none\" stroke=\"#000000\" d=\"M400.8721,-222.8796C392.4014,-211.5536 383.2181,-199.2748 374.7153,-187.9058\"/>\n<polygon fill=\"#000000\" stroke=\"#000000\" points=\"377.4562,-185.7268 368.6641,-179.8149 371.8505,-189.9193 377.4562,-185.7268\"/>\n</g>\n<!-- 9 -->\n<g id=\"node10\" class=\"node\">\n<title>9</title>\n<path fill=\"#9cf2c0\" stroke=\"#000000\" d=\"M575.5,-187C575.5,-187 432.5,-187 432.5,-187 426.5,-187 420.5,-181 420.5,-175 420.5,-175 420.5,-116 420.5,-116 420.5,-110 426.5,-104 432.5,-104 432.5,-104 575.5,-104 575.5,-104 581.5,-104 587.5,-110 587.5,-116 587.5,-116 587.5,-175 587.5,-175 587.5,-181 581.5,-187 575.5,-187\"/>\n<text text-anchor=\"start\" x=\"428.5\" y=\"-171.8\" font-family=\"Helvetica,sans-Serif\" font-size=\"14.00\" fill=\"#000000\">petal length (cm) ≤ 5.45</text>\n<text text-anchor=\"start\" x=\"466\" y=\"-156.8\" font-family=\"Helvetica,sans-Serif\" font-size=\"14.00\" fill=\"#000000\">gini = 0.444</text>\n<text text-anchor=\"start\" x=\"464.5\" y=\"-141.8\" font-family=\"Helvetica,sans-Serif\" font-size=\"14.00\" fill=\"#000000\">samples = 3</text>\n<text text-anchor=\"start\" x=\"454.5\" y=\"-126.8\" font-family=\"Helvetica,sans-Serif\" font-size=\"14.00\" fill=\"#000000\">value = [0, 2, 1]</text>\n<text text-anchor=\"start\" x=\"448\" y=\"-111.8\" font-family=\"Helvetica,sans-Serif\" font-size=\"14.00\" fill=\"#000000\">class = versicolor</text>\n</g>\n<!-- 7&#45;&gt;9 -->\n<g id=\"edge9\" class=\"edge\">\n<title>7&#45;&gt;9</title>\n<path fill=\"none\" stroke=\"#000000\" d=\"M457.1821,-222.8796C462.4133,-214.2335 467.9805,-205.0322 473.3823,-196.1042\"/>\n<polygon fill=\"#000000\" stroke=\"#000000\" points=\"476.5283,-197.6658 478.7104,-187.2981 470.5392,-194.0421 476.5283,-197.6658\"/>\n</g>\n<!-- 10 -->\n<g id=\"node11\" class=\"node\">\n<title>10</title>\n<path fill=\"#39e581\" stroke=\"#000000\" d=\"M485,-68C485,-68 381,-68 381,-68 375,-68 369,-62 369,-56 369,-56 369,-12 369,-12 369,-6 375,0 381,0 381,0 485,0 485,0 491,0 497,-6 497,-12 497,-12 497,-56 497,-56 497,-62 491,-68 485,-68\"/>\n<text text-anchor=\"start\" x=\"403.5\" y=\"-52.8\" font-family=\"Helvetica,sans-Serif\" font-size=\"14.00\" fill=\"#000000\">gini = 0.0</text>\n<text text-anchor=\"start\" x=\"393.5\" y=\"-37.8\" font-family=\"Helvetica,sans-Serif\" font-size=\"14.00\" fill=\"#000000\">samples = 2</text>\n<text text-anchor=\"start\" x=\"383.5\" y=\"-22.8\" font-family=\"Helvetica,sans-Serif\" font-size=\"14.00\" fill=\"#000000\">value = [0, 2, 0]</text>\n<text text-anchor=\"start\" x=\"377\" y=\"-7.8\" font-family=\"Helvetica,sans-Serif\" font-size=\"14.00\" fill=\"#000000\">class = versicolor</text>\n</g>\n<!-- 9&#45;&gt;10 -->\n<g id=\"edge10\" class=\"edge\">\n<title>9&#45;&gt;10</title>\n<path fill=\"none\" stroke=\"#000000\" d=\"M477.5622,-103.9815C471.944,-95.1585 466.0012,-85.8258 460.3497,-76.9506\"/>\n<polygon fill=\"#000000\" stroke=\"#000000\" points=\"463.1416,-74.8188 454.8181,-68.2637 457.2371,-78.5787 463.1416,-74.8188\"/>\n</g>\n<!-- 11 -->\n<g id=\"node12\" class=\"node\">\n<title>11</title>\n<path fill=\"#8139e5\" stroke=\"#000000\" d=\"M622.5,-68C622.5,-68 527.5,-68 527.5,-68 521.5,-68 515.5,-62 515.5,-56 515.5,-56 515.5,-12 515.5,-12 515.5,-6 521.5,0 527.5,0 527.5,0 622.5,0 622.5,0 628.5,0 634.5,-6 634.5,-12 634.5,-12 634.5,-56 634.5,-56 634.5,-62 628.5,-68 622.5,-68\"/>\n<text text-anchor=\"start\" x=\"545.5\" y=\"-52.8\" font-family=\"Helvetica,sans-Serif\" font-size=\"14.00\" fill=\"#000000\">gini = 0.0</text>\n<text text-anchor=\"start\" x=\"535.5\" y=\"-37.8\" font-family=\"Helvetica,sans-Serif\" font-size=\"14.00\" fill=\"#000000\">samples = 1</text>\n<text text-anchor=\"start\" x=\"525.5\" y=\"-22.8\" font-family=\"Helvetica,sans-Serif\" font-size=\"14.00\" fill=\"#000000\">value = [0, 0, 1]</text>\n<text text-anchor=\"start\" x=\"523.5\" y=\"-7.8\" font-family=\"Helvetica,sans-Serif\" font-size=\"14.00\" fill=\"#000000\">class = virginica</text>\n</g>\n<!-- 9&#45;&gt;11 -->\n<g id=\"edge11\" class=\"edge\">\n<title>9&#45;&gt;11</title>\n<path fill=\"none\" stroke=\"#000000\" d=\"M530.4378,-103.9815C536.056,-95.1585 541.9988,-85.8258 547.6503,-76.9506\"/>\n<polygon fill=\"#000000\" stroke=\"#000000\" points=\"550.7629,-78.5787 553.1819,-68.2637 544.8584,-74.8188 550.7629,-78.5787\"/>\n</g>\n<!-- 13 -->\n<g id=\"node14\" class=\"node\">\n<title>13</title>\n<path fill=\"#c09cf2\" stroke=\"#000000\" d=\"M731.5,-306C731.5,-306 598.5,-306 598.5,-306 592.5,-306 586.5,-300 586.5,-294 586.5,-294 586.5,-235 586.5,-235 586.5,-229 592.5,-223 598.5,-223 598.5,-223 731.5,-223 731.5,-223 737.5,-223 743.5,-229 743.5,-235 743.5,-235 743.5,-294 743.5,-294 743.5,-300 737.5,-306 731.5,-306\"/>\n<text text-anchor=\"start\" x=\"594.5\" y=\"-290.8\" font-family=\"Helvetica,sans-Serif\" font-size=\"14.00\" fill=\"#000000\">sepal width (cm) ≤ 3.1</text>\n<text text-anchor=\"start\" x=\"627\" y=\"-275.8\" font-family=\"Helvetica,sans-Serif\" font-size=\"14.00\" fill=\"#000000\">gini = 0.444</text>\n<text text-anchor=\"start\" x=\"625.5\" y=\"-260.8\" font-family=\"Helvetica,sans-Serif\" font-size=\"14.00\" fill=\"#000000\">samples = 3</text>\n<text text-anchor=\"start\" x=\"615.5\" y=\"-245.8\" font-family=\"Helvetica,sans-Serif\" font-size=\"14.00\" fill=\"#000000\">value = [0, 1, 2]</text>\n<text text-anchor=\"start\" x=\"613.5\" y=\"-230.8\" font-family=\"Helvetica,sans-Serif\" font-size=\"14.00\" fill=\"#000000\">class = virginica</text>\n</g>\n<!-- 12&#45;&gt;13 -->\n<g id=\"edge13\" class=\"edge\">\n<title>12&#45;&gt;13</title>\n<path fill=\"none\" stroke=\"#000000\" d=\"M665,-341.8796C665,-333.6838 665,-324.9891 665,-316.5013\"/>\n<polygon fill=\"#000000\" stroke=\"#000000\" points=\"668.5001,-316.298 665,-306.2981 661.5001,-316.2981 668.5001,-316.298\"/>\n</g>\n<!-- 16 -->\n<g id=\"node17\" class=\"node\">\n<title>16</title>\n<path fill=\"#8139e5\" stroke=\"#000000\" d=\"M872.5,-298.5C872.5,-298.5 773.5,-298.5 773.5,-298.5 767.5,-298.5 761.5,-292.5 761.5,-286.5 761.5,-286.5 761.5,-242.5 761.5,-242.5 761.5,-236.5 767.5,-230.5 773.5,-230.5 773.5,-230.5 872.5,-230.5 872.5,-230.5 878.5,-230.5 884.5,-236.5 884.5,-242.5 884.5,-242.5 884.5,-286.5 884.5,-286.5 884.5,-292.5 878.5,-298.5 872.5,-298.5\"/>\n<text text-anchor=\"start\" x=\"793.5\" y=\"-283.3\" font-family=\"Helvetica,sans-Serif\" font-size=\"14.00\" fill=\"#000000\">gini = 0.0</text>\n<text text-anchor=\"start\" x=\"779\" y=\"-268.3\" font-family=\"Helvetica,sans-Serif\" font-size=\"14.00\" fill=\"#000000\">samples = 43</text>\n<text text-anchor=\"start\" x=\"769.5\" y=\"-253.3\" font-family=\"Helvetica,sans-Serif\" font-size=\"14.00\" fill=\"#000000\">value = [0, 0, 43]</text>\n<text text-anchor=\"start\" x=\"771.5\" y=\"-238.3\" font-family=\"Helvetica,sans-Serif\" font-size=\"14.00\" fill=\"#000000\">class = virginica</text>\n</g>\n<!-- 12&#45;&gt;16 -->\n<g id=\"edge16\" class=\"edge\">\n<title>12&#45;&gt;16</title>\n<path fill=\"none\" stroke=\"#000000\" d=\"M720.2607,-341.8796C736.2503,-329.8368 753.6703,-316.7167 769.5474,-304.7586\"/>\n<polygon fill=\"#000000\" stroke=\"#000000\" points=\"771.8116,-307.435 777.6938,-298.623 767.6002,-301.8435 771.8116,-307.435\"/>\n</g>\n<!-- 14 -->\n<g id=\"node15\" class=\"node\">\n<title>14</title>\n<path fill=\"#8139e5\" stroke=\"#000000\" d=\"M712.5,-179.5C712.5,-179.5 617.5,-179.5 617.5,-179.5 611.5,-179.5 605.5,-173.5 605.5,-167.5 605.5,-167.5 605.5,-123.5 605.5,-123.5 605.5,-117.5 611.5,-111.5 617.5,-111.5 617.5,-111.5 712.5,-111.5 712.5,-111.5 718.5,-111.5 724.5,-117.5 724.5,-123.5 724.5,-123.5 724.5,-167.5 724.5,-167.5 724.5,-173.5 718.5,-179.5 712.5,-179.5\"/>\n<text text-anchor=\"start\" x=\"635.5\" y=\"-164.3\" font-family=\"Helvetica,sans-Serif\" font-size=\"14.00\" fill=\"#000000\">gini = 0.0</text>\n<text text-anchor=\"start\" x=\"625.5\" y=\"-149.3\" font-family=\"Helvetica,sans-Serif\" font-size=\"14.00\" fill=\"#000000\">samples = 2</text>\n<text text-anchor=\"start\" x=\"615.5\" y=\"-134.3\" font-family=\"Helvetica,sans-Serif\" font-size=\"14.00\" fill=\"#000000\">value = [0, 0, 2]</text>\n<text text-anchor=\"start\" x=\"613.5\" y=\"-119.3\" font-family=\"Helvetica,sans-Serif\" font-size=\"14.00\" fill=\"#000000\">class = virginica</text>\n</g>\n<!-- 13&#45;&gt;14 -->\n<g id=\"edge14\" class=\"edge\">\n<title>13&#45;&gt;14</title>\n<path fill=\"none\" stroke=\"#000000\" d=\"M665,-222.8796C665,-212.2134 665,-200.7021 665,-189.9015\"/>\n<polygon fill=\"#000000\" stroke=\"#000000\" points=\"668.5001,-189.8149 665,-179.8149 661.5001,-189.815 668.5001,-189.8149\"/>\n</g>\n<!-- 15 -->\n<g id=\"node16\" class=\"node\">\n<title>15</title>\n<path fill=\"#39e581\" stroke=\"#000000\" d=\"M859,-179.5C859,-179.5 755,-179.5 755,-179.5 749,-179.5 743,-173.5 743,-167.5 743,-167.5 743,-123.5 743,-123.5 743,-117.5 749,-111.5 755,-111.5 755,-111.5 859,-111.5 859,-111.5 865,-111.5 871,-117.5 871,-123.5 871,-123.5 871,-167.5 871,-167.5 871,-173.5 865,-179.5 859,-179.5\"/>\n<text text-anchor=\"start\" x=\"777.5\" y=\"-164.3\" font-family=\"Helvetica,sans-Serif\" font-size=\"14.00\" fill=\"#000000\">gini = 0.0</text>\n<text text-anchor=\"start\" x=\"767.5\" y=\"-149.3\" font-family=\"Helvetica,sans-Serif\" font-size=\"14.00\" fill=\"#000000\">samples = 1</text>\n<text text-anchor=\"start\" x=\"757.5\" y=\"-134.3\" font-family=\"Helvetica,sans-Serif\" font-size=\"14.00\" fill=\"#000000\">value = [0, 1, 0]</text>\n<text text-anchor=\"start\" x=\"751\" y=\"-119.3\" font-family=\"Helvetica,sans-Serif\" font-size=\"14.00\" fill=\"#000000\">class = versicolor</text>\n</g>\n<!-- 13&#45;&gt;15 -->\n<g id=\"edge15\" class=\"edge\">\n<title>13&#45;&gt;15</title>\n<path fill=\"none\" stroke=\"#000000\" d=\"M714.6647,-222.8796C728.8358,-211.0038 744.257,-198.0804 758.3658,-186.2568\"/>\n<polygon fill=\"#000000\" stroke=\"#000000\" points=\"760.6363,-188.9206 766.0528,-179.8149 756.1402,-183.5554 760.6363,-188.9206\"/>\n</g>\n</g>\n</svg>\n"
          },
          "metadata": {
            "tags": []
          },
          "execution_count": 26
        }
      ]
    },
    {
      "cell_type": "markdown",
      "metadata": {
        "id": "suW-fsSvZOM8"
      },
      "source": [
        "### 시각화"
      ]
    },
    {
      "cell_type": "code",
      "metadata": {
        "id": "u6_cUgaFYhIH"
      },
      "source": [
        "n_classes = 3\r\n",
        "plot_colors = 'ryb'\r\n",
        "plot_step = 0.02"
      ],
      "execution_count": 27,
      "outputs": []
    },
    {
      "cell_type": "code",
      "metadata": {
        "colab": {
          "base_uri": "https://localhost:8080/",
          "height": 0
        },
        "id": "LvjYNNRNZV25",
        "outputId": "8c67af71-beff-46e4-cb49-9310a22319ad"
      },
      "source": [
        "plt.figure(figsize=(16,8))\r\n",
        "\r\n",
        "for pairidx, pair in enumerate([[0,1],[0,2],[0,3],\r\n",
        "                               [1,2],[1,3],[2,3]]):\r\n",
        "  X = iris.data[:,pair]\r\n",
        "  y = iris.target\r\n",
        "  \r\n",
        "  model = DecisionTreeClassifier()\r\n",
        "  model = model.fit(X,y)\r\n",
        "\r\n",
        "  plt.subplot(2, 3, pairidx+1)\r\n",
        "\r\n",
        "  x_min, x_max = X[:,0].min()-1,X[:,0].max()+1\r\n",
        "  y_min, y_max = X[:,1].min()-1,X[:,1].max()+1\r\n",
        "  xx,yy = np.meshgrid(np.arange(x_min ,x_max ,plot_step),\r\n",
        "                      np.arange(y_min, y_max, plot_step))\r\n",
        "  plt.tight_layout(h_pad=0.5, w_pad=0.5, pad =2.5)\r\n",
        "\r\n",
        "  Z = model.predict(np.c_[xx.ravel(), yy.ravel()])\r\n",
        "  Z = Z.reshape(xx.shape)\r\n",
        "  cs = plt.contourf(xx, yy, Z, cmap=plt.cm.RdYlBu)\r\n",
        "\r\n",
        "  plt.xlabel(iris.feature_names[pair[0]])\r\n",
        "  plt.ylabel(iris.feature_names[pair[1]])\r\n",
        "\r\n",
        "  for i, color in zip(range(n_classes),plot_colors):\r\n",
        "    idx = np.where(y == i)\r\n",
        "    plt.scatter(X[idx,0], X[idx,1], c= color, label= iris.target_names[i],\r\n",
        "                cmap=plt.cm.RdYlBu, edgecolor='b',s=15)\r\n",
        "    \r\n",
        "plt.suptitle(\"Decision surface\")\r\n",
        "plt.legend(loc='lower right', borderpad=0, handletextpad=0)\r\n",
        "plt.axis('tight')"
      ],
      "execution_count": 28,
      "outputs": [
        {
          "output_type": "execute_result",
          "data": {
            "text/plain": [
              "(0.0, 7.88, -0.9, 3.4800000000000044)"
            ]
          },
          "metadata": {
            "tags": []
          },
          "execution_count": 28
        },
        {
          "output_type": "display_data",
          "data": {
            "image/png": "[encoded data removed]",
            "text/plain": [
              "<Figure size 1152x576 with 6 Axes>"
            ]
          },
          "metadata": {
            "tags": [],
            "needs_background": "light"
          }
        }
      ]
    },
    {
      "cell_type": "markdown",
      "metadata": {
        "id": "X4MRlpV1dT4j"
      },
      "source": [
        "### 하이퍼파라미터를 변경해 보면서 결정 경계의 변화 확인"
      ]
    },
    {
      "cell_type": "code",
      "metadata": {
        "colab": {
          "base_uri": "https://localhost:8080/",
          "height": 0
        },
        "id": "Almf1xfzdXL_",
        "outputId": "5c639bf0-d03b-4131-cd2c-e600b4ea38a1"
      },
      "source": [
        "plt.figure(figsize=(16,8))\r\n",
        "\r\n",
        "for pairidx, pair in enumerate([[0,1],[0,2],[0,3],\r\n",
        "                               [1,2],[1,3],[2,3]]):\r\n",
        "  X = iris.data[:,pair]\r\n",
        "  y = iris.target\r\n",
        "  \r\n",
        "  model = DecisionTreeClassifier(max_depth=2)\r\n",
        "  model = model.fit(X,y)\r\n",
        "\r\n",
        "  plt.subplot(2, 3, pairidx+1)\r\n",
        "\r\n",
        "  x_min, x_max = X[:,0].min()-1,X[:,0].max()+1\r\n",
        "  y_min, y_max = X[:,1].min()-1,X[:,1].max()+1\r\n",
        "  xx,yy = np.meshgrid(np.arange(x_min ,x_max ,plot_step),\r\n",
        "                      np.arange(y_min, y_max, plot_step))\r\n",
        "  plt.tight_layout(h_pad=0.5, w_pad=0.5, pad =2.5)\r\n",
        "\r\n",
        "  Z = model.predict(np.c_[xx.ravel(), yy.ravel()])\r\n",
        "  Z = Z.reshape(xx.shape)\r\n",
        "  cs = plt.contourf(xx, yy, Z, cmap=plt.cm.RdYlBu)\r\n",
        "\r\n",
        "  plt.xlabel(iris.feature_names[pair[0]])\r\n",
        "  plt.ylabel(iris.feature_names[pair[1]])\r\n",
        "\r\n",
        "  for i, color in zip(range(n_classes),plot_colors):\r\n",
        "    idx = np.where(y == i)\r\n",
        "    plt.scatter(X[idx,0], X[idx,1], c= color, label= iris.target_names[i],\r\n",
        "                cmap=plt.cm.RdYlBu, edgecolor='b',s=15)\r\n",
        "    \r\n",
        "plt.suptitle(\"Decision surface\")\r\n",
        "plt.legend(loc='lower right', borderpad=0, handletextpad=0)\r\n",
        "plt.axis('tight')"
      ],
      "execution_count": 29,
      "outputs": [
        {
          "output_type": "execute_result",
          "data": {
            "text/plain": [
              "(0.0, 7.88, -0.9, 3.4800000000000044)"
            ]
          },
          "metadata": {
            "tags": []
          },
          "execution_count": 29
        },
        {
          "output_type": "display_data",
          "data": {
            "image/png": "[encoded data removed]",
            "text/plain": [
              "<Figure size 1152x576 with 6 Axes>"
            ]
          },
          "metadata": {
            "tags": [],
            "needs_background": "light"
          }
        }
      ]
    },
    {
      "cell_type": "markdown",
      "metadata": {
        "id": "bg9_D_BOdrrs"
      },
      "source": [
        "# 와인 데이터 학습"
      ]
    },
    {
      "cell_type": "markdown",
      "metadata": {
        "id": "YhKPYaFEerog"
      },
      "source": [
        "### 전처리 전 학습"
      ]
    },
    {
      "cell_type": "code",
      "metadata": {
        "id": "Zc5CLwEdduC-"
      },
      "source": [
        "model = DecisionTreeClassifier()"
      ],
      "execution_count": 30,
      "outputs": []
    },
    {
      "cell_type": "code",
      "metadata": {
        "colab": {
          "base_uri": "https://localhost:8080/"
        },
        "id": "3Gb3hFXUedyn",
        "outputId": "4a0c0bcf-84e2-4ec5-a495-45beeb33a2c7"
      },
      "source": [
        "cross_val_score(\r\n",
        "    estimator = model,\r\n",
        "    X=wine.data,\r\n",
        "    y=wine.target,\r\n",
        "    cv=5,\r\n",
        "    n_jobs = multiprocessing.cpu_count()\r\n",
        ")"
      ],
      "execution_count": 31,
      "outputs": [
        {
          "output_type": "execute_result",
          "data": {
            "text/plain": [
              "array([0.94444444, 0.83333333, 0.83333333, 0.91428571, 0.85714286])"
            ]
          },
          "metadata": {
            "tags": []
          },
          "execution_count": 31
        }
      ]
    },
    {
      "cell_type": "markdown",
      "metadata": {
        "id": "35aTirTietlo"
      },
      "source": [
        "### 전처리 후 학습"
      ]
    },
    {
      "cell_type": "code",
      "metadata": {
        "id": "shmW-VeDepKB"
      },
      "source": [
        "model = make_pipeline(\r\n",
        "    StandardScaler(),\r\n",
        "    DecisionTreeClassifier()\r\n",
        ")"
      ],
      "execution_count": 34,
      "outputs": []
    },
    {
      "cell_type": "code",
      "metadata": {
        "colab": {
          "base_uri": "https://localhost:8080/"
        },
        "id": "s0UNC_2Le3CF",
        "outputId": "3cc9bcdf-ebb0-4c58-ff2c-7f5abd1ec27c"
      },
      "source": [
        "cross_val_score(\r\n",
        "    estimator = model,\r\n",
        "    X=wine.data,\r\n",
        "    y=wine.target,\r\n",
        "    cv=5,\r\n",
        "    n_jobs = multiprocessing.cpu_count()\r\n",
        ")"
      ],
      "execution_count": 35,
      "outputs": [
        {
          "output_type": "execute_result",
          "data": {
            "text/plain": [
              "array([0.94444444, 0.83333333, 0.91666667, 0.91428571, 0.82857143])"
            ]
          },
          "metadata": {
            "tags": []
          },
          "execution_count": 35
        }
      ]
    },
    {
      "cell_type": "markdown",
      "metadata": {
        "id": "39UuNYhQfDZ8"
      },
      "source": [
        "### 트리 시각화"
      ]
    },
    {
      "cell_type": "code",
      "metadata": {
        "colab": {
          "base_uri": "https://localhost:8080/"
        },
        "id": "jKqsEhCIe5Gi",
        "outputId": "134a1ecf-0bb7-4fc4-f9f7-be2eed588646"
      },
      "source": [
        "model = DecisionTreeClassifier()\r\n",
        "model.fit(wine.data,wine.target)"
      ],
      "execution_count": 36,
      "outputs": [
        {
          "output_type": "execute_result",
          "data": {
            "text/plain": [
              "DecisionTreeClassifier(ccp_alpha=0.0, class_weight=None, criterion='gini',\n",
              "                       max_depth=None, max_features=None, max_leaf_nodes=None,\n",
              "                       min_impurity_decrease=0.0, min_impurity_split=None,\n",
              "                       min_samples_leaf=1, min_samples_split=2,\n",
              "                       min_weight_fraction_leaf=0.0, presort='deprecated',\n",
              "                       random_state=None, splitter='best')"
            ]
          },
          "metadata": {
            "tags": []
          },
          "execution_count": 36
        }
      ]
    },
    {
      "cell_type": "markdown",
      "metadata": {
        "id": "tEtaMTB4f34A"
      },
      "source": [
        "### 텍스트를 이용한 시각화"
      ]
    },
    {
      "cell_type": "code",
      "metadata": {
        "colab": {
          "base_uri": "https://localhost:8080/"
        },
        "id": "kKPI6zmSfM-i",
        "outputId": "f73fa79e-32a2-4363-dd9e-c662fb135caa"
      },
      "source": [
        "r = tree.export_text(decision_tree= model,\r\n",
        "                     feature_names= wine.feature_names,\r\n",
        "                     )\r\n",
        "print(r)"
      ],
      "execution_count": 40,
      "outputs": [
        {
          "output_type": "stream",
          "text": [
            "|--- proline <= 755.00\n",
            "|   |--- od280/od315_of_diluted_wines <= 2.11\n",
            "|   |   |--- hue <= 0.94\n",
            "|   |   |   |--- flavanoids <= 1.58\n",
            "|   |   |   |   |--- class: 2\n",
            "|   |   |   |--- flavanoids >  1.58\n",
            "|   |   |   |   |--- class: 1\n",
            "|   |   |--- hue >  0.94\n",
            "|   |   |   |--- color_intensity <= 5.82\n",
            "|   |   |   |   |--- class: 1\n",
            "|   |   |   |--- color_intensity >  5.82\n",
            "|   |   |   |   |--- class: 2\n",
            "|   |--- od280/od315_of_diluted_wines >  2.11\n",
            "|   |   |--- flavanoids <= 0.80\n",
            "|   |   |   |--- class: 2\n",
            "|   |   |--- flavanoids >  0.80\n",
            "|   |   |   |--- alcohol <= 13.17\n",
            "|   |   |   |   |--- class: 1\n",
            "|   |   |   |--- alcohol >  13.17\n",
            "|   |   |   |   |--- magnesium <= 98.50\n",
            "|   |   |   |   |   |--- class: 1\n",
            "|   |   |   |   |--- magnesium >  98.50\n",
            "|   |   |   |   |   |--- class: 0\n",
            "|--- proline >  755.00\n",
            "|   |--- flavanoids <= 2.17\n",
            "|   |   |--- color_intensity <= 3.61\n",
            "|   |   |   |--- class: 1\n",
            "|   |   |--- color_intensity >  3.61\n",
            "|   |   |   |--- class: 2\n",
            "|   |--- flavanoids >  2.17\n",
            "|   |   |--- magnesium <= 135.50\n",
            "|   |   |   |--- class: 0\n",
            "|   |   |--- magnesium >  135.50\n",
            "|   |   |   |--- class: 1\n",
            "\n"
          ],
          "name": "stdout"
        }
      ]
    },
    {
      "cell_type": "markdown",
      "metadata": {
        "id": "y2D8P5C4f1OZ"
      },
      "source": [
        "### graphviz를 이용한 시각화"
      ]
    },
    {
      "cell_type": "code",
      "metadata": {
        "colab": {
          "base_uri": "https://localhost:8080/",
          "height": 935
        },
        "id": "aD4r8LPmfbCg",
        "outputId": "415e06c9-2965-44ad-d9c1-6b1e80e69547"
      },
      "source": [
        "dot_data = tree.export_graphviz(decision_tree= model,\r\n",
        "                                feature_names = wine.feature_names,\r\n",
        "                                class_names = wine.target_names,\r\n",
        "                                filled= True, rounded = True,\r\n",
        "                                special_characters = True)\r\n",
        "graph = graphviz.Source(dot_data)\r\n",
        "graph"
      ],
      "execution_count": 42,
      "outputs": [
        {
          "output_type": "execute_result",
          "data": {
            "text/plain": [
              "<graphviz.files.Source at 0x7f681ed60400>"
            ],
            "image/svg+xml": "<?xml version=\"1.0\" encoding=\"UTF-8\" standalone=\"no\"?>\n<!DOCTYPE svg PUBLIC \"-//W3C//DTD SVG 1.1//EN\"\n \"http://www.w3.org/Graphics/SVG/1.1/DTD/svg11.dtd\">\n<!-- Generated by graphviz version 2.40.1 (20161225.0304)\n -->\n<!-- Title: Tree Pages: 1 -->\n<svg width=\"1264pt\" height=\"671pt\"\n viewBox=\"0.00 0.00 1263.50 671.00\" xmlns=\"http://www.w3.org/2000/svg\" xmlns:xlink=\"http://www.w3.org/1999/xlink\">\n<g id=\"graph0\" class=\"graph\" transform=\"scale(1 1) rotate(0) translate(4 667)\">\n<title>Tree</title>\n<polygon fill=\"#ffffff\" stroke=\"transparent\" points=\"-4,4 -4,-667 1259.5,-667 1259.5,4 -4,4\"/>\n<!-- 0 -->\n<g id=\"node1\" class=\"node\">\n<title>0</title>\n<path fill=\"#ebfcf2\" stroke=\"#000000\" d=\"M734.5,-663C734.5,-663 618.5,-663 618.5,-663 612.5,-663 606.5,-657 606.5,-651 606.5,-651 606.5,-592 606.5,-592 606.5,-586 612.5,-580 618.5,-580 618.5,-580 734.5,-580 734.5,-580 740.5,-580 746.5,-586 746.5,-592 746.5,-592 746.5,-651 746.5,-651 746.5,-657 740.5,-663 734.5,-663\"/>\n<text text-anchor=\"start\" x=\"628.5\" y=\"-647.8\" font-family=\"Helvetica,sans-Serif\" font-size=\"14.00\" fill=\"#000000\">proline ≤ 755.0</text>\n<text text-anchor=\"start\" x=\"638.5\" y=\"-632.8\" font-family=\"Helvetica,sans-Serif\" font-size=\"14.00\" fill=\"#000000\">gini = 0.658</text>\n<text text-anchor=\"start\" x=\"628.5\" y=\"-617.8\" font-family=\"Helvetica,sans-Serif\" font-size=\"14.00\" fill=\"#000000\">samples = 178</text>\n<text text-anchor=\"start\" x=\"614.5\" y=\"-602.8\" font-family=\"Helvetica,sans-Serif\" font-size=\"14.00\" fill=\"#000000\">value = [59, 71, 48]</text>\n<text text-anchor=\"start\" x=\"626.5\" y=\"-587.8\" font-family=\"Helvetica,sans-Serif\" font-size=\"14.00\" fill=\"#000000\">class = class_1</text>\n</g>\n<!-- 1 -->\n<g id=\"node2\" class=\"node\">\n<title>1</title>\n<path fill=\"#b7f6d1\" stroke=\"#000000\" d=\"M662.5,-544C662.5,-544 414.5,-544 414.5,-544 408.5,-544 402.5,-538 402.5,-532 402.5,-532 402.5,-473 402.5,-473 402.5,-467 408.5,-461 414.5,-461 414.5,-461 662.5,-461 662.5,-461 668.5,-461 674.5,-467 674.5,-473 674.5,-473 674.5,-532 674.5,-532 674.5,-538 668.5,-544 662.5,-544\"/>\n<text text-anchor=\"start\" x=\"410.5\" y=\"-528.8\" font-family=\"Helvetica,sans-Serif\" font-size=\"14.00\" fill=\"#000000\">od280/od315_of_diluted_wines ≤ 2.115</text>\n<text text-anchor=\"start\" x=\"500.5\" y=\"-513.8\" font-family=\"Helvetica,sans-Serif\" font-size=\"14.00\" fill=\"#000000\">gini = 0.492</text>\n<text text-anchor=\"start\" x=\"490.5\" y=\"-498.8\" font-family=\"Helvetica,sans-Serif\" font-size=\"14.00\" fill=\"#000000\">samples = 111</text>\n<text text-anchor=\"start\" x=\"481\" y=\"-483.8\" font-family=\"Helvetica,sans-Serif\" font-size=\"14.00\" fill=\"#000000\">value = [2, 67, 42]</text>\n<text text-anchor=\"start\" x=\"488.5\" y=\"-468.8\" font-family=\"Helvetica,sans-Serif\" font-size=\"14.00\" fill=\"#000000\">class = class_1</text>\n</g>\n<!-- 0&#45;&gt;1 -->\n<g id=\"edge1\" class=\"edge\">\n<title>0&#45;&gt;1</title>\n<path fill=\"none\" stroke=\"#000000\" d=\"M628.2343,-579.8796C617.3722,-570.513 605.7544,-560.4948 594.6027,-550.8784\"/>\n<polygon fill=\"#000000\" stroke=\"#000000\" points=\"596.8306,-548.178 586.9717,-544.2981 592.2592,-553.4792 596.8306,-548.178\"/>\n<text text-anchor=\"middle\" x=\"588.8149\" y=\"-565.53\" font-family=\"Helvetica,sans-Serif\" font-size=\"14.00\" fill=\"#000000\">True</text>\n</g>\n<!-- 16 -->\n<g id=\"node17\" class=\"node\">\n<title>16</title>\n<path fill=\"#e99659\" stroke=\"#000000\" d=\"M892.5,-544C892.5,-544 782.5,-544 782.5,-544 776.5,-544 770.5,-538 770.5,-532 770.5,-532 770.5,-473 770.5,-473 770.5,-467 776.5,-461 782.5,-461 782.5,-461 892.5,-461 892.5,-461 898.5,-461 904.5,-467 904.5,-473 904.5,-473 904.5,-532 904.5,-532 904.5,-538 898.5,-544 892.5,-544\"/>\n<text text-anchor=\"start\" x=\"778.5\" y=\"-528.8\" font-family=\"Helvetica,sans-Serif\" font-size=\"14.00\" fill=\"#000000\">flavanoids ≤ 2.165</text>\n<text text-anchor=\"start\" x=\"799.5\" y=\"-513.8\" font-family=\"Helvetica,sans-Serif\" font-size=\"14.00\" fill=\"#000000\">gini = 0.265</text>\n<text text-anchor=\"start\" x=\"793.5\" y=\"-498.8\" font-family=\"Helvetica,sans-Serif\" font-size=\"14.00\" fill=\"#000000\">samples = 67</text>\n<text text-anchor=\"start\" x=\"784\" y=\"-483.8\" font-family=\"Helvetica,sans-Serif\" font-size=\"14.00\" fill=\"#000000\">value = [57, 4, 6]</text>\n<text text-anchor=\"start\" x=\"787.5\" y=\"-468.8\" font-family=\"Helvetica,sans-Serif\" font-size=\"14.00\" fill=\"#000000\">class = class_0</text>\n</g>\n<!-- 0&#45;&gt;16 -->\n<g id=\"edge16\" class=\"edge\">\n<title>0&#45;&gt;16</title>\n<path fill=\"none\" stroke=\"#000000\" d=\"M732.81,-579.8796C745.8012,-570.2774 759.719,-559.9903 773.0277,-550.1534\"/>\n<polygon fill=\"#000000\" stroke=\"#000000\" points=\"775.2604,-552.8555 781.2218,-544.0969 771.0996,-547.2263 775.2604,-552.8555\"/>\n<text text-anchor=\"middle\" x=\"777.5133\" y=\"-565.1203\" font-family=\"Helvetica,sans-Serif\" font-size=\"14.00\" fill=\"#000000\">False</text>\n</g>\n<!-- 2 -->\n<g id=\"node3\" class=\"node\">\n<title>2</title>\n<path fill=\"#9457e9\" stroke=\"#000000\" d=\"M404,-425C404,-425 305,-425 305,-425 299,-425 293,-419 293,-413 293,-413 293,-354 293,-354 293,-348 299,-342 305,-342 305,-342 404,-342 404,-342 410,-342 416,-348 416,-354 416,-354 416,-413 416,-413 416,-419 410,-425 404,-425\"/>\n<text text-anchor=\"start\" x=\"316\" y=\"-409.8\" font-family=\"Helvetica,sans-Serif\" font-size=\"14.00\" fill=\"#000000\">hue ≤ 0.935</text>\n<text text-anchor=\"start\" x=\"316.5\" y=\"-394.8\" font-family=\"Helvetica,sans-Serif\" font-size=\"14.00\" fill=\"#000000\">gini = 0.227</text>\n<text text-anchor=\"start\" x=\"310.5\" y=\"-379.8\" font-family=\"Helvetica,sans-Serif\" font-size=\"14.00\" fill=\"#000000\">samples = 46</text>\n<text text-anchor=\"start\" x=\"301\" y=\"-364.8\" font-family=\"Helvetica,sans-Serif\" font-size=\"14.00\" fill=\"#000000\">value = [0, 6, 40]</text>\n<text text-anchor=\"start\" x=\"304.5\" y=\"-349.8\" font-family=\"Helvetica,sans-Serif\" font-size=\"14.00\" fill=\"#000000\">class = class_2</text>\n</g>\n<!-- 1&#45;&gt;2 -->\n<g id=\"edge2\" class=\"edge\">\n<title>1&#45;&gt;2</title>\n<path fill=\"none\" stroke=\"#000000\" d=\"M474.1457,-460.8796C458.0842,-450.4919 440.7833,-439.3028 424.4652,-428.7492\"/>\n<polygon fill=\"#000000\" stroke=\"#000000\" points=\"426.3308,-425.7876 416.0331,-423.2959 422.5294,-431.6655 426.3308,-425.7876\"/>\n</g>\n<!-- 9 -->\n<g id=\"node10\" class=\"node\">\n<title>9</title>\n<path fill=\"#46e789\" stroke=\"#000000\" d=\"M593.5,-425C593.5,-425 483.5,-425 483.5,-425 477.5,-425 471.5,-419 471.5,-413 471.5,-413 471.5,-354 471.5,-354 471.5,-348 477.5,-342 483.5,-342 483.5,-342 593.5,-342 593.5,-342 599.5,-342 605.5,-348 605.5,-354 605.5,-354 605.5,-413 605.5,-413 605.5,-419 599.5,-425 593.5,-425\"/>\n<text text-anchor=\"start\" x=\"479.5\" y=\"-409.8\" font-family=\"Helvetica,sans-Serif\" font-size=\"14.00\" fill=\"#000000\">flavanoids ≤ 0.795</text>\n<text text-anchor=\"start\" x=\"500.5\" y=\"-394.8\" font-family=\"Helvetica,sans-Serif\" font-size=\"14.00\" fill=\"#000000\">gini = 0.117</text>\n<text text-anchor=\"start\" x=\"494.5\" y=\"-379.8\" font-family=\"Helvetica,sans-Serif\" font-size=\"14.00\" fill=\"#000000\">samples = 65</text>\n<text text-anchor=\"start\" x=\"485\" y=\"-364.8\" font-family=\"Helvetica,sans-Serif\" font-size=\"14.00\" fill=\"#000000\">value = [2, 61, 2]</text>\n<text text-anchor=\"start\" x=\"488.5\" y=\"-349.8\" font-family=\"Helvetica,sans-Serif\" font-size=\"14.00\" fill=\"#000000\">class = class_1</text>\n</g>\n<!-- 1&#45;&gt;9 -->\n<g id=\"edge9\" class=\"edge\">\n<title>1&#45;&gt;9</title>\n<path fill=\"none\" stroke=\"#000000\" d=\"M538.5,-460.8796C538.5,-452.6838 538.5,-443.9891 538.5,-435.5013\"/>\n<polygon fill=\"#000000\" stroke=\"#000000\" points=\"542.0001,-435.298 538.5,-425.2981 535.0001,-435.2981 542.0001,-435.298\"/>\n</g>\n<!-- 3 -->\n<g id=\"node4\" class=\"node\">\n<title>3</title>\n<path fill=\"#843ee6\" stroke=\"#000000\" d=\"M243.5,-306C243.5,-306 141.5,-306 141.5,-306 135.5,-306 129.5,-300 129.5,-294 129.5,-294 129.5,-235 129.5,-235 129.5,-229 135.5,-223 141.5,-223 141.5,-223 243.5,-223 243.5,-223 249.5,-223 255.5,-229 255.5,-235 255.5,-235 255.5,-294 255.5,-294 255.5,-300 249.5,-306 243.5,-306\"/>\n<text text-anchor=\"start\" x=\"137.5\" y=\"-290.8\" font-family=\"Helvetica,sans-Serif\" font-size=\"14.00\" fill=\"#000000\">flavanoids ≤ 1.58</text>\n<text text-anchor=\"start\" x=\"154.5\" y=\"-275.8\" font-family=\"Helvetica,sans-Serif\" font-size=\"14.00\" fill=\"#000000\">gini = 0.049</text>\n<text text-anchor=\"start\" x=\"148.5\" y=\"-260.8\" font-family=\"Helvetica,sans-Serif\" font-size=\"14.00\" fill=\"#000000\">samples = 40</text>\n<text text-anchor=\"start\" x=\"139\" y=\"-245.8\" font-family=\"Helvetica,sans-Serif\" font-size=\"14.00\" fill=\"#000000\">value = [0, 1, 39]</text>\n<text text-anchor=\"start\" x=\"142.5\" y=\"-230.8\" font-family=\"Helvetica,sans-Serif\" font-size=\"14.00\" fill=\"#000000\">class = class_2</text>\n</g>\n<!-- 2&#45;&gt;3 -->\n<g id=\"edge3\" class=\"edge\">\n<title>2&#45;&gt;3</title>\n<path fill=\"none\" stroke=\"#000000\" d=\"M297.8403,-341.8796C284.7684,-332.2774 270.7641,-321.9903 257.3727,-312.1534\"/>\n<polygon fill=\"#000000\" stroke=\"#000000\" points=\"259.2591,-309.1963 249.1277,-306.0969 255.115,-314.8378 259.2591,-309.1963\"/>\n</g>\n<!-- 6 -->\n<g id=\"node7\" class=\"node\">\n<title>6</title>\n<path fill=\"#61ea9a\" stroke=\"#000000\" d=\"M423,-306C423,-306 286,-306 286,-306 280,-306 274,-300 274,-294 274,-294 274,-235 274,-235 274,-229 280,-223 286,-223 286,-223 423,-223 423,-223 429,-223 435,-229 435,-235 435,-235 435,-294 435,-294 435,-300 429,-306 423,-306\"/>\n<text text-anchor=\"start\" x=\"282\" y=\"-290.8\" font-family=\"Helvetica,sans-Serif\" font-size=\"14.00\" fill=\"#000000\">color_intensity ≤ 5.815</text>\n<text text-anchor=\"start\" x=\"316.5\" y=\"-275.8\" font-family=\"Helvetica,sans-Serif\" font-size=\"14.00\" fill=\"#000000\">gini = 0.278</text>\n<text text-anchor=\"start\" x=\"315\" y=\"-260.8\" font-family=\"Helvetica,sans-Serif\" font-size=\"14.00\" fill=\"#000000\">samples = 6</text>\n<text text-anchor=\"start\" x=\"305\" y=\"-245.8\" font-family=\"Helvetica,sans-Serif\" font-size=\"14.00\" fill=\"#000000\">value = [0, 5, 1]</text>\n<text text-anchor=\"start\" x=\"304.5\" y=\"-230.8\" font-family=\"Helvetica,sans-Serif\" font-size=\"14.00\" fill=\"#000000\">class = class_1</text>\n</g>\n<!-- 2&#45;&gt;6 -->\n<g id=\"edge6\" class=\"edge\">\n<title>2&#45;&gt;6</title>\n<path fill=\"none\" stroke=\"#000000\" d=\"M354.5,-341.8796C354.5,-333.6838 354.5,-324.9891 354.5,-316.5013\"/>\n<polygon fill=\"#000000\" stroke=\"#000000\" points=\"358.0001,-316.298 354.5,-306.2981 351.0001,-316.2981 358.0001,-316.298\"/>\n</g>\n<!-- 4 -->\n<g id=\"node5\" class=\"node\">\n<title>4</title>\n<path fill=\"#8139e5\" stroke=\"#000000\" d=\"M111,-179.5C111,-179.5 12,-179.5 12,-179.5 6,-179.5 0,-173.5 0,-167.5 0,-167.5 0,-123.5 0,-123.5 0,-117.5 6,-111.5 12,-111.5 12,-111.5 111,-111.5 111,-111.5 117,-111.5 123,-117.5 123,-123.5 123,-123.5 123,-167.5 123,-167.5 123,-173.5 117,-179.5 111,-179.5\"/>\n<text text-anchor=\"start\" x=\"32\" y=\"-164.3\" font-family=\"Helvetica,sans-Serif\" font-size=\"14.00\" fill=\"#000000\">gini = 0.0</text>\n<text text-anchor=\"start\" x=\"17.5\" y=\"-149.3\" font-family=\"Helvetica,sans-Serif\" font-size=\"14.00\" fill=\"#000000\">samples = 39</text>\n<text text-anchor=\"start\" x=\"8\" y=\"-134.3\" font-family=\"Helvetica,sans-Serif\" font-size=\"14.00\" fill=\"#000000\">value = [0, 0, 39]</text>\n<text text-anchor=\"start\" x=\"11.5\" y=\"-119.3\" font-family=\"Helvetica,sans-Serif\" font-size=\"14.00\" fill=\"#000000\">class = class_2</text>\n</g>\n<!-- 3&#45;&gt;4 -->\n<g id=\"edge4\" class=\"edge\">\n<title>3&#45;&gt;4</title>\n<path fill=\"none\" stroke=\"#000000\" d=\"M146.6826,-222.8796C133.7303,-211.1138 119.646,-198.3197 106.7286,-186.5855\"/>\n<polygon fill=\"#000000\" stroke=\"#000000\" points=\"109.0306,-183.9482 99.2753,-179.8149 104.3239,-189.1296 109.0306,-183.9482\"/>\n</g>\n<!-- 5 -->\n<g id=\"node6\" class=\"node\">\n<title>5</title>\n<path fill=\"#39e581\" stroke=\"#000000\" d=\"M245.5,-179.5C245.5,-179.5 153.5,-179.5 153.5,-179.5 147.5,-179.5 141.5,-173.5 141.5,-167.5 141.5,-167.5 141.5,-123.5 141.5,-123.5 141.5,-117.5 147.5,-111.5 153.5,-111.5 153.5,-111.5 245.5,-111.5 245.5,-111.5 251.5,-111.5 257.5,-117.5 257.5,-123.5 257.5,-123.5 257.5,-167.5 257.5,-167.5 257.5,-173.5 251.5,-179.5 245.5,-179.5\"/>\n<text text-anchor=\"start\" x=\"170\" y=\"-164.3\" font-family=\"Helvetica,sans-Serif\" font-size=\"14.00\" fill=\"#000000\">gini = 0.0</text>\n<text text-anchor=\"start\" x=\"160\" y=\"-149.3\" font-family=\"Helvetica,sans-Serif\" font-size=\"14.00\" fill=\"#000000\">samples = 1</text>\n<text text-anchor=\"start\" x=\"150\" y=\"-134.3\" font-family=\"Helvetica,sans-Serif\" font-size=\"14.00\" fill=\"#000000\">value = [0, 1, 0]</text>\n<text text-anchor=\"start\" x=\"149.5\" y=\"-119.3\" font-family=\"Helvetica,sans-Serif\" font-size=\"14.00\" fill=\"#000000\">class = class_1</text>\n</g>\n<!-- 3&#45;&gt;5 -->\n<g id=\"edge5\" class=\"edge\">\n<title>3&#45;&gt;5</title>\n<path fill=\"none\" stroke=\"#000000\" d=\"M194.9483,-222.8796C195.5757,-212.2134 196.2528,-200.7021 196.8881,-189.9015\"/>\n<polygon fill=\"#000000\" stroke=\"#000000\" points=\"200.3881,-190.0032 197.4815,-179.8149 193.4002,-189.5921 200.3881,-190.0032\"/>\n</g>\n<!-- 7 -->\n<g id=\"node8\" class=\"node\">\n<title>7</title>\n<path fill=\"#39e581\" stroke=\"#000000\" d=\"M393.5,-179.5C393.5,-179.5 301.5,-179.5 301.5,-179.5 295.5,-179.5 289.5,-173.5 289.5,-167.5 289.5,-167.5 289.5,-123.5 289.5,-123.5 289.5,-117.5 295.5,-111.5 301.5,-111.5 301.5,-111.5 393.5,-111.5 393.5,-111.5 399.5,-111.5 405.5,-117.5 405.5,-123.5 405.5,-123.5 405.5,-167.5 405.5,-167.5 405.5,-173.5 399.5,-179.5 393.5,-179.5\"/>\n<text text-anchor=\"start\" x=\"318\" y=\"-164.3\" font-family=\"Helvetica,sans-Serif\" font-size=\"14.00\" fill=\"#000000\">gini = 0.0</text>\n<text text-anchor=\"start\" x=\"308\" y=\"-149.3\" font-family=\"Helvetica,sans-Serif\" font-size=\"14.00\" fill=\"#000000\">samples = 5</text>\n<text text-anchor=\"start\" x=\"298\" y=\"-134.3\" font-family=\"Helvetica,sans-Serif\" font-size=\"14.00\" fill=\"#000000\">value = [0, 5, 0]</text>\n<text text-anchor=\"start\" x=\"297.5\" y=\"-119.3\" font-family=\"Helvetica,sans-Serif\" font-size=\"14.00\" fill=\"#000000\">class = class_1</text>\n</g>\n<!-- 6&#45;&gt;7 -->\n<g id=\"edge7\" class=\"edge\">\n<title>6&#45;&gt;7</title>\n<path fill=\"none\" stroke=\"#000000\" d=\"M352.0517,-222.8796C351.4243,-212.2134 350.7472,-200.7021 350.1119,-189.9015\"/>\n<polygon fill=\"#000000\" stroke=\"#000000\" points=\"353.5998,-189.5921 349.5185,-179.8149 346.6119,-190.0032 353.5998,-189.5921\"/>\n</g>\n<!-- 8 -->\n<g id=\"node9\" class=\"node\">\n<title>8</title>\n<path fill=\"#8139e5\" stroke=\"#000000\" d=\"M527.5,-179.5C527.5,-179.5 435.5,-179.5 435.5,-179.5 429.5,-179.5 423.5,-173.5 423.5,-167.5 423.5,-167.5 423.5,-123.5 423.5,-123.5 423.5,-117.5 429.5,-111.5 435.5,-111.5 435.5,-111.5 527.5,-111.5 527.5,-111.5 533.5,-111.5 539.5,-117.5 539.5,-123.5 539.5,-123.5 539.5,-167.5 539.5,-167.5 539.5,-173.5 533.5,-179.5 527.5,-179.5\"/>\n<text text-anchor=\"start\" x=\"452\" y=\"-164.3\" font-family=\"Helvetica,sans-Serif\" font-size=\"14.00\" fill=\"#000000\">gini = 0.0</text>\n<text text-anchor=\"start\" x=\"442\" y=\"-149.3\" font-family=\"Helvetica,sans-Serif\" font-size=\"14.00\" fill=\"#000000\">samples = 1</text>\n<text text-anchor=\"start\" x=\"432\" y=\"-134.3\" font-family=\"Helvetica,sans-Serif\" font-size=\"14.00\" fill=\"#000000\">value = [0, 0, 1]</text>\n<text text-anchor=\"start\" x=\"431.5\" y=\"-119.3\" font-family=\"Helvetica,sans-Serif\" font-size=\"14.00\" fill=\"#000000\">class = class_2</text>\n</g>\n<!-- 6&#45;&gt;8 -->\n<g id=\"edge8\" class=\"edge\">\n<title>6&#45;&gt;8</title>\n<path fill=\"none\" stroke=\"#000000\" d=\"M398.9184,-222.8796C411.3579,-211.2237 424.8743,-198.5587 437.301,-186.9148\"/>\n<polygon fill=\"#000000\" stroke=\"#000000\" points=\"439.9741,-189.2065 444.8782,-179.8149 435.1879,-184.0985 439.9741,-189.2065\"/>\n</g>\n<!-- 10 -->\n<g id=\"node11\" class=\"node\">\n<title>10</title>\n<path fill=\"#8139e5\" stroke=\"#000000\" d=\"M557.5,-298.5C557.5,-298.5 465.5,-298.5 465.5,-298.5 459.5,-298.5 453.5,-292.5 453.5,-286.5 453.5,-286.5 453.5,-242.5 453.5,-242.5 453.5,-236.5 459.5,-230.5 465.5,-230.5 465.5,-230.5 557.5,-230.5 557.5,-230.5 563.5,-230.5 569.5,-236.5 569.5,-242.5 569.5,-242.5 569.5,-286.5 569.5,-286.5 569.5,-292.5 563.5,-298.5 557.5,-298.5\"/>\n<text text-anchor=\"start\" x=\"482\" y=\"-283.3\" font-family=\"Helvetica,sans-Serif\" font-size=\"14.00\" fill=\"#000000\">gini = 0.0</text>\n<text text-anchor=\"start\" x=\"472\" y=\"-268.3\" font-family=\"Helvetica,sans-Serif\" font-size=\"14.00\" fill=\"#000000\">samples = 2</text>\n<text text-anchor=\"start\" x=\"462\" y=\"-253.3\" font-family=\"Helvetica,sans-Serif\" font-size=\"14.00\" fill=\"#000000\">value = [0, 0, 2]</text>\n<text text-anchor=\"start\" x=\"461.5\" y=\"-238.3\" font-family=\"Helvetica,sans-Serif\" font-size=\"14.00\" fill=\"#000000\">class = class_2</text>\n</g>\n<!-- 9&#45;&gt;10 -->\n<g id=\"edge10\" class=\"edge\">\n<title>9&#45;&gt;10</title>\n<path fill=\"none\" stroke=\"#000000\" d=\"M529.0567,-341.8796C526.6117,-331.1034 523.971,-319.4647 521.4986,-308.5677\"/>\n<polygon fill=\"#000000\" stroke=\"#000000\" points=\"524.9117,-307.7926 519.2857,-298.8149 518.0852,-309.3415 524.9117,-307.7926\"/>\n</g>\n<!-- 11 -->\n<g id=\"node12\" class=\"node\">\n<title>11</title>\n<path fill=\"#3fe685\" stroke=\"#000000\" d=\"M699,-306C699,-306 600,-306 600,-306 594,-306 588,-300 588,-294 588,-294 588,-235 588,-235 588,-229 594,-223 600,-223 600,-223 699,-223 699,-223 705,-223 711,-229 711,-235 711,-235 711,-294 711,-294 711,-300 705,-306 699,-306\"/>\n<text text-anchor=\"start\" x=\"596\" y=\"-290.8\" font-family=\"Helvetica,sans-Serif\" font-size=\"14.00\" fill=\"#000000\">alcohol ≤ 13.175</text>\n<text text-anchor=\"start\" x=\"611.5\" y=\"-275.8\" font-family=\"Helvetica,sans-Serif\" font-size=\"14.00\" fill=\"#000000\">gini = 0.061</text>\n<text text-anchor=\"start\" x=\"605.5\" y=\"-260.8\" font-family=\"Helvetica,sans-Serif\" font-size=\"14.00\" fill=\"#000000\">samples = 63</text>\n<text text-anchor=\"start\" x=\"596\" y=\"-245.8\" font-family=\"Helvetica,sans-Serif\" font-size=\"14.00\" fill=\"#000000\">value = [2, 61, 0]</text>\n<text text-anchor=\"start\" x=\"599.5\" y=\"-230.8\" font-family=\"Helvetica,sans-Serif\" font-size=\"14.00\" fill=\"#000000\">class = class_1</text>\n</g>\n<!-- 9&#45;&gt;11 -->\n<g id=\"edge11\" class=\"edge\">\n<title>9&#45;&gt;11</title>\n<path fill=\"none\" stroke=\"#000000\" d=\"M577.3224,-341.8796C585.8073,-332.7832 594.8654,-323.0722 603.5968,-313.7116\"/>\n<polygon fill=\"#000000\" stroke=\"#000000\" points=\"606.2503,-315.9981 610.5119,-306.2981 601.1314,-311.2233 606.2503,-315.9981\"/>\n</g>\n<!-- 12 -->\n<g id=\"node13\" class=\"node\">\n<title>12</title>\n<path fill=\"#39e581\" stroke=\"#000000\" d=\"M684,-179.5C684,-179.5 585,-179.5 585,-179.5 579,-179.5 573,-173.5 573,-167.5 573,-167.5 573,-123.5 573,-123.5 573,-117.5 579,-111.5 585,-111.5 585,-111.5 684,-111.5 684,-111.5 690,-111.5 696,-117.5 696,-123.5 696,-123.5 696,-167.5 696,-167.5 696,-173.5 690,-179.5 684,-179.5\"/>\n<text text-anchor=\"start\" x=\"605\" y=\"-164.3\" font-family=\"Helvetica,sans-Serif\" font-size=\"14.00\" fill=\"#000000\">gini = 0.0</text>\n<text text-anchor=\"start\" x=\"590.5\" y=\"-149.3\" font-family=\"Helvetica,sans-Serif\" font-size=\"14.00\" fill=\"#000000\">samples = 58</text>\n<text text-anchor=\"start\" x=\"581\" y=\"-134.3\" font-family=\"Helvetica,sans-Serif\" font-size=\"14.00\" fill=\"#000000\">value = [0, 58, 0]</text>\n<text text-anchor=\"start\" x=\"584.5\" y=\"-119.3\" font-family=\"Helvetica,sans-Serif\" font-size=\"14.00\" fill=\"#000000\">class = class_1</text>\n</g>\n<!-- 11&#45;&gt;12 -->\n<g id=\"edge12\" class=\"edge\">\n<title>11&#45;&gt;12</title>\n<path fill=\"none\" stroke=\"#000000\" d=\"M644.2537,-222.8796C642.9092,-212.2134 641.4582,-200.7021 640.0968,-189.9015\"/>\n<polygon fill=\"#000000\" stroke=\"#000000\" points=\"643.5486,-189.2987 638.8254,-179.8149 636.6036,-190.1742 643.5486,-189.2987\"/>\n</g>\n<!-- 13 -->\n<g id=\"node14\" class=\"node\">\n<title>13</title>\n<path fill=\"#bdf6d5\" stroke=\"#000000\" d=\"M838.5,-187C838.5,-187 726.5,-187 726.5,-187 720.5,-187 714.5,-181 714.5,-175 714.5,-175 714.5,-116 714.5,-116 714.5,-110 720.5,-104 726.5,-104 726.5,-104 838.5,-104 838.5,-104 844.5,-104 850.5,-110 850.5,-116 850.5,-116 850.5,-175 850.5,-175 850.5,-181 844.5,-187 838.5,-187\"/>\n<text text-anchor=\"start\" x=\"722.5\" y=\"-171.8\" font-family=\"Helvetica,sans-Serif\" font-size=\"14.00\" fill=\"#000000\">magnesium ≤ 98.5</text>\n<text text-anchor=\"start\" x=\"749\" y=\"-156.8\" font-family=\"Helvetica,sans-Serif\" font-size=\"14.00\" fill=\"#000000\">gini = 0.48</text>\n<text text-anchor=\"start\" x=\"743\" y=\"-141.8\" font-family=\"Helvetica,sans-Serif\" font-size=\"14.00\" fill=\"#000000\">samples = 5</text>\n<text text-anchor=\"start\" x=\"733\" y=\"-126.8\" font-family=\"Helvetica,sans-Serif\" font-size=\"14.00\" fill=\"#000000\">value = [2, 3, 0]</text>\n<text text-anchor=\"start\" x=\"732.5\" y=\"-111.8\" font-family=\"Helvetica,sans-Serif\" font-size=\"14.00\" fill=\"#000000\">class = class_1</text>\n</g>\n<!-- 11&#45;&gt;13 -->\n<g id=\"edge13\" class=\"edge\">\n<title>11&#45;&gt;13</title>\n<path fill=\"none\" stroke=\"#000000\" d=\"M696.0169,-222.8796C706.3848,-213.6031 717.4671,-203.6874 728.1199,-194.1559\"/>\n<polygon fill=\"#000000\" stroke=\"#000000\" points=\"730.6659,-196.5744 735.7845,-187.2981 725.9983,-191.3577 730.6659,-196.5744\"/>\n</g>\n<!-- 14 -->\n<g id=\"node15\" class=\"node\">\n<title>14</title>\n<path fill=\"#39e581\" stroke=\"#000000\" d=\"M761.5,-68C761.5,-68 669.5,-68 669.5,-68 663.5,-68 657.5,-62 657.5,-56 657.5,-56 657.5,-12 657.5,-12 657.5,-6 663.5,0 669.5,0 669.5,0 761.5,0 761.5,0 767.5,0 773.5,-6 773.5,-12 773.5,-12 773.5,-56 773.5,-56 773.5,-62 767.5,-68 761.5,-68\"/>\n<text text-anchor=\"start\" x=\"686\" y=\"-52.8\" font-family=\"Helvetica,sans-Serif\" font-size=\"14.00\" fill=\"#000000\">gini = 0.0</text>\n<text text-anchor=\"start\" x=\"676\" y=\"-37.8\" font-family=\"Helvetica,sans-Serif\" font-size=\"14.00\" fill=\"#000000\">samples = 3</text>\n<text text-anchor=\"start\" x=\"666\" y=\"-22.8\" font-family=\"Helvetica,sans-Serif\" font-size=\"14.00\" fill=\"#000000\">value = [0, 3, 0]</text>\n<text text-anchor=\"start\" x=\"665.5\" y=\"-7.8\" font-family=\"Helvetica,sans-Serif\" font-size=\"14.00\" fill=\"#000000\">class = class_1</text>\n</g>\n<!-- 13&#45;&gt;14 -->\n<g id=\"edge14\" class=\"edge\">\n<title>13&#45;&gt;14</title>\n<path fill=\"none\" stroke=\"#000000\" d=\"M757.5517,-103.9815C752.2499,-95.1585 746.6419,-85.8258 741.3089,-76.9506\"/>\n<polygon fill=\"#000000\" stroke=\"#000000\" points=\"744.2396,-75.0325 736.0889,-68.2637 738.2395,-78.638 744.2396,-75.0325\"/>\n</g>\n<!-- 15 -->\n<g id=\"node16\" class=\"node\">\n<title>15</title>\n<path fill=\"#e58139\" stroke=\"#000000\" d=\"M895.5,-68C895.5,-68 803.5,-68 803.5,-68 797.5,-68 791.5,-62 791.5,-56 791.5,-56 791.5,-12 791.5,-12 791.5,-6 797.5,0 803.5,0 803.5,0 895.5,0 895.5,0 901.5,0 907.5,-6 907.5,-12 907.5,-12 907.5,-56 907.5,-56 907.5,-62 901.5,-68 895.5,-68\"/>\n<text text-anchor=\"start\" x=\"820\" y=\"-52.8\" font-family=\"Helvetica,sans-Serif\" font-size=\"14.00\" fill=\"#000000\">gini = 0.0</text>\n<text text-anchor=\"start\" x=\"810\" y=\"-37.8\" font-family=\"Helvetica,sans-Serif\" font-size=\"14.00\" fill=\"#000000\">samples = 2</text>\n<text text-anchor=\"start\" x=\"800\" y=\"-22.8\" font-family=\"Helvetica,sans-Serif\" font-size=\"14.00\" fill=\"#000000\">value = [2, 0, 0]</text>\n<text text-anchor=\"start\" x=\"799.5\" y=\"-7.8\" font-family=\"Helvetica,sans-Serif\" font-size=\"14.00\" fill=\"#000000\">class = class_0</text>\n</g>\n<!-- 13&#45;&gt;15 -->\n<g id=\"edge15\" class=\"edge\">\n<title>13&#45;&gt;15</title>\n<path fill=\"none\" stroke=\"#000000\" d=\"M807.4483,-103.9815C812.7501,-95.1585 818.3581,-85.8258 823.6911,-76.9506\"/>\n<polygon fill=\"#000000\" stroke=\"#000000\" points=\"826.7605,-78.638 828.9111,-68.2637 820.7604,-75.0325 826.7605,-78.638\"/>\n</g>\n<!-- 17 -->\n<g id=\"node18\" class=\"node\">\n<title>17</title>\n<path fill=\"#ab7bee\" stroke=\"#000000\" d=\"M906,-425C906,-425 769,-425 769,-425 763,-425 757,-419 757,-413 757,-413 757,-354 757,-354 757,-348 763,-342 769,-342 769,-342 906,-342 906,-342 912,-342 918,-348 918,-354 918,-354 918,-413 918,-413 918,-419 912,-425 906,-425\"/>\n<text text-anchor=\"start\" x=\"765\" y=\"-409.8\" font-family=\"Helvetica,sans-Serif\" font-size=\"14.00\" fill=\"#000000\">color_intensity ≤ 3.605</text>\n<text text-anchor=\"start\" x=\"799.5\" y=\"-394.8\" font-family=\"Helvetica,sans-Serif\" font-size=\"14.00\" fill=\"#000000\">gini = 0.375</text>\n<text text-anchor=\"start\" x=\"798\" y=\"-379.8\" font-family=\"Helvetica,sans-Serif\" font-size=\"14.00\" fill=\"#000000\">samples = 8</text>\n<text text-anchor=\"start\" x=\"788\" y=\"-364.8\" font-family=\"Helvetica,sans-Serif\" font-size=\"14.00\" fill=\"#000000\">value = [0, 2, 6]</text>\n<text text-anchor=\"start\" x=\"787.5\" y=\"-349.8\" font-family=\"Helvetica,sans-Serif\" font-size=\"14.00\" fill=\"#000000\">class = class_2</text>\n</g>\n<!-- 16&#45;&gt;17 -->\n<g id=\"edge17\" class=\"edge\">\n<title>16&#45;&gt;17</title>\n<path fill=\"none\" stroke=\"#000000\" d=\"M837.5,-460.8796C837.5,-452.6838 837.5,-443.9891 837.5,-435.5013\"/>\n<polygon fill=\"#000000\" stroke=\"#000000\" points=\"841.0001,-435.298 837.5,-425.2981 834.0001,-435.2981 841.0001,-435.298\"/>\n</g>\n<!-- 20 -->\n<g id=\"node21\" class=\"node\">\n<title>20</title>\n<path fill=\"#e68540\" stroke=\"#000000\" d=\"M1119.5,-425C1119.5,-425 999.5,-425 999.5,-425 993.5,-425 987.5,-419 987.5,-413 987.5,-413 987.5,-354 987.5,-354 987.5,-348 993.5,-342 999.5,-342 999.5,-342 1119.5,-342 1119.5,-342 1125.5,-342 1131.5,-348 1131.5,-354 1131.5,-354 1131.5,-413 1131.5,-413 1131.5,-419 1125.5,-425 1119.5,-425\"/>\n<text text-anchor=\"start\" x=\"995.5\" y=\"-409.8\" font-family=\"Helvetica,sans-Serif\" font-size=\"14.00\" fill=\"#000000\">magnesium ≤ 135.5</text>\n<text text-anchor=\"start\" x=\"1021.5\" y=\"-394.8\" font-family=\"Helvetica,sans-Serif\" font-size=\"14.00\" fill=\"#000000\">gini = 0.065</text>\n<text text-anchor=\"start\" x=\"1015.5\" y=\"-379.8\" font-family=\"Helvetica,sans-Serif\" font-size=\"14.00\" fill=\"#000000\">samples = 59</text>\n<text text-anchor=\"start\" x=\"1006\" y=\"-364.8\" font-family=\"Helvetica,sans-Serif\" font-size=\"14.00\" fill=\"#000000\">value = [57, 2, 0]</text>\n<text text-anchor=\"start\" x=\"1009.5\" y=\"-349.8\" font-family=\"Helvetica,sans-Serif\" font-size=\"14.00\" fill=\"#000000\">class = class_0</text>\n</g>\n<!-- 16&#45;&gt;20 -->\n<g id=\"edge20\" class=\"edge\">\n<title>16&#45;&gt;20</title>\n<path fill=\"none\" stroke=\"#000000\" d=\"M904.7098,-466.4731C927.7946,-454.0988 953.8889,-440.1113 977.9847,-427.1952\"/>\n<polygon fill=\"#000000\" stroke=\"#000000\" points=\"979.9512,-430.1122 987.1113,-422.303 976.6441,-423.9427 979.9512,-430.1122\"/>\n</g>\n<!-- 18 -->\n<g id=\"node19\" class=\"node\">\n<title>18</title>\n<path fill=\"#39e581\" stroke=\"#000000\" d=\"M833.5,-298.5C833.5,-298.5 741.5,-298.5 741.5,-298.5 735.5,-298.5 729.5,-292.5 729.5,-286.5 729.5,-286.5 729.5,-242.5 729.5,-242.5 729.5,-236.5 735.5,-230.5 741.5,-230.5 741.5,-230.5 833.5,-230.5 833.5,-230.5 839.5,-230.5 845.5,-236.5 845.5,-242.5 845.5,-242.5 845.5,-286.5 845.5,-286.5 845.5,-292.5 839.5,-298.5 833.5,-298.5\"/>\n<text text-anchor=\"start\" x=\"758\" y=\"-283.3\" font-family=\"Helvetica,sans-Serif\" font-size=\"14.00\" fill=\"#000000\">gini = 0.0</text>\n<text text-anchor=\"start\" x=\"748\" y=\"-268.3\" font-family=\"Helvetica,sans-Serif\" font-size=\"14.00\" fill=\"#000000\">samples = 2</text>\n<text text-anchor=\"start\" x=\"738\" y=\"-253.3\" font-family=\"Helvetica,sans-Serif\" font-size=\"14.00\" fill=\"#000000\">value = [0, 2, 0]</text>\n<text text-anchor=\"start\" x=\"737.5\" y=\"-238.3\" font-family=\"Helvetica,sans-Serif\" font-size=\"14.00\" fill=\"#000000\">class = class_1</text>\n</g>\n<!-- 17&#45;&gt;18 -->\n<g id=\"edge18\" class=\"edge\">\n<title>17&#45;&gt;18</title>\n<path fill=\"none\" stroke=\"#000000\" d=\"M820.0124,-341.8796C815.4384,-330.9935 810.4946,-319.227 805.8758,-308.2344\"/>\n<polygon fill=\"#000000\" stroke=\"#000000\" points=\"809.0185,-306.6784 801.918,-298.8149 802.565,-309.39 809.0185,-306.6784\"/>\n</g>\n<!-- 19 -->\n<g id=\"node20\" class=\"node\">\n<title>19</title>\n<path fill=\"#8139e5\" stroke=\"#000000\" d=\"M967.5,-298.5C967.5,-298.5 875.5,-298.5 875.5,-298.5 869.5,-298.5 863.5,-292.5 863.5,-286.5 863.5,-286.5 863.5,-242.5 863.5,-242.5 863.5,-236.5 869.5,-230.5 875.5,-230.5 875.5,-230.5 967.5,-230.5 967.5,-230.5 973.5,-230.5 979.5,-236.5 979.5,-242.5 979.5,-242.5 979.5,-286.5 979.5,-286.5 979.5,-292.5 973.5,-298.5 967.5,-298.5\"/>\n<text text-anchor=\"start\" x=\"892\" y=\"-283.3\" font-family=\"Helvetica,sans-Serif\" font-size=\"14.00\" fill=\"#000000\">gini = 0.0</text>\n<text text-anchor=\"start\" x=\"882\" y=\"-268.3\" font-family=\"Helvetica,sans-Serif\" font-size=\"14.00\" fill=\"#000000\">samples = 6</text>\n<text text-anchor=\"start\" x=\"872\" y=\"-253.3\" font-family=\"Helvetica,sans-Serif\" font-size=\"14.00\" fill=\"#000000\">value = [0, 0, 6]</text>\n<text text-anchor=\"start\" x=\"871.5\" y=\"-238.3\" font-family=\"Helvetica,sans-Serif\" font-size=\"14.00\" fill=\"#000000\">class = class_2</text>\n</g>\n<!-- 17&#45;&gt;19 -->\n<g id=\"edge19\" class=\"edge\">\n<title>17&#45;&gt;19</title>\n<path fill=\"none\" stroke=\"#000000\" d=\"M866.8791,-341.8796C874.7963,-330.6636 883.3731,-318.5131 891.3325,-307.2372\"/>\n<polygon fill=\"#000000\" stroke=\"#000000\" points=\"894.3702,-309.003 897.2777,-298.8149 888.6514,-304.9662 894.3702,-309.003\"/>\n</g>\n<!-- 21 -->\n<g id=\"node22\" class=\"node\">\n<title>21</title>\n<path fill=\"#e58139\" stroke=\"#000000\" d=\"M1109,-298.5C1109,-298.5 1010,-298.5 1010,-298.5 1004,-298.5 998,-292.5 998,-286.5 998,-286.5 998,-242.5 998,-242.5 998,-236.5 1004,-230.5 1010,-230.5 1010,-230.5 1109,-230.5 1109,-230.5 1115,-230.5 1121,-236.5 1121,-242.5 1121,-242.5 1121,-286.5 1121,-286.5 1121,-292.5 1115,-298.5 1109,-298.5\"/>\n<text text-anchor=\"start\" x=\"1030\" y=\"-283.3\" font-family=\"Helvetica,sans-Serif\" font-size=\"14.00\" fill=\"#000000\">gini = 0.0</text>\n<text text-anchor=\"start\" x=\"1015.5\" y=\"-268.3\" font-family=\"Helvetica,sans-Serif\" font-size=\"14.00\" fill=\"#000000\">samples = 57</text>\n<text text-anchor=\"start\" x=\"1006\" y=\"-253.3\" font-family=\"Helvetica,sans-Serif\" font-size=\"14.00\" fill=\"#000000\">value = [57, 0, 0]</text>\n<text text-anchor=\"start\" x=\"1009.5\" y=\"-238.3\" font-family=\"Helvetica,sans-Serif\" font-size=\"14.00\" fill=\"#000000\">class = class_0</text>\n</g>\n<!-- 20&#45;&gt;21 -->\n<g id=\"edge21\" class=\"edge\">\n<title>20&#45;&gt;21</title>\n<path fill=\"none\" stroke=\"#000000\" d=\"M1059.5,-341.8796C1059.5,-331.2134 1059.5,-319.7021 1059.5,-308.9015\"/>\n<polygon fill=\"#000000\" stroke=\"#000000\" points=\"1063.0001,-308.8149 1059.5,-298.8149 1056.0001,-308.815 1063.0001,-308.8149\"/>\n</g>\n<!-- 22 -->\n<g id=\"node23\" class=\"node\">\n<title>22</title>\n<path fill=\"#39e581\" stroke=\"#000000\" d=\"M1243.5,-298.5C1243.5,-298.5 1151.5,-298.5 1151.5,-298.5 1145.5,-298.5 1139.5,-292.5 1139.5,-286.5 1139.5,-286.5 1139.5,-242.5 1139.5,-242.5 1139.5,-236.5 1145.5,-230.5 1151.5,-230.5 1151.5,-230.5 1243.5,-230.5 1243.5,-230.5 1249.5,-230.5 1255.5,-236.5 1255.5,-242.5 1255.5,-242.5 1255.5,-286.5 1255.5,-286.5 1255.5,-292.5 1249.5,-298.5 1243.5,-298.5\"/>\n<text text-anchor=\"start\" x=\"1168\" y=\"-283.3\" font-family=\"Helvetica,sans-Serif\" font-size=\"14.00\" fill=\"#000000\">gini = 0.0</text>\n<text text-anchor=\"start\" x=\"1158\" y=\"-268.3\" font-family=\"Helvetica,sans-Serif\" font-size=\"14.00\" fill=\"#000000\">samples = 2</text>\n<text text-anchor=\"start\" x=\"1148\" y=\"-253.3\" font-family=\"Helvetica,sans-Serif\" font-size=\"14.00\" fill=\"#000000\">value = [0, 2, 0]</text>\n<text text-anchor=\"start\" x=\"1147.5\" y=\"-238.3\" font-family=\"Helvetica,sans-Serif\" font-size=\"14.00\" fill=\"#000000\">class = class_1</text>\n</g>\n<!-- 20&#45;&gt;22 -->\n<g id=\"edge22\" class=\"edge\">\n<title>20&#45;&gt;22</title>\n<path fill=\"none\" stroke=\"#000000\" d=\"M1107.7657,-341.8796C1121.4101,-330.1138 1136.2469,-317.3197 1149.8546,-305.5855\"/>\n<polygon fill=\"#000000\" stroke=\"#000000\" points=\"1152.4187,-307.9961 1157.7062,-298.8149 1147.8473,-302.6948 1152.4187,-307.9961\"/>\n</g>\n</g>\n</svg>\n"
          },
          "metadata": {
            "tags": []
          },
          "execution_count": 42
        }
      ]
    },
    {
      "cell_type": "markdown",
      "metadata": {
        "id": "UtAxS9XVgasB"
      },
      "source": [
        "### 결정 경계 시각화"
      ]
    },
    {
      "cell_type": "code",
      "metadata": {
        "id": "vUj80FRRgL01"
      },
      "source": [
        "n_classes = 3\r\n",
        "plot_colors = 'ryb'\r\n",
        "plot_step = 0.02"
      ],
      "execution_count": 44,
      "outputs": []
    },
    {
      "cell_type": "code",
      "metadata": {
        "colab": {
          "base_uri": "https://localhost:8080/",
          "height": 452
        },
        "id": "UdOo__75gTMl",
        "outputId": "b74f9c89-118b-4e7f-a08b-d483c48c3375"
      },
      "source": [
        "plt.figure(figsize=(16,8))\r\n",
        "\r\n",
        "for pairidx, pair in enumerate([[0,1],[0,2],[0,3],\r\n",
        "                               [1,2],[1,3],[2,3]]):\r\n",
        "  X = wine.data[:,pair]\r\n",
        "  y = wine.target\r\n",
        "  \r\n",
        "  model = DecisionTreeClassifier()\r\n",
        "  model = model.fit(X,y)\r\n",
        "\r\n",
        "  plt.subplot(2, 3, pairidx+1)\r\n",
        "\r\n",
        "  x_min, x_max = X[:,0].min()-1,X[:,0].max()+1\r\n",
        "  y_min, y_max = X[:,1].min()-1,X[:,1].max()+1\r\n",
        "  xx,yy = np.meshgrid(np.arange(x_min ,x_max ,plot_step),\r\n",
        "                      np.arange(y_min, y_max, plot_step))\r\n",
        "  plt.tight_layout(h_pad=0.5, w_pad=0.5, pad =2.5)\r\n",
        "\r\n",
        "  Z = model.predict(np.c_[xx.ravel(), yy.ravel()])\r\n",
        "  Z = Z.reshape(xx.shape)\r\n",
        "  cs = plt.contourf(xx, yy, Z, cmap=plt.cm.RdYlBu)\r\n",
        "\r\n",
        "  plt.xlabel(wine.feature_names[pair[0]])\r\n",
        "  plt.ylabel(wine.feature_names[pair[1]])\r\n",
        "\r\n",
        "  for i, color in zip(range(n_classes),plot_colors):\r\n",
        "    idx = np.where(y == i)\r\n",
        "    plt.scatter(X[idx,0], X[idx,1], c= color, label= wine.target_names[i],\r\n",
        "                cmap=plt.cm.RdYlBu, edgecolor='b',s=15)\r\n",
        "    \r\n",
        "plt.suptitle(\"Decision surface\")\r\n",
        "plt.legend(loc='lower right', borderpad=0, handletextpad=0)\r\n",
        "plt.axis('tight')"
      ],
      "execution_count": 47,
      "outputs": [
        {
          "output_type": "execute_result",
          "data": {
            "text/plain": [
              "(0.3600000000000001, 4.220000000000003, 9.6, 30.979999999999542)"
            ]
          },
          "metadata": {
            "tags": []
          },
          "execution_count": 47
        },
        {
          "output_type": "display_data",
          "data": {
            "image/png": "[encoded data removed]",
            "text/plain": [
              "<Figure size 1152x576 with 6 Axes>"
            ]
          },
          "metadata": {
            "tags": [],
            "needs_background": "light"
          }
        }
      ]
    },
    {
      "cell_type": "markdown",
      "metadata": {
        "id": "5tp64VrFgyEe"
      },
      "source": [
        "### 하이퍼 텍스트 변화"
      ]
    },
    {
      "cell_type": "code",
      "metadata": {
        "colab": {
          "base_uri": "https://localhost:8080/",
          "height": 452
        },
        "id": "G8dg36QBgs5H",
        "outputId": "fc577211-efd7-44ff-b8a5-2c80fd5f6bc5"
      },
      "source": [
        "plt.figure(figsize=(16,8))\r\n",
        "\r\n",
        "for pairidx, pair in enumerate([[0,1],[0,2],[0,3],\r\n",
        "                               [1,2],[1,3],[2,3]]):\r\n",
        "  X = wine.data[:,pair]\r\n",
        "  y = wine.target\r\n",
        "  \r\n",
        "  model = DecisionTreeClassifier(max_depth=3)\r\n",
        "  model = model.fit(X,y)\r\n",
        "\r\n",
        "  plt.subplot(2, 3, pairidx+1)\r\n",
        "\r\n",
        "  x_min, x_max = X[:,0].min()-1,X[:,0].max()+1\r\n",
        "  y_min, y_max = X[:,1].min()-1,X[:,1].max()+1\r\n",
        "  xx,yy = np.meshgrid(np.arange(x_min ,x_max ,plot_step),\r\n",
        "                      np.arange(y_min, y_max, plot_step))\r\n",
        "  plt.tight_layout(h_pad=0.5, w_pad=0.5, pad =2.5)\r\n",
        "\r\n",
        "  Z = model.predict(np.c_[xx.ravel(), yy.ravel()])\r\n",
        "  Z = Z.reshape(xx.shape)\r\n",
        "  cs = plt.contourf(xx, yy, Z, cmap=plt.cm.RdYlBu)\r\n",
        "\r\n",
        "  plt.xlabel(wine.feature_names[pair[0]])\r\n",
        "  plt.ylabel(wine.feature_names[pair[1]])\r\n",
        "\r\n",
        "  for i, color in zip(range(n_classes),plot_colors):\r\n",
        "    idx = np.where(y == i)\r\n",
        "    plt.scatter(X[idx,0], X[idx,1], c= color, label= wine.target_names[i],\r\n",
        "                cmap=plt.cm.RdYlBu, edgecolor='b',s=15)\r\n",
        "    \r\n",
        "plt.suptitle(\"Decision surface\")\r\n",
        "plt.legend(loc='lower right', borderpad=0, handletextpad=0)\r\n",
        "plt.axis('tight')"
      ],
      "execution_count": 48,
      "outputs": [
        {
          "output_type": "execute_result",
          "data": {
            "text/plain": [
              "(0.3600000000000001, 4.220000000000003, 9.6, 30.979999999999542)"
            ]
          },
          "metadata": {
            "tags": []
          },
          "execution_count": 48
        },
        {
          "output_type": "display_data",
          "data": {
            "image/png": "[encoded data removed]",
            "text/plain": [
              "<Figure size 1152x576 with 6 Axes>"
            ]
          },
          "metadata": {
            "tags": [],
            "needs_background": "light"
          }
        }
      ]
    },
    {
      "cell_type": "markdown",
      "metadata": {
        "id": "6b6Tnv1divak"
      },
      "source": [
        "# 회귀 - **`DecisionTreeRegressor()`**"
      ]
    },
    {
      "cell_type": "markdown",
      "metadata": {
        "id": "thsT9cCFi2Cc"
      },
      "source": [
        "#보스턴 주택 가격 데이터 학습"
      ]
    },
    {
      "cell_type": "markdown",
      "metadata": {
        "id": "59sH2RfXi6kt"
      },
      "source": [
        "## 교차검증"
      ]
    },
    {
      "cell_type": "markdown",
      "metadata": {
        "id": "nDkSc9M2i7xk"
      },
      "source": [
        "### 전처리 없이 학습"
      ]
    },
    {
      "cell_type": "code",
      "metadata": {
        "id": "t0rcl9nSiy-6"
      },
      "source": [
        "model = DecisionTreeRegressor()"
      ],
      "execution_count": 49,
      "outputs": []
    },
    {
      "cell_type": "code",
      "metadata": {
        "colab": {
          "base_uri": "https://localhost:8080/"
        },
        "id": "hUeQTAZljARp",
        "outputId": "12ac5be7-3ef7-43df-9d5e-7bee165df104"
      },
      "source": [
        "cross_val_score(\r\n",
        "    estimator = model,\r\n",
        "    X=boston.data,\r\n",
        "    y=boston.target,\r\n",
        "    cv=5,\r\n",
        "    n_jobs=multiprocessing.cpu_count()\r\n",
        ")"
      ],
      "execution_count": 51,
      "outputs": [
        {
          "output_type": "execute_result",
          "data": {
            "text/plain": [
              "array([ 0.63515197,  0.42955908,  0.60263611,  0.39245033, -1.19960006])"
            ]
          },
          "metadata": {
            "tags": []
          },
          "execution_count": 51
        }
      ]
    },
    {
      "cell_type": "markdown",
      "metadata": {
        "id": "N5GXdjtqjQpa"
      },
      "source": [
        "### 전처리 후 학습"
      ]
    },
    {
      "cell_type": "code",
      "metadata": {
        "id": "1l-wY04DjLTk"
      },
      "source": [
        "model = make_pipeline(\r\n",
        "    StandardScaler(),\r\n",
        "    DecisionTreeRegressor()\r\n",
        ")"
      ],
      "execution_count": 52,
      "outputs": []
    },
    {
      "cell_type": "code",
      "metadata": {
        "colab": {
          "base_uri": "https://localhost:8080/"
        },
        "id": "XZgJkHdijKyP",
        "outputId": "05bb158e-28e0-4d1b-9271-297aef7f6679"
      },
      "source": [
        "cross_val_score(\r\n",
        "    estimator = model,\r\n",
        "    X=boston.data,\r\n",
        "    y=boston.target,\r\n",
        "    cv=5,\r\n",
        "    n_jobs=multiprocessing.cpu_count()\r\n",
        ")"
      ],
      "execution_count": 53,
      "outputs": [
        {
          "output_type": "execute_result",
          "data": {
            "text/plain": [
              "array([ 0.62873907,  0.42723274,  0.61224692,  0.36148033, -1.84302642])"
            ]
          },
          "metadata": {
            "tags": []
          },
          "execution_count": 53
        }
      ]
    },
    {
      "cell_type": "markdown",
      "metadata": {
        "id": "i4iW-2gpjb_u"
      },
      "source": [
        "## 학습된 결정 트리 시각화"
      ]
    },
    {
      "cell_type": "code",
      "metadata": {
        "colab": {
          "base_uri": "https://localhost:8080/"
        },
        "id": "9AkR2lEUjYq2",
        "outputId": "c17a69ae-f383-42fc-a23e-81e6014192ec"
      },
      "source": [
        "model = DecisionTreeRegressor()\r\n",
        "model.fit(boston.data, boston.target)"
      ],
      "execution_count": 54,
      "outputs": [
        {
          "output_type": "execute_result",
          "data": {
            "text/plain": [
              "DecisionTreeRegressor(ccp_alpha=0.0, criterion='mse', max_depth=None,\n",
              "                      max_features=None, max_leaf_nodes=None,\n",
              "                      min_impurity_decrease=0.0, min_impurity_split=None,\n",
              "                      min_samples_leaf=1, min_samples_split=2,\n",
              "                      min_weight_fraction_leaf=0.0, presort='deprecated',\n",
              "                      random_state=None, splitter='best')"
            ]
          },
          "metadata": {
            "tags": []
          },
          "execution_count": 54
        }
      ]
    },
    {
      "cell_type": "markdown",
      "metadata": {
        "id": "NaCk2_rXjmGU"
      },
      "source": [
        "### 텍스트를 이용한 시각화"
      ]
    },
    {
      "cell_type": "code",
      "metadata": {
        "colab": {
          "base_uri": "https://localhost:8080/"
        },
        "id": "aPsPy4c8jlb7",
        "outputId": "f696049d-7c17-409d-9ec1-b89c94fd0359"
      },
      "source": [
        "print(tree.export_text(model))"
      ],
      "execution_count": 55,
      "outputs": [
        {
          "output_type": "stream",
          "text": [
            "|--- feature_5 <= 6.94\n",
            "|   |--- feature_12 <= 14.40\n",
            "|   |   |--- feature_7 <= 1.38\n",
            "|   |   |   |--- feature_12 <= 10.83\n",
            "|   |   |   |   |--- value: [50.00]\n",
            "|   |   |   |--- feature_12 >  10.83\n",
            "|   |   |   |   |--- value: [27.90]\n",
            "|   |   |--- feature_7 >  1.38\n",
            "|   |   |   |--- feature_5 <= 6.54\n",
            "|   |   |   |   |--- feature_12 <= 7.57\n",
            "|   |   |   |   |   |--- feature_9 <= 222.50\n",
            "|   |   |   |   |   |   |--- value: [28.70]\n",
            "|   |   |   |   |   |--- feature_9 >  222.50\n",
            "|   |   |   |   |   |   |--- feature_2 <= 5.48\n",
            "|   |   |   |   |   |   |   |--- feature_10 <= 19.95\n",
            "|   |   |   |   |   |   |   |   |--- feature_11 <= 393.33\n",
            "|   |   |   |   |   |   |   |   |   |--- feature_2 <= 3.90\n",
            "|   |   |   |   |   |   |   |   |   |   |--- feature_6 <= 26.05\n",
            "|   |   |   |   |   |   |   |   |   |   |   |--- truncated branch of depth 2\n",
            "|   |   |   |   |   |   |   |   |   |   |--- feature_6 >  26.05\n",
            "|   |   |   |   |   |   |   |   |   |   |   |--- value: [21.90]\n",
            "|   |   |   |   |   |   |   |   |   |--- feature_2 >  3.90\n",
            "|   |   |   |   |   |   |   |   |   |   |--- feature_6 <= 23.10\n",
            "|   |   |   |   |   |   |   |   |   |   |   |--- value: [23.70]\n",
            "|   |   |   |   |   |   |   |   |   |   |--- feature_6 >  23.10\n",
            "|   |   |   |   |   |   |   |   |   |   |   |--- truncated branch of depth 3\n",
            "|   |   |   |   |   |   |   |   |--- feature_11 >  393.33\n",
            "|   |   |   |   |   |   |   |   |   |--- feature_5 <= 6.42\n",
            "|   |   |   |   |   |   |   |   |   |   |--- feature_4 <= 0.41\n",
            "|   |   |   |   |   |   |   |   |   |   |   |--- truncated branch of depth 2\n",
            "|   |   |   |   |   |   |   |   |   |   |--- feature_4 >  0.41\n",
            "|   |   |   |   |   |   |   |   |   |   |   |--- truncated branch of depth 4\n",
            "|   |   |   |   |   |   |   |   |   |--- feature_5 >  6.42\n",
            "|   |   |   |   |   |   |   |   |   |   |--- feature_8 <= 4.50\n",
            "|   |   |   |   |   |   |   |   |   |   |   |--- value: [22.90]\n",
            "|   |   |   |   |   |   |   |   |   |   |--- feature_8 >  4.50\n",
            "|   |   |   |   |   |   |   |   |   |   |   |--- value: [22.20]\n",
            "|   |   |   |   |   |   |   |--- feature_10 >  19.95\n",
            "|   |   |   |   |   |   |   |   |--- feature_11 <= 389.55\n",
            "|   |   |   |   |   |   |   |   |   |--- feature_0 <= 0.07\n",
            "|   |   |   |   |   |   |   |   |   |   |--- value: [20.70]\n",
            "|   |   |   |   |   |   |   |   |   |--- feature_0 >  0.07\n",
            "|   |   |   |   |   |   |   |   |   |   |--- value: [20.60]\n",
            "|   |   |   |   |   |   |   |   |--- feature_11 >  389.55\n",
            "|   |   |   |   |   |   |   |   |   |--- value: [22.20]\n",
            "|   |   |   |   |   |   |--- feature_2 >  5.48\n",
            "|   |   |   |   |   |   |   |--- feature_1 <= 34.00\n",
            "|   |   |   |   |   |   |   |   |--- feature_11 <= 359.51\n",
            "|   |   |   |   |   |   |   |   |   |--- feature_6 <= 96.30\n",
            "|   |   |   |   |   |   |   |   |   |   |--- feature_4 <= 0.66\n",
            "|   |   |   |   |   |   |   |   |   |   |   |--- value: [27.00]\n",
            "|   |   |   |   |   |   |   |   |   |   |--- feature_4 >  0.66\n",
            "|   |   |   |   |   |   |   |   |   |   |   |--- value: [27.50]\n",
            "|   |   |   |   |   |   |   |   |   |--- feature_6 >  96.30\n",
            "|   |   |   |   |   |   |   |   |   |   |--- value: [24.30]\n",
            "|   |   |   |   |   |   |   |   |--- feature_11 >  359.51\n",
            "|   |   |   |   |   |   |   |   |   |--- feature_5 <= 6.15\n",
            "|   |   |   |   |   |   |   |   |   |   |--- feature_4 <= 0.54\n",
            "|   |   |   |   |   |   |   |   |   |   |   |--- truncated branch of depth 2\n",
            "|   |   |   |   |   |   |   |   |   |   |--- feature_4 >  0.54\n",
            "|   |   |   |   |   |   |   |   |   |   |   |--- value: [22.10]\n",
            "|   |   |   |   |   |   |   |   |   |--- feature_5 >  6.15\n",
            "|   |   |   |   |   |   |   |   |   |   |--- feature_9 <= 278.50\n",
            "|   |   |   |   |   |   |   |   |   |   |   |--- truncated branch of depth 4\n",
            "|   |   |   |   |   |   |   |   |   |   |--- feature_9 >  278.50\n",
            "|   |   |   |   |   |   |   |   |   |   |   |--- truncated branch of depth 5\n",
            "|   |   |   |   |   |   |   |--- feature_1 >  34.00\n",
            "|   |   |   |   |   |   |   |   |--- value: [29.10]\n",
            "|   |   |   |   |--- feature_12 >  7.57\n",
            "|   |   |   |   |   |--- feature_9 <= 208.00\n",
            "|   |   |   |   |   |   |--- feature_6 <= 69.25\n",
            "|   |   |   |   |   |   |   |--- feature_11 <= 392.00\n",
            "|   |   |   |   |   |   |   |   |--- value: [29.60]\n",
            "|   |   |   |   |   |   |   |--- feature_11 >  392.00\n",
            "|   |   |   |   |   |   |   |   |--- value: [36.20]\n",
            "|   |   |   |   |   |   |--- feature_6 >  69.25\n",
            "|   |   |   |   |   |   |   |--- feature_4 <= 0.53\n",
            "|   |   |   |   |   |   |   |   |--- value: [26.40]\n",
            "|   |   |   |   |   |   |   |--- feature_4 >  0.53\n",
            "|   |   |   |   |   |   |   |   |--- feature_11 <= 383.41\n",
            "|   |   |   |   |   |   |   |   |   |--- value: [20.30]\n",
            "|   |   |   |   |   |   |   |   |--- feature_11 >  383.41\n",
            "|   |   |   |   |   |   |   |   |   |--- value: [22.00]\n",
            "|   |   |   |   |   |--- feature_9 >  208.00\n",
            "|   |   |   |   |   |   |--- feature_5 <= 6.08\n",
            "|   |   |   |   |   |   |   |--- feature_6 <= 69.10\n",
            "|   |   |   |   |   |   |   |   |--- feature_7 <= 4.46\n",
            "|   |   |   |   |   |   |   |   |   |--- feature_5 <= 5.21\n",
            "|   |   |   |   |   |   |   |   |   |   |--- value: [16.10]\n",
            "|   |   |   |   |   |   |   |   |   |--- feature_5 >  5.21\n",
            "|   |   |   |   |   |   |   |   |   |   |--- feature_10 <= 17.60\n",
            "|   |   |   |   |   |   |   |   |   |   |   |--- truncated branch of depth 4\n",
            "|   |   |   |   |   |   |   |   |   |   |--- feature_10 >  17.60\n",
            "|   |   |   |   |   |   |   |   |   |   |   |--- truncated branch of depth 7\n",
            "|   |   |   |   |   |   |   |   |--- feature_7 >  4.46\n",
            "|   |   |   |   |   |   |   |   |   |--- feature_5 <= 5.76\n",
            "|   |   |   |   |   |   |   |   |   |   |--- feature_4 <= 0.44\n",
            "|   |   |   |   |   |   |   |   |   |   |   |--- truncated branch of depth 3\n",
            "|   |   |   |   |   |   |   |   |   |   |--- feature_4 >  0.44\n",
            "|   |   |   |   |   |   |   |   |   |   |   |--- truncated branch of depth 2\n",
            "|   |   |   |   |   |   |   |   |   |--- feature_5 >  5.76\n",
            "|   |   |   |   |   |   |   |   |   |   |--- feature_2 <= 5.41\n",
            "|   |   |   |   |   |   |   |   |   |   |   |--- truncated branch of depth 7\n",
            "|   |   |   |   |   |   |   |   |   |   |--- feature_2 >  5.41\n",
            "|   |   |   |   |   |   |   |   |   |   |   |--- truncated branch of depth 7\n",
            "|   |   |   |   |   |   |   |--- feature_6 >  69.10\n",
            "|   |   |   |   |   |   |   |   |--- feature_5 <= 6.03\n",
            "|   |   |   |   |   |   |   |   |   |--- feature_4 <= 0.60\n",
            "|   |   |   |   |   |   |   |   |   |   |--- feature_7 <= 2.62\n",
            "|   |   |   |   |   |   |   |   |   |   |   |--- truncated branch of depth 2\n",
            "|   |   |   |   |   |   |   |   |   |   |--- feature_7 >  2.62\n",
            "|   |   |   |   |   |   |   |   |   |   |   |--- truncated branch of depth 6\n",
            "|   |   |   |   |   |   |   |   |   |--- feature_4 >  0.60\n",
            "|   |   |   |   |   |   |   |   |   |   |--- feature_3 <= 0.50\n",
            "|   |   |   |   |   |   |   |   |   |   |   |--- truncated branch of depth 6\n",
            "|   |   |   |   |   |   |   |   |   |   |--- feature_3 >  0.50\n",
            "|   |   |   |   |   |   |   |   |   |   |   |--- value: [15.30]\n",
            "|   |   |   |   |   |   |   |   |--- feature_5 >  6.03\n",
            "|   |   |   |   |   |   |   |   |   |--- feature_4 <= 0.56\n",
            "|   |   |   |   |   |   |   |   |   |   |--- value: [14.50]\n",
            "|   |   |   |   |   |   |   |   |   |--- feature_4 >  0.56\n",
            "|   |   |   |   |   |   |   |   |   |   |--- value: [11.90]\n",
            "|   |   |   |   |   |   |--- feature_5 >  6.08\n",
            "|   |   |   |   |   |   |   |--- feature_12 <= 9.98\n",
            "|   |   |   |   |   |   |   |   |--- feature_0 <= 0.05\n",
            "|   |   |   |   |   |   |   |   |   |--- feature_2 <= 2.07\n",
            "|   |   |   |   |   |   |   |   |   |   |--- value: [16.50]\n",
            "|   |   |   |   |   |   |   |   |   |--- feature_2 >  2.07\n",
            "|   |   |   |   |   |   |   |   |   |   |--- feature_5 <= 6.23\n",
            "|   |   |   |   |   |   |   |   |   |   |   |--- truncated branch of depth 3\n",
            "|   |   |   |   |   |   |   |   |   |   |--- feature_5 >  6.23\n",
            "|   |   |   |   |   |   |   |   |   |   |   |--- truncated branch of depth 4\n",
            "|   |   |   |   |   |   |   |   |--- feature_0 >  0.05\n",
            "|   |   |   |   |   |   |   |   |   |--- feature_6 <= 33.60\n",
            "|   |   |   |   |   |   |   |   |   |   |--- feature_0 <= 0.09\n",
            "|   |   |   |   |   |   |   |   |   |   |   |--- value: [23.90]\n",
            "|   |   |   |   |   |   |   |   |   |   |--- feature_0 >  0.09\n",
            "|   |   |   |   |   |   |   |   |   |   |   |--- truncated branch of depth 2\n",
            "|   |   |   |   |   |   |   |   |   |--- feature_6 >  33.60\n",
            "|   |   |   |   |   |   |   |   |   |   |--- feature_12 <= 9.10\n",
            "|   |   |   |   |   |   |   |   |   |   |   |--- truncated branch of depth 5\n",
            "|   |   |   |   |   |   |   |   |   |   |--- feature_12 >  9.10\n",
            "|   |   |   |   |   |   |   |   |   |   |   |--- truncated branch of depth 4\n",
            "|   |   |   |   |   |   |   |--- feature_12 >  9.98\n",
            "|   |   |   |   |   |   |   |   |--- feature_11 <= 197.52\n",
            "|   |   |   |   |   |   |   |   |   |--- feature_9 <= 525.00\n",
            "|   |   |   |   |   |   |   |   |   |   |--- value: [18.60]\n",
            "|   |   |   |   |   |   |   |   |   |--- feature_9 >  525.00\n",
            "|   |   |   |   |   |   |   |   |   |   |--- value: [16.10]\n",
            "|   |   |   |   |   |   |   |   |--- feature_11 >  197.52\n",
            "|   |   |   |   |   |   |   |   |   |--- feature_10 <= 20.55\n",
            "|   |   |   |   |   |   |   |   |   |   |--- feature_5 <= 6.32\n",
            "|   |   |   |   |   |   |   |   |   |   |   |--- truncated branch of depth 9\n",
            "|   |   |   |   |   |   |   |   |   |   |--- feature_5 >  6.32\n",
            "|   |   |   |   |   |   |   |   |   |   |   |--- truncated branch of depth 6\n",
            "|   |   |   |   |   |   |   |   |   |--- feature_10 >  20.55\n",
            "|   |   |   |   |   |   |   |   |   |   |--- feature_7 <= 3.62\n",
            "|   |   |   |   |   |   |   |   |   |   |   |--- truncated branch of depth 6\n",
            "|   |   |   |   |   |   |   |   |   |   |--- feature_7 >  3.62\n",
            "|   |   |   |   |   |   |   |   |   |   |   |--- truncated branch of depth 2\n",
            "|   |   |   |--- feature_5 >  6.54\n",
            "|   |   |   |   |--- feature_9 <= 269.00\n",
            "|   |   |   |   |   |--- feature_10 <= 17.85\n",
            "|   |   |   |   |   |   |--- feature_11 <= 393.41\n",
            "|   |   |   |   |   |   |   |--- feature_11 <= 392.41\n",
            "|   |   |   |   |   |   |   |   |--- feature_4 <= 0.41\n",
            "|   |   |   |   |   |   |   |   |   |--- value: [29.10]\n",
            "|   |   |   |   |   |   |   |   |--- feature_4 >  0.41\n",
            "|   |   |   |   |   |   |   |   |   |--- value: [30.10]\n",
            "|   |   |   |   |   |   |   |--- feature_11 >  392.41\n",
            "|   |   |   |   |   |   |   |   |--- feature_9 <= 260.50\n",
            "|   |   |   |   |   |   |   |   |   |--- value: [31.60]\n",
            "|   |   |   |   |   |   |   |   |--- feature_9 >  260.50\n",
            "|   |   |   |   |   |   |   |   |   |--- value: [31.10]\n",
            "|   |   |   |   |   |   |--- feature_11 >  393.41\n",
            "|   |   |   |   |   |   |   |--- feature_10 <= 16.25\n",
            "|   |   |   |   |   |   |   |   |--- value: [35.10]\n",
            "|   |   |   |   |   |   |   |--- feature_10 >  16.25\n",
            "|   |   |   |   |   |   |   |   |--- feature_11 <= 395.18\n",
            "|   |   |   |   |   |   |   |   |   |--- value: [33.10]\n",
            "|   |   |   |   |   |   |   |   |--- feature_11 >  395.18\n",
            "|   |   |   |   |   |   |   |   |   |--- feature_12 <= 3.25\n",
            "|   |   |   |   |   |   |   |   |   |   |--- value: [32.00]\n",
            "|   |   |   |   |   |   |   |   |   |--- feature_12 >  3.25\n",
            "|   |   |   |   |   |   |   |   |   |   |--- feature_5 <= 6.66\n",
            "|   |   |   |   |   |   |   |   |   |   |   |--- value: [32.50]\n",
            "|   |   |   |   |   |   |   |   |   |   |--- feature_5 >  6.66\n",
            "|   |   |   |   |   |   |   |   |   |   |   |--- value: [32.40]\n",
            "|   |   |   |   |   |--- feature_10 >  17.85\n",
            "|   |   |   |   |   |   |--- feature_5 <= 6.61\n",
            "|   |   |   |   |   |   |   |--- value: [30.80]\n",
            "|   |   |   |   |   |   |--- feature_5 >  6.61\n",
            "|   |   |   |   |   |   |   |--- feature_8 <= 3.50\n",
            "|   |   |   |   |   |   |   |   |--- value: [26.60]\n",
            "|   |   |   |   |   |   |   |--- feature_8 >  3.50\n",
            "|   |   |   |   |   |   |   |   |--- feature_6 <= 25.65\n",
            "|   |   |   |   |   |   |   |   |   |--- value: [27.90]\n",
            "|   |   |   |   |   |   |   |   |--- feature_6 >  25.65\n",
            "|   |   |   |   |   |   |   |   |   |--- feature_7 <= 3.28\n",
            "|   |   |   |   |   |   |   |   |   |   |--- value: [28.20]\n",
            "|   |   |   |   |   |   |   |   |   |--- feature_7 >  3.28\n",
            "|   |   |   |   |   |   |   |   |   |   |--- feature_4 <= 0.44\n",
            "|   |   |   |   |   |   |   |   |   |   |   |--- value: [28.50]\n",
            "|   |   |   |   |   |   |   |   |   |   |--- feature_4 >  0.44\n",
            "|   |   |   |   |   |   |   |   |   |   |   |--- value: [28.40]\n",
            "|   |   |   |   |--- feature_9 >  269.00\n",
            "|   |   |   |   |   |--- feature_4 <= 0.53\n",
            "|   |   |   |   |   |   |--- feature_4 <= 0.44\n",
            "|   |   |   |   |   |   |   |--- feature_6 <= 35.20\n",
            "|   |   |   |   |   |   |   |   |--- feature_5 <= 6.68\n",
            "|   |   |   |   |   |   |   |   |   |--- feature_10 <= 16.80\n",
            "|   |   |   |   |   |   |   |   |   |   |--- value: [24.80]\n",
            "|   |   |   |   |   |   |   |   |   |--- feature_10 >  16.80\n",
            "|   |   |   |   |   |   |   |   |   |   |--- value: [24.50]\n",
            "|   |   |   |   |   |   |   |   |--- feature_5 >  6.68\n",
            "|   |   |   |   |   |   |   |   |   |--- feature_4 <= 0.43\n",
            "|   |   |   |   |   |   |   |   |   |   |--- value: [28.00]\n",
            "|   |   |   |   |   |   |   |   |   |--- feature_4 >  0.43\n",
            "|   |   |   |   |   |   |   |   |   |   |--- feature_12 <= 6.22\n",
            "|   |   |   |   |   |   |   |   |   |   |   |--- value: [26.60]\n",
            "|   |   |   |   |   |   |   |   |   |   |--- feature_12 >  6.22\n",
            "|   |   |   |   |   |   |   |   |   |   |   |--- value: [26.20]\n",
            "|   |   |   |   |   |   |   |--- feature_6 >  35.20\n",
            "|   |   |   |   |   |   |   |   |--- feature_12 <= 8.43\n",
            "|   |   |   |   |   |   |   |   |   |--- feature_0 <= 0.04\n",
            "|   |   |   |   |   |   |   |   |   |   |--- value: [24.80]\n",
            "|   |   |   |   |   |   |   |   |   |--- feature_0 >  0.04\n",
            "|   |   |   |   |   |   |   |   |   |   |--- feature_10 <= 17.45\n",
            "|   |   |   |   |   |   |   |   |   |   |   |--- value: [23.30]\n",
            "|   |   |   |   |   |   |   |   |   |   |--- feature_10 >  17.45\n",
            "|   |   |   |   |   |   |   |   |   |   |   |--- truncated branch of depth 2\n",
            "|   |   |   |   |   |   |   |   |--- feature_12 >  8.43\n",
            "|   |   |   |   |   |   |   |   |   |--- value: [22.00]\n",
            "|   |   |   |   |   |   |--- feature_4 >  0.44\n",
            "|   |   |   |   |   |   |   |--- feature_12 <= 7.05\n",
            "|   |   |   |   |   |   |   |   |--- feature_9 <= 301.50\n",
            "|   |   |   |   |   |   |   |   |   |--- feature_7 <= 3.31\n",
            "|   |   |   |   |   |   |   |   |   |   |--- feature_0 <= 0.07\n",
            "|   |   |   |   |   |   |   |   |   |   |   |--- value: [29.90]\n",
            "|   |   |   |   |   |   |   |   |   |   |--- feature_0 >  0.07\n",
            "|   |   |   |   |   |   |   |   |   |   |   |--- value: [29.40]\n",
            "|   |   |   |   |   |   |   |   |   |--- feature_7 >  3.31\n",
            "|   |   |   |   |   |   |   |   |   |   |--- feature_4 <= 0.44\n",
            "|   |   |   |   |   |   |   |   |   |   |   |--- value: [28.60]\n",
            "|   |   |   |   |   |   |   |   |   |   |--- feature_4 >  0.44\n",
            "|   |   |   |   |   |   |   |   |   |   |   |--- value: [28.40]\n",
            "|   |   |   |   |   |   |   |   |--- feature_9 >  301.50\n",
            "|   |   |   |   |   |   |   |   |   |--- feature_7 <= 4.18\n",
            "|   |   |   |   |   |   |   |   |   |   |--- feature_5 <= 6.67\n",
            "|   |   |   |   |   |   |   |   |   |   |   |--- value: [31.50]\n",
            "|   |   |   |   |   |   |   |   |   |   |--- feature_5 >  6.67\n",
            "|   |   |   |   |   |   |   |   |   |   |   |--- value: [32.00]\n",
            "|   |   |   |   |   |   |   |   |   |--- feature_7 >  4.18\n",
            "|   |   |   |   |   |   |   |   |   |   |--- feature_7 <= 5.52\n",
            "|   |   |   |   |   |   |   |   |   |   |   |--- value: [29.80]\n",
            "|   |   |   |   |   |   |   |   |   |   |--- feature_7 >  5.52\n",
            "|   |   |   |   |   |   |   |   |   |   |   |--- truncated branch of depth 2\n",
            "|   |   |   |   |   |   |   |--- feature_12 >  7.05\n",
            "|   |   |   |   |   |   |   |   |--- feature_7 <= 3.90\n",
            "|   |   |   |   |   |   |   |   |   |--- feature_5 <= 6.73\n",
            "|   |   |   |   |   |   |   |   |   |   |--- feature_6 <= 73.65\n",
            "|   |   |   |   |   |   |   |   |   |   |   |--- value: [29.00]\n",
            "|   |   |   |   |   |   |   |   |   |   |--- feature_6 >  73.65\n",
            "|   |   |   |   |   |   |   |   |   |   |   |--- value: [30.10]\n",
            "|   |   |   |   |   |   |   |   |   |--- feature_5 >  6.73\n",
            "|   |   |   |   |   |   |   |   |   |   |--- feature_0 <= 0.13\n",
            "|   |   |   |   |   |   |   |   |   |   |   |--- value: [26.50]\n",
            "|   |   |   |   |   |   |   |   |   |   |--- feature_0 >  0.13\n",
            "|   |   |   |   |   |   |   |   |   |   |   |--- value: [27.50]\n",
            "|   |   |   |   |   |   |   |   |--- feature_7 >  3.90\n",
            "|   |   |   |   |   |   |   |   |   |--- feature_8 <= 4.50\n",
            "|   |   |   |   |   |   |   |   |   |   |--- value: [27.10]\n",
            "|   |   |   |   |   |   |   |   |   |--- feature_8 >  4.50\n",
            "|   |   |   |   |   |   |   |   |   |   |--- feature_12 <= 8.34\n",
            "|   |   |   |   |   |   |   |   |   |   |   |--- value: [23.90]\n",
            "|   |   |   |   |   |   |   |   |   |   |--- feature_12 >  8.34\n",
            "|   |   |   |   |   |   |   |   |   |   |   |--- truncated branch of depth 2\n",
            "|   |   |   |   |   |--- feature_4 >  0.53\n",
            "|   |   |   |   |   |   |--- feature_10 <= 17.10\n",
            "|   |   |   |   |   |   |   |--- feature_0 <= 0.04\n",
            "|   |   |   |   |   |   |   |   |--- value: [24.00]\n",
            "|   |   |   |   |   |   |   |--- feature_0 >  0.04\n",
            "|   |   |   |   |   |   |   |   |--- value: [28.70]\n",
            "|   |   |   |   |   |   |--- feature_10 >  17.10\n",
            "|   |   |   |   |   |   |   |--- feature_10 <= 20.60\n",
            "|   |   |   |   |   |   |   |   |--- feature_7 <= 3.32\n",
            "|   |   |   |   |   |   |   |   |   |--- value: [22.80]\n",
            "|   |   |   |   |   |   |   |   |--- feature_7 >  3.32\n",
            "|   |   |   |   |   |   |   |   |   |--- feature_6 <= 81.10\n",
            "|   |   |   |   |   |   |   |   |   |   |--- value: [23.70]\n",
            "|   |   |   |   |   |   |   |   |   |--- feature_6 >  81.10\n",
            "|   |   |   |   |   |   |   |   |   |   |--- value: [23.80]\n",
            "|   |   |   |   |   |   |   |--- feature_10 >  20.60\n",
            "|   |   |   |   |   |   |   |   |--- feature_8 <= 2.50\n",
            "|   |   |   |   |   |   |   |   |   |--- feature_12 <= 8.08\n",
            "|   |   |   |   |   |   |   |   |   |   |--- value: [22.00]\n",
            "|   |   |   |   |   |   |   |   |   |--- feature_12 >  8.08\n",
            "|   |   |   |   |   |   |   |   |   |   |--- value: [22.40]\n",
            "|   |   |   |   |   |   |   |   |--- feature_8 >  2.50\n",
            "|   |   |   |   |   |   |   |   |   |--- value: [21.00]\n",
            "|   |--- feature_12 >  14.40\n",
            "|   |   |--- feature_0 <= 6.99\n",
            "|   |   |   |--- feature_4 <= 0.53\n",
            "|   |   |   |   |--- feature_7 <= 5.57\n",
            "|   |   |   |   |   |--- feature_6 <= 88.55\n",
            "|   |   |   |   |   |   |--- feature_11 <= 385.38\n",
            "|   |   |   |   |   |   |   |--- feature_0 <= 0.21\n",
            "|   |   |   |   |   |   |   |   |--- value: [24.40]\n",
            "|   |   |   |   |   |   |   |--- feature_0 >  0.21\n",
            "|   |   |   |   |   |   |   |   |--- value: [23.70]\n",
            "|   |   |   |   |   |   |--- feature_11 >  385.38\n",
            "|   |   |   |   |   |   |   |--- feature_1 <= 6.25\n",
            "|   |   |   |   |   |   |   |   |--- feature_8 <= 4.50\n",
            "|   |   |   |   |   |   |   |   |   |--- feature_6 <= 63.25\n",
            "|   |   |   |   |   |   |   |   |   |   |--- value: [22.40]\n",
            "|   |   |   |   |   |   |   |   |   |--- feature_6 >  63.25\n",
            "|   |   |   |   |   |   |   |   |   |   |--- value: [22.50]\n",
            "|   |   |   |   |   |   |   |   |--- feature_8 >  4.50\n",
            "|   |   |   |   |   |   |   |   |   |--- value: [23.10]\n",
            "|   |   |   |   |   |   |   |--- feature_1 >  6.25\n",
            "|   |   |   |   |   |   |   |   |--- value: [21.70]\n",
            "|   |   |   |   |   |--- feature_6 >  88.55\n",
            "|   |   |   |   |   |   |--- feature_5 <= 5.91\n",
            "|   |   |   |   |   |   |   |--- feature_0 <= 0.41\n",
            "|   |   |   |   |   |   |   |   |--- feature_8 <= 4.50\n",
            "|   |   |   |   |   |   |   |   |   |--- value: [19.30]\n",
            "|   |   |   |   |   |   |   |   |--- feature_8 >  4.50\n",
            "|   |   |   |   |   |   |   |   |   |--- value: [19.50]\n",
            "|   |   |   |   |   |   |   |--- feature_0 >  0.41\n",
            "|   |   |   |   |   |   |   |   |--- value: [20.00]\n",
            "|   |   |   |   |   |   |--- feature_5 >  5.91\n",
            "|   |   |   |   |   |   |   |--- feature_5 <= 6.20\n",
            "|   |   |   |   |   |   |   |   |--- value: [21.70]\n",
            "|   |   |   |   |   |   |   |--- feature_5 >  6.20\n",
            "|   |   |   |   |   |   |   |   |--- value: [19.40]\n",
            "|   |   |   |   |--- feature_7 >  5.57\n",
            "|   |   |   |   |   |--- feature_0 <= 0.16\n",
            "|   |   |   |   |   |   |--- feature_10 <= 15.60\n",
            "|   |   |   |   |   |   |   |--- value: [27.10]\n",
            "|   |   |   |   |   |   |--- feature_10 >  15.60\n",
            "|   |   |   |   |   |   |   |--- feature_1 <= 37.50\n",
            "|   |   |   |   |   |   |   |   |--- value: [20.30]\n",
            "|   |   |   |   |   |   |   |--- feature_1 >  37.50\n",
            "|   |   |   |   |   |   |   |   |--- value: [18.90]\n",
            "|   |   |   |   |   |--- feature_0 >  0.16\n",
            "|   |   |   |   |   |   |--- feature_6 <= 89.65\n",
            "|   |   |   |   |   |   |   |--- feature_7 <= 5.89\n",
            "|   |   |   |   |   |   |   |   |--- value: [16.60]\n",
            "|   |   |   |   |   |   |   |--- feature_7 >  5.89\n",
            "|   |   |   |   |   |   |   |   |--- feature_0 <= 0.21\n",
            "|   |   |   |   |   |   |   |   |   |--- feature_2 <= 6.87\n",
            "|   |   |   |   |   |   |   |   |   |   |--- value: [18.50]\n",
            "|   |   |   |   |   |   |   |   |   |--- feature_2 >  6.87\n",
            "|   |   |   |   |   |   |   |   |   |   |--- value: [18.90]\n",
            "|   |   |   |   |   |   |   |   |--- feature_0 >  0.21\n",
            "|   |   |   |   |   |   |   |   |   |--- value: [19.40]\n",
            "|   |   |   |   |   |   |--- feature_6 >  89.65\n",
            "|   |   |   |   |   |   |   |--- feature_0 <= 0.22\n",
            "|   |   |   |   |   |   |   |   |--- feature_6 <= 96.70\n",
            "|   |   |   |   |   |   |   |   |   |--- value: [16.00]\n",
            "|   |   |   |   |   |   |   |   |--- feature_6 >  96.70\n",
            "|   |   |   |   |   |   |   |   |   |--- value: [16.50]\n",
            "|   |   |   |   |   |   |   |--- feature_0 >  0.22\n",
            "|   |   |   |   |   |   |   |   |--- feature_0 <= 0.24\n",
            "|   |   |   |   |   |   |   |   |   |--- value: [15.00]\n",
            "|   |   |   |   |   |   |   |   |--- feature_0 >  0.24\n",
            "|   |   |   |   |   |   |   |   |   |--- value: [14.40]\n",
            "|   |   |   |--- feature_4 >  0.53\n",
            "|   |   |   |   |--- feature_12 <= 18.89\n",
            "|   |   |   |   |   |--- feature_6 <= 85.20\n",
            "|   |   |   |   |   |   |--- feature_12 <= 15.24\n",
            "|   |   |   |   |   |   |   |--- feature_8 <= 15.00\n",
            "|   |   |   |   |   |   |   |   |--- feature_5 <= 6.07\n",
            "|   |   |   |   |   |   |   |   |   |--- value: [17.50]\n",
            "|   |   |   |   |   |   |   |   |--- feature_5 >  6.07\n",
            "|   |   |   |   |   |   |   |   |   |--- value: [15.60]\n",
            "|   |   |   |   |   |   |   |--- feature_8 >  15.00\n",
            "|   |   |   |   |   |   |   |   |--- feature_4 <= 0.65\n",
            "|   |   |   |   |   |   |   |   |   |--- value: [19.10]\n",
            "|   |   |   |   |   |   |   |   |--- feature_4 >  0.65\n",
            "|   |   |   |   |   |   |   |   |   |--- value: [20.00]\n",
            "|   |   |   |   |   |   |--- feature_12 >  15.24\n",
            "|   |   |   |   |   |   |   |--- feature_7 <= 2.84\n",
            "|   |   |   |   |   |   |   |   |--- feature_10 <= 18.50\n",
            "|   |   |   |   |   |   |   |   |   |--- value: [20.40]\n",
            "|   |   |   |   |   |   |   |   |--- feature_10 >  18.50\n",
            "|   |   |   |   |   |   |   |   |   |--- feature_0 <= 2.74\n",
            "|   |   |   |   |   |   |   |   |   |   |--- value: [23.10]\n",
            "|   |   |   |   |   |   |   |   |   |--- feature_0 >  2.74\n",
            "|   |   |   |   |   |   |   |   |   |   |--- value: [23.20]\n",
            "|   |   |   |   |   |   |   |--- feature_7 >  2.84\n",
            "|   |   |   |   |   |   |   |   |--- feature_12 <= 17.74\n",
            "|   |   |   |   |   |   |   |   |   |--- feature_11 <= 209.45\n",
            "|   |   |   |   |   |   |   |   |   |   |--- value: [19.00]\n",
            "|   |   |   |   |   |   |   |   |   |--- feature_11 >  209.45\n",
            "|   |   |   |   |   |   |   |   |   |   |--- feature_0 <= 2.30\n",
            "|   |   |   |   |   |   |   |   |   |   |   |--- value: [19.80]\n",
            "|   |   |   |   |   |   |   |   |   |   |--- feature_0 >  2.30\n",
            "|   |   |   |   |   |   |   |   |   |   |   |--- value: [19.90]\n",
            "|   |   |   |   |   |   |   |   |--- feature_12 >  17.74\n",
            "|   |   |   |   |   |   |   |   |   |--- value: [17.80]\n",
            "|   |   |   |   |   |--- feature_6 >  85.20\n",
            "|   |   |   |   |   |   |--- feature_9 <= 291.50\n",
            "|   |   |   |   |   |   |   |--- feature_5 <= 5.92\n",
            "|   |   |   |   |   |   |   |   |--- value: [18.80]\n",
            "|   |   |   |   |   |   |   |--- feature_5 >  5.92\n",
            "|   |   |   |   |   |   |   |   |--- feature_12 <= 17.93\n",
            "|   |   |   |   |   |   |   |   |   |--- feature_6 <= 91.10\n",
            "|   |   |   |   |   |   |   |   |   |   |--- value: [21.40]\n",
            "|   |   |   |   |   |   |   |   |   |--- feature_6 >  91.10\n",
            "|   |   |   |   |   |   |   |   |   |   |--- value: [21.50]\n",
            "|   |   |   |   |   |   |   |   |--- feature_12 >  17.93\n",
            "|   |   |   |   |   |   |   |   |   |--- value: [20.50]\n",
            "|   |   |   |   |   |   |--- feature_9 >  291.50\n",
            "|   |   |   |   |   |   |   |--- feature_12 <= 17.10\n",
            "|   |   |   |   |   |   |   |   |--- feature_5 <= 5.67\n",
            "|   |   |   |   |   |   |   |   |   |--- feature_6 <= 97.00\n",
            "|   |   |   |   |   |   |   |   |   |   |--- feature_8 <= 4.50\n",
            "|   |   |   |   |   |   |   |   |   |   |   |--- value: [13.90]\n",
            "|   |   |   |   |   |   |   |   |   |   |--- feature_8 >  4.50\n",
            "|   |   |   |   |   |   |   |   |   |   |   |--- value: [13.10]\n",
            "|   |   |   |   |   |   |   |   |   |--- feature_6 >  97.00\n",
            "|   |   |   |   |   |   |   |   |   |   |--- value: [15.60]\n",
            "|   |   |   |   |   |   |   |   |--- feature_5 >  5.67\n",
            "|   |   |   |   |   |   |   |   |   |--- feature_6 <= 88.05\n",
            "|   |   |   |   |   |   |   |   |   |   |--- value: [14.30]\n",
            "|   |   |   |   |   |   |   |   |   |--- feature_6 >  88.05\n",
            "|   |   |   |   |   |   |   |   |   |   |--- feature_7 <= 2.58\n",
            "|   |   |   |   |   |   |   |   |   |   |   |--- truncated branch of depth 7\n",
            "|   |   |   |   |   |   |   |   |   |   |--- feature_7 >  2.58\n",
            "|   |   |   |   |   |   |   |   |   |   |   |--- truncated branch of depth 3\n",
            "|   |   |   |   |   |   |   |--- feature_12 >  17.10\n",
            "|   |   |   |   |   |   |   |   |--- feature_7 <= 1.80\n",
            "|   |   |   |   |   |   |   |   |   |--- feature_7 <= 1.73\n",
            "|   |   |   |   |   |   |   |   |   |   |--- value: [17.80]\n",
            "|   |   |   |   |   |   |   |   |   |--- feature_7 >  1.73\n",
            "|   |   |   |   |   |   |   |   |   |   |--- value: [16.20]\n",
            "|   |   |   |   |   |   |   |   |--- feature_7 >  1.80\n",
            "|   |   |   |   |   |   |   |   |   |--- feature_12 <= 18.52\n",
            "|   |   |   |   |   |   |   |   |   |   |--- feature_12 <= 18.06\n",
            "|   |   |   |   |   |   |   |   |   |   |   |--- truncated branch of depth 6\n",
            "|   |   |   |   |   |   |   |   |   |   |--- feature_12 >  18.06\n",
            "|   |   |   |   |   |   |   |   |   |   |   |--- truncated branch of depth 3\n",
            "|   |   |   |   |   |   |   |   |   |--- feature_12 >  18.52\n",
            "|   |   |   |   |   |   |   |   |   |   |--- feature_0 <= 3.05\n",
            "|   |   |   |   |   |   |   |   |   |   |   |--- value: [15.20]\n",
            "|   |   |   |   |   |   |   |   |   |   |--- feature_0 >  3.05\n",
            "|   |   |   |   |   |   |   |   |   |   |   |--- value: [16.70]\n",
            "|   |   |   |   |--- feature_12 >  18.89\n",
            "|   |   |   |   |   |--- feature_9 <= 688.50\n",
            "|   |   |   |   |   |   |--- feature_6 <= 77.45\n",
            "|   |   |   |   |   |   |   |--- value: [19.70]\n",
            "|   |   |   |   |   |   |--- feature_6 >  77.45\n",
            "|   |   |   |   |   |   |   |--- feature_8 <= 3.00\n",
            "|   |   |   |   |   |   |   |   |--- feature_6 <= 96.30\n",
            "|   |   |   |   |   |   |   |   |   |--- value: [15.70]\n",
            "|   |   |   |   |   |   |   |   |--- feature_6 >  96.30\n",
            "|   |   |   |   |   |   |   |   |   |--- value: [17.30]\n",
            "|   |   |   |   |   |   |   |--- feature_8 >  3.00\n",
            "|   |   |   |   |   |   |   |   |--- feature_6 <= 95.85\n",
            "|   |   |   |   |   |   |   |   |   |--- feature_7 <= 2.56\n",
            "|   |   |   |   |   |   |   |   |   |   |--- feature_11 <= 372.53\n",
            "|   |   |   |   |   |   |   |   |   |   |   |--- truncated branch of depth 3\n",
            "|   |   |   |   |   |   |   |   |   |   |--- feature_11 >  372.53\n",
            "|   |   |   |   |   |   |   |   |   |   |   |--- truncated branch of depth 2\n",
            "|   |   |   |   |   |   |   |   |   |--- feature_7 >  2.56\n",
            "|   |   |   |   |   |   |   |   |   |   |--- feature_12 <= 25.15\n",
            "|   |   |   |   |   |   |   |   |   |   |   |--- value: [12.70]\n",
            "|   |   |   |   |   |   |   |   |   |   |--- feature_12 >  25.15\n",
            "|   |   |   |   |   |   |   |   |   |   |   |--- value: [13.20]\n",
            "|   |   |   |   |   |   |   |   |--- feature_6 >  95.85\n",
            "|   |   |   |   |   |   |   |   |   |--- feature_6 <= 99.10\n",
            "|   |   |   |   |   |   |   |   |   |   |--- feature_4 <= 0.66\n",
            "|   |   |   |   |   |   |   |   |   |   |   |--- truncated branch of depth 3\n",
            "|   |   |   |   |   |   |   |   |   |   |--- feature_4 >  0.66\n",
            "|   |   |   |   |   |   |   |   |   |   |   |--- truncated branch of depth 2\n",
            "|   |   |   |   |   |   |   |   |   |--- feature_6 >  99.10\n",
            "|   |   |   |   |   |   |   |   |   |   |--- feature_0 <= 3.71\n",
            "|   |   |   |   |   |   |   |   |   |   |   |--- truncated branch of depth 3\n",
            "|   |   |   |   |   |   |   |   |   |   |--- feature_0 >  3.71\n",
            "|   |   |   |   |   |   |   |   |   |   |   |--- value: [15.60]\n",
            "|   |   |   |   |   |--- feature_9 >  688.50\n",
            "|   |   |   |   |   |   |--- feature_6 <= 98.15\n",
            "|   |   |   |   |   |   |   |--- value: [8.10]\n",
            "|   |   |   |   |   |   |--- feature_6 >  98.15\n",
            "|   |   |   |   |   |   |   |--- value: [7.00]\n",
            "|   |   |--- feature_0 >  6.99\n",
            "|   |   |   |--- feature_4 <= 0.61\n",
            "|   |   |   |   |--- feature_5 <= 6.84\n",
            "|   |   |   |   |   |--- feature_0 <= 12.66\n",
            "|   |   |   |   |   |   |--- feature_11 <= 52.99\n",
            "|   |   |   |   |   |   |   |--- feature_11 <= 14.15\n",
            "|   |   |   |   |   |   |   |   |--- value: [11.70]\n",
            "|   |   |   |   |   |   |   |--- feature_11 >  14.15\n",
            "|   |   |   |   |   |   |   |   |--- value: [10.20]\n",
            "|   |   |   |   |   |   |--- feature_11 >  52.99\n",
            "|   |   |   |   |   |   |   |--- feature_4 <= 0.59\n",
            "|   |   |   |   |   |   |   |   |--- feature_7 <= 2.07\n",
            "|   |   |   |   |   |   |   |   |   |--- value: [14.50]\n",
            "|   |   |   |   |   |   |   |   |--- feature_7 >  2.07\n",
            "|   |   |   |   |   |   |   |   |   |--- feature_6 <= 94.85\n",
            "|   |   |   |   |   |   |   |   |   |   |--- value: [14.10]\n",
            "|   |   |   |   |   |   |   |   |   |--- feature_6 >  94.85\n",
            "|   |   |   |   |   |   |   |   |   |   |--- value: [13.80]\n",
            "|   |   |   |   |   |   |   |--- feature_4 >  0.59\n",
            "|   |   |   |   |   |   |   |   |--- value: [17.20]\n",
            "|   |   |   |   |   |--- feature_0 >  12.66\n",
            "|   |   |   |   |   |   |--- feature_6 <= 85.50\n",
            "|   |   |   |   |   |   |   |--- feature_6 <= 63.85\n",
            "|   |   |   |   |   |   |   |   |--- value: [20.10]\n",
            "|   |   |   |   |   |   |   |--- feature_6 >  63.85\n",
            "|   |   |   |   |   |   |   |   |--- value: [19.10]\n",
            "|   |   |   |   |   |   |--- feature_6 >  85.50\n",
            "|   |   |   |   |   |   |   |--- feature_0 <= 23.73\n",
            "|   |   |   |   |   |   |   |   |--- feature_11 <= 31.92\n",
            "|   |   |   |   |   |   |   |   |   |--- value: [17.90]\n",
            "|   |   |   |   |   |   |   |   |--- feature_11 >  31.92\n",
            "|   |   |   |   |   |   |   |   |   |--- value: [17.20]\n",
            "|   |   |   |   |   |   |   |--- feature_0 >  23.73\n",
            "|   |   |   |   |   |   |   |   |--- value: [16.30]\n",
            "|   |   |   |   |--- feature_5 >  6.84\n",
            "|   |   |   |   |   |--- value: [27.50]\n",
            "|   |   |   |--- feature_4 >  0.61\n",
            "|   |   |   |   |--- feature_12 <= 19.65\n",
            "|   |   |   |   |   |--- feature_0 <= 12.22\n",
            "|   |   |   |   |   |   |--- feature_4 <= 0.75\n",
            "|   |   |   |   |   |   |   |--- feature_12 <= 19.41\n",
            "|   |   |   |   |   |   |   |   |--- feature_6 <= 99.40\n",
            "|   |   |   |   |   |   |   |   |   |--- feature_4 <= 0.73\n",
            "|   |   |   |   |   |   |   |   |   |   |--- feature_6 <= 97.50\n",
            "|   |   |   |   |   |   |   |   |   |   |   |--- truncated branch of depth 4\n",
            "|   |   |   |   |   |   |   |   |   |   |--- feature_6 >  97.50\n",
            "|   |   |   |   |   |   |   |   |   |   |   |--- truncated branch of depth 3\n",
            "|   |   |   |   |   |   |   |   |   |--- feature_4 >  0.73\n",
            "|   |   |   |   |   |   |   |   |   |   |--- value: [12.60]\n",
            "|   |   |   |   |   |   |   |   |--- feature_6 >  99.40\n",
            "|   |   |   |   |   |   |   |   |   |--- feature_0 <= 10.53\n",
            "|   |   |   |   |   |   |   |   |   |   |--- value: [15.40]\n",
            "|   |   |   |   |   |   |   |   |   |--- feature_0 >  10.53\n",
            "|   |   |   |   |   |   |   |   |   |   |--- value: [16.70]\n",
            "|   |   |   |   |   |   |   |--- feature_12 >  19.41\n",
            "|   |   |   |   |   |   |   |   |--- value: [17.10]\n",
            "|   |   |   |   |   |   |--- feature_4 >  0.75\n",
            "|   |   |   |   |   |   |   |--- value: [17.80]\n",
            "|   |   |   |   |   |--- feature_0 >  12.22\n",
            "|   |   |   |   |   |   |--- feature_0 <= 14.17\n",
            "|   |   |   |   |   |   |   |--- feature_4 <= 0.70\n",
            "|   |   |   |   |   |   |   |   |--- value: [12.70]\n",
            "|   |   |   |   |   |   |   |--- feature_4 >  0.70\n",
            "|   |   |   |   |   |   |   |   |--- value: [11.70]\n",
            "|   |   |   |   |   |   |--- feature_0 >  14.17\n",
            "|   |   |   |   |   |   |   |--- feature_5 <= 6.33\n",
            "|   |   |   |   |   |   |   |   |--- value: [10.90]\n",
            "|   |   |   |   |   |   |   |--- feature_5 >  6.33\n",
            "|   |   |   |   |   |   |   |   |--- value: [9.60]\n",
            "|   |   |   |   |--- feature_12 >  19.65\n",
            "|   |   |   |   |   |--- feature_4 <= 0.68\n",
            "|   |   |   |   |   |   |--- feature_12 <= 22.51\n",
            "|   |   |   |   |   |   |   |--- feature_7 <= 1.37\n",
            "|   |   |   |   |   |   |   |   |--- value: [13.30]\n",
            "|   |   |   |   |   |   |   |--- feature_7 >  1.37\n",
            "|   |   |   |   |   |   |   |   |--- feature_5 <= 6.38\n",
            "|   |   |   |   |   |   |   |   |   |--- value: [10.20]\n",
            "|   |   |   |   |   |   |   |   |--- feature_5 >  6.38\n",
            "|   |   |   |   |   |   |   |   |   |--- value: [10.90]\n",
            "|   |   |   |   |   |   |--- feature_12 >  22.51\n",
            "|   |   |   |   |   |   |   |--- feature_4 <= 0.66\n",
            "|   |   |   |   |   |   |   |   |--- feature_0 <= 11.04\n",
            "|   |   |   |   |   |   |   |   |   |--- value: [13.40]\n",
            "|   |   |   |   |   |   |   |   |--- feature_0 >  11.04\n",
            "|   |   |   |   |   |   |   |   |   |--- feature_7 <= 1.64\n",
            "|   |   |   |   |   |   |   |   |   |   |--- value: [11.90]\n",
            "|   |   |   |   |   |   |   |   |   |--- feature_7 >  1.64\n",
            "|   |   |   |   |   |   |   |   |   |   |--- value: [12.00]\n",
            "|   |   |   |   |   |   |   |--- feature_4 >  0.66\n",
            "|   |   |   |   |   |   |   |   |--- feature_0 <= 21.07\n",
            "|   |   |   |   |   |   |   |   |   |--- feature_12 <= 29.01\n",
            "|   |   |   |   |   |   |   |   |   |   |--- value: [13.90]\n",
            "|   |   |   |   |   |   |   |   |   |--- feature_12 >  29.01\n",
            "|   |   |   |   |   |   |   |   |   |   |--- value: [13.80]\n",
            "|   |   |   |   |   |   |   |   |--- feature_0 >  21.07\n",
            "|   |   |   |   |   |   |   |   |   |--- value: [13.10]\n",
            "|   |   |   |   |   |--- feature_4 >  0.68\n",
            "|   |   |   |   |   |   |--- feature_0 <= 13.24\n",
            "|   |   |   |   |   |   |   |--- feature_12 <= 25.74\n",
            "|   |   |   |   |   |   |   |   |--- feature_4 <= 0.73\n",
            "|   |   |   |   |   |   |   |   |   |--- feature_6 <= 99.45\n",
            "|   |   |   |   |   |   |   |   |   |   |--- feature_5 <= 6.60\n",
            "|   |   |   |   |   |   |   |   |   |   |   |--- truncated branch of depth 4\n",
            "|   |   |   |   |   |   |   |   |   |   |--- feature_5 >  6.60\n",
            "|   |   |   |   |   |   |   |   |   |   |   |--- value: [8.40]\n",
            "|   |   |   |   |   |   |   |   |   |--- feature_6 >  99.45\n",
            "|   |   |   |   |   |   |   |   |   |   |--- feature_7 <= 1.56\n",
            "|   |   |   |   |   |   |   |   |   |   |   |--- value: [12.30]\n",
            "|   |   |   |   |   |   |   |   |   |   |--- feature_7 >  1.56\n",
            "|   |   |   |   |   |   |   |   |   |   |   |--- truncated branch of depth 2\n",
            "|   |   |   |   |   |   |   |   |--- feature_4 >  0.73\n",
            "|   |   |   |   |   |   |   |   |   |--- feature_6 <= 94.70\n",
            "|   |   |   |   |   |   |   |   |   |   |--- feature_7 <= 1.97\n",
            "|   |   |   |   |   |   |   |   |   |   |   |--- value: [12.80]\n",
            "|   |   |   |   |   |   |   |   |   |   |--- feature_7 >  1.97\n",
            "|   |   |   |   |   |   |   |   |   |   |   |--- value: [13.40]\n",
            "|   |   |   |   |   |   |   |   |   |--- feature_6 >  94.70\n",
            "|   |   |   |   |   |   |   |   |   |   |--- feature_7 <= 1.94\n",
            "|   |   |   |   |   |   |   |   |   |   |   |--- value: [10.80]\n",
            "|   |   |   |   |   |   |   |   |   |   |--- feature_7 >  1.94\n",
            "|   |   |   |   |   |   |   |   |   |   |   |--- value: [11.80]\n",
            "|   |   |   |   |   |   |   |--- feature_12 >  25.74\n",
            "|   |   |   |   |   |   |   |   |--- feature_5 <= 6.32\n",
            "|   |   |   |   |   |   |   |   |   |--- value: [6.30]\n",
            "|   |   |   |   |   |   |   |   |--- feature_5 >  6.32\n",
            "|   |   |   |   |   |   |   |   |   |--- value: [7.50]\n",
            "|   |   |   |   |   |   |--- feature_0 >  13.24\n",
            "|   |   |   |   |   |   |   |--- feature_7 <= 1.59\n",
            "|   |   |   |   |   |   |   |   |--- feature_5 <= 4.83\n",
            "|   |   |   |   |   |   |   |   |   |--- feature_6 <= 95.60\n",
            "|   |   |   |   |   |   |   |   |   |   |--- value: [8.80]\n",
            "|   |   |   |   |   |   |   |   |   |--- feature_6 >  95.60\n",
            "|   |   |   |   |   |   |   |   |   |   |--- value: [10.50]\n",
            "|   |   |   |   |   |   |   |   |--- feature_5 >  4.83\n",
            "|   |   |   |   |   |   |   |   |   |--- feature_0 <= 23.82\n",
            "|   |   |   |   |   |   |   |   |   |   |--- feature_5 <= 5.14\n",
            "|   |   |   |   |   |   |   |   |   |   |   |--- value: [7.40]\n",
            "|   |   |   |   |   |   |   |   |   |   |--- feature_5 >  5.14\n",
            "|   |   |   |   |   |   |   |   |   |   |   |--- value: [7.20]\n",
            "|   |   |   |   |   |   |   |   |   |--- feature_0 >  23.82\n",
            "|   |   |   |   |   |   |   |   |   |   |--- feature_7 <= 1.54\n",
            "|   |   |   |   |   |   |   |   |   |   |   |--- value: [5.00]\n",
            "|   |   |   |   |   |   |   |   |   |   |--- feature_7 >  1.54\n",
            "|   |   |   |   |   |   |   |   |   |   |   |--- value: [5.60]\n",
            "|   |   |   |   |   |   |   |--- feature_7 >  1.59\n",
            "|   |   |   |   |   |   |   |   |--- feature_11 <= 107.81\n",
            "|   |   |   |   |   |   |   |   |   |--- feature_12 <= 27.75\n",
            "|   |   |   |   |   |   |   |   |   |   |--- feature_5 <= 5.93\n",
            "|   |   |   |   |   |   |   |   |   |   |   |--- value: [8.30]\n",
            "|   |   |   |   |   |   |   |   |   |   |--- feature_5 >  5.93\n",
            "|   |   |   |   |   |   |   |   |   |   |   |--- truncated branch of depth 2\n",
            "|   |   |   |   |   |   |   |   |   |--- feature_12 >  27.75\n",
            "|   |   |   |   |   |   |   |   |   |   |--- feature_4 <= 0.72\n",
            "|   |   |   |   |   |   |   |   |   |   |   |--- truncated branch of depth 2\n",
            "|   |   |   |   |   |   |   |   |   |   |--- feature_4 >  0.72\n",
            "|   |   |   |   |   |   |   |   |   |   |   |--- value: [8.40]\n",
            "|   |   |   |   |   |   |   |   |--- feature_11 >  107.81\n",
            "|   |   |   |   |   |   |   |   |   |--- feature_12 <= 20.94\n",
            "|   |   |   |   |   |   |   |   |   |   |--- value: [8.30]\n",
            "|   |   |   |   |   |   |   |   |   |--- feature_12 >  20.94\n",
            "|   |   |   |   |   |   |   |   |   |   |--- feature_0 <= 33.73\n",
            "|   |   |   |   |   |   |   |   |   |   |   |--- truncated branch of depth 3\n",
            "|   |   |   |   |   |   |   |   |   |   |--- feature_0 >  33.73\n",
            "|   |   |   |   |   |   |   |   |   |   |   |--- value: [8.50]\n",
            "|--- feature_5 >  6.94\n",
            "|   |--- feature_5 <= 7.44\n",
            "|   |   |--- feature_4 <= 0.66\n",
            "|   |   |   |--- feature_7 <= 1.89\n",
            "|   |   |   |   |--- feature_10 <= 17.45\n",
            "|   |   |   |   |   |--- value: [41.30]\n",
            "|   |   |   |   |--- feature_10 >  17.45\n",
            "|   |   |   |   |   |--- value: [50.00]\n",
            "|   |   |   |--- feature_7 >  1.89\n",
            "|   |   |   |   |--- feature_4 <= 0.49\n",
            "|   |   |   |   |   |--- feature_6 <= 11.95\n",
            "|   |   |   |   |   |   |--- feature_4 <= 0.42\n",
            "|   |   |   |   |   |   |   |--- value: [29.00]\n",
            "|   |   |   |   |   |   |--- feature_4 >  0.42\n",
            "|   |   |   |   |   |   |   |--- value: [29.60]\n",
            "|   |   |   |   |   |--- feature_6 >  11.95\n",
            "|   |   |   |   |   |   |--- feature_12 <= 5.44\n",
            "|   |   |   |   |   |   |   |--- feature_0 <= 0.05\n",
            "|   |   |   |   |   |   |   |   |--- feature_12 <= 4.50\n",
            "|   |   |   |   |   |   |   |   |   |--- feature_7 <= 5.73\n",
            "|   |   |   |   |   |   |   |   |   |   |--- feature_1 <= 37.50\n",
            "|   |   |   |   |   |   |   |   |   |   |   |--- value: [34.70]\n",
            "|   |   |   |   |   |   |   |   |   |   |--- feature_1 >  37.50\n",
            "|   |   |   |   |   |   |   |   |   |   |   |--- value: [34.90]\n",
            "|   |   |   |   |   |   |   |   |   |--- feature_7 >  5.73\n",
            "|   |   |   |   |   |   |   |   |   |   |--- feature_1 <= 87.50\n",
            "|   |   |   |   |   |   |   |   |   |   |   |--- truncated branch of depth 2\n",
            "|   |   |   |   |   |   |   |   |   |   |--- feature_1 >  87.50\n",
            "|   |   |   |   |   |   |   |   |   |   |   |--- value: [32.90]\n",
            "|   |   |   |   |   |   |   |   |--- feature_12 >  4.50\n",
            "|   |   |   |   |   |   |   |   |   |--- feature_8 <= 4.00\n",
            "|   |   |   |   |   |   |   |   |   |   |--- value: [34.90]\n",
            "|   |   |   |   |   |   |   |   |   |--- feature_8 >  4.00\n",
            "|   |   |   |   |   |   |   |   |   |   |--- value: [35.40]\n",
            "|   |   |   |   |   |   |   |--- feature_0 >  0.05\n",
            "|   |   |   |   |   |   |   |   |--- feature_0 <= 0.10\n",
            "|   |   |   |   |   |   |   |   |   |--- feature_12 <= 5.36\n",
            "|   |   |   |   |   |   |   |   |   |   |--- feature_7 <= 5.59\n",
            "|   |   |   |   |   |   |   |   |   |   |   |--- truncated branch of depth 3\n",
            "|   |   |   |   |   |   |   |   |   |   |--- feature_7 >  5.59\n",
            "|   |   |   |   |   |   |   |   |   |   |   |--- truncated branch of depth 3\n",
            "|   |   |   |   |   |   |   |   |   |--- feature_12 >  5.36\n",
            "|   |   |   |   |   |   |   |   |   |   |--- value: [34.90]\n",
            "|   |   |   |   |   |   |   |   |--- feature_0 >  0.10\n",
            "|   |   |   |   |   |   |   |   |   |--- value: [33.10]\n",
            "|   |   |   |   |   |   |--- feature_12 >  5.44\n",
            "|   |   |   |   |   |   |   |--- feature_6 <= 37.45\n",
            "|   |   |   |   |   |   |   |   |--- feature_2 <= 2.25\n",
            "|   |   |   |   |   |   |   |   |   |--- value: [30.30]\n",
            "|   |   |   |   |   |   |   |   |--- feature_2 >  2.25\n",
            "|   |   |   |   |   |   |   |   |   |--- value: [32.20]\n",
            "|   |   |   |   |   |   |   |--- feature_6 >  37.45\n",
            "|   |   |   |   |   |   |   |   |--- feature_6 <= 45.05\n",
            "|   |   |   |   |   |   |   |   |   |--- feature_11 <= 392.94\n",
            "|   |   |   |   |   |   |   |   |   |   |--- value: [34.60]\n",
            "|   |   |   |   |   |   |   |   |   |--- feature_11 >  392.94\n",
            "|   |   |   |   |   |   |   |   |   |   |--- value: [36.10]\n",
            "|   |   |   |   |   |   |   |   |--- feature_6 >  45.05\n",
            "|   |   |   |   |   |   |   |   |   |--- feature_2 <= 1.85\n",
            "|   |   |   |   |   |   |   |   |   |   |--- feature_9 <= 250.00\n",
            "|   |   |   |   |   |   |   |   |   |   |   |--- value: [33.00]\n",
            "|   |   |   |   |   |   |   |   |   |   |--- feature_9 >  250.00\n",
            "|   |   |   |   |   |   |   |   |   |   |   |--- value: [32.70]\n",
            "|   |   |   |   |   |   |   |   |   |--- feature_2 >  1.85\n",
            "|   |   |   |   |   |   |   |   |   |   |--- feature_9 <= 238.00\n",
            "|   |   |   |   |   |   |   |   |   |   |   |--- value: [33.40]\n",
            "|   |   |   |   |   |   |   |   |   |   |--- feature_9 >  238.00\n",
            "|   |   |   |   |   |   |   |   |   |   |   |--- value: [33.20]\n",
            "|   |   |   |   |--- feature_4 >  0.49\n",
            "|   |   |   |   |   |--- feature_5 <= 7.12\n",
            "|   |   |   |   |   |   |--- feature_4 <= 0.59\n",
            "|   |   |   |   |   |   |   |--- feature_6 <= 70.05\n",
            "|   |   |   |   |   |   |   |   |--- value: [28.70]\n",
            "|   |   |   |   |   |   |   |--- feature_6 >  70.05\n",
            "|   |   |   |   |   |   |   |   |--- feature_10 <= 17.60\n",
            "|   |   |   |   |   |   |   |   |   |--- value: [26.70]\n",
            "|   |   |   |   |   |   |   |   |--- feature_10 >  17.60\n",
            "|   |   |   |   |   |   |   |   |   |--- feature_0 <= 2.90\n",
            "|   |   |   |   |   |   |   |   |   |   |--- feature_2 <= 7.67\n",
            "|   |   |   |   |   |   |   |   |   |   |   |--- value: [23.60]\n",
            "|   |   |   |   |   |   |   |   |   |   |--- feature_2 >  7.67\n",
            "|   |   |   |   |   |   |   |   |   |   |   |--- value: [23.90]\n",
            "|   |   |   |   |   |   |   |   |   |--- feature_0 >  2.90\n",
            "|   |   |   |   |   |   |   |   |   |   |--- value: [25.00]\n",
            "|   |   |   |   |   |   |--- feature_4 >  0.59\n",
            "|   |   |   |   |   |   |   |--- feature_7 <= 2.33\n",
            "|   |   |   |   |   |   |   |   |--- value: [30.70]\n",
            "|   |   |   |   |   |   |   |--- feature_7 >  2.33\n",
            "|   |   |   |   |   |   |   |   |--- value: [29.80]\n",
            "|   |   |   |   |   |--- feature_5 >  7.12\n",
            "|   |   |   |   |   |   |--- feature_7 <= 2.00\n",
            "|   |   |   |   |   |   |   |--- feature_6 <= 95.80\n",
            "|   |   |   |   |   |   |   |   |--- value: [36.50]\n",
            "|   |   |   |   |   |   |   |--- feature_6 >  95.80\n",
            "|   |   |   |   |   |   |   |   |--- value: [36.00]\n",
            "|   |   |   |   |   |   |--- feature_7 >  2.00\n",
            "|   |   |   |   |   |   |   |--- feature_5 <= 7.27\n",
            "|   |   |   |   |   |   |   |   |--- feature_7 <= 2.66\n",
            "|   |   |   |   |   |   |   |   |   |--- value: [33.80]\n",
            "|   |   |   |   |   |   |   |   |--- feature_7 >  2.66\n",
            "|   |   |   |   |   |   |   |   |   |--- value: [31.60]\n",
            "|   |   |   |   |   |   |   |--- feature_5 >  7.27\n",
            "|   |   |   |   |   |   |   |   |--- feature_8 <= 6.50\n",
            "|   |   |   |   |   |   |   |   |   |--- value: [31.00]\n",
            "|   |   |   |   |   |   |   |   |--- feature_8 >  6.50\n",
            "|   |   |   |   |   |   |   |   |   |--- feature_0 <= 0.49\n",
            "|   |   |   |   |   |   |   |   |   |   |--- value: [31.70]\n",
            "|   |   |   |   |   |   |   |   |   |--- feature_0 >  0.49\n",
            "|   |   |   |   |   |   |   |   |   |   |--- value: [31.50]\n",
            "|   |   |--- feature_4 >  0.66\n",
            "|   |   |   |--- feature_5 <= 7.14\n",
            "|   |   |   |   |--- value: [10.40]\n",
            "|   |   |   |--- feature_5 >  7.14\n",
            "|   |   |   |   |--- feature_11 <= 386.38\n",
            "|   |   |   |   |   |--- value: [17.80]\n",
            "|   |   |   |   |--- feature_11 >  386.38\n",
            "|   |   |   |   |   |--- value: [15.00]\n",
            "|   |--- feature_5 >  7.44\n",
            "|   |   |--- feature_0 <= 2.74\n",
            "|   |   |   |--- feature_10 <= 14.80\n",
            "|   |   |   |   |--- feature_5 <= 7.71\n",
            "|   |   |   |   |   |--- feature_6 <= 90.10\n",
            "|   |   |   |   |   |   |--- feature_1 <= 51.25\n",
            "|   |   |   |   |   |   |   |--- feature_11 <= 389.33\n",
            "|   |   |   |   |   |   |   |   |--- value: [43.10]\n",
            "|   |   |   |   |   |   |   |--- feature_11 >  389.33\n",
            "|   |   |   |   |   |   |   |   |--- value: [43.50]\n",
            "|   |   |   |   |   |   |--- feature_1 >  51.25\n",
            "|   |   |   |   |   |   |   |--- value: [42.30]\n",
            "|   |   |   |   |   |--- feature_6 >  90.10\n",
            "|   |   |   |   |   |   |--- value: [50.00]\n",
            "|   |   |   |   |--- feature_5 >  7.71\n",
            "|   |   |   |   |   |--- feature_12 <= 3.75\n",
            "|   |   |   |   |   |   |--- value: [50.00]\n",
            "|   |   |   |   |   |--- feature_12 >  3.75\n",
            "|   |   |   |   |   |   |--- feature_0 <= 0.55\n",
            "|   |   |   |   |   |   |   |--- feature_5 <= 8.13\n",
            "|   |   |   |   |   |   |   |   |--- value: [48.50]\n",
            "|   |   |   |   |   |   |   |--- feature_5 >  8.13\n",
            "|   |   |   |   |   |   |   |   |--- value: [48.80]\n",
            "|   |   |   |   |   |   |--- feature_0 >  0.55\n",
            "|   |   |   |   |   |   |   |--- value: [50.00]\n",
            "|   |   |   |--- feature_10 >  14.80\n",
            "|   |   |   |   |--- feature_11 <= 385.48\n",
            "|   |   |   |   |   |--- feature_0 <= 0.32\n",
            "|   |   |   |   |   |   |--- feature_12 <= 4.03\n",
            "|   |   |   |   |   |   |   |--- feature_3 <= 0.50\n",
            "|   |   |   |   |   |   |   |   |--- value: [46.70]\n",
            "|   |   |   |   |   |   |   |--- feature_3 >  0.50\n",
            "|   |   |   |   |   |   |   |   |--- value: [46.00]\n",
            "|   |   |   |   |   |   |--- feature_12 >  4.03\n",
            "|   |   |   |   |   |   |   |--- value: [44.80]\n",
            "|   |   |   |   |   |--- feature_0 >  0.32\n",
            "|   |   |   |   |   |   |--- feature_4 <= 0.51\n",
            "|   |   |   |   |   |   |   |--- value: [50.00]\n",
            "|   |   |   |   |   |   |--- feature_4 >  0.51\n",
            "|   |   |   |   |   |   |   |--- value: [48.30]\n",
            "|   |   |   |   |--- feature_11 >  385.48\n",
            "|   |   |   |   |   |--- feature_0 <= 0.06\n",
            "|   |   |   |   |   |   |--- feature_5 <= 7.83\n",
            "|   |   |   |   |   |   |   |--- feature_10 <= 15.40\n",
            "|   |   |   |   |   |   |   |   |--- value: [45.40]\n",
            "|   |   |   |   |   |   |   |--- feature_10 >  15.40\n",
            "|   |   |   |   |   |   |   |   |--- value: [44.00]\n",
            "|   |   |   |   |   |   |--- feature_5 >  7.83\n",
            "|   |   |   |   |   |   |   |--- value: [50.00]\n",
            "|   |   |   |   |   |--- feature_0 >  0.06\n",
            "|   |   |   |   |   |   |--- feature_6 <= 44.35\n",
            "|   |   |   |   |   |   |   |--- feature_11 <= 395.21\n",
            "|   |   |   |   |   |   |   |   |--- value: [43.80]\n",
            "|   |   |   |   |   |   |   |--- feature_11 >  395.21\n",
            "|   |   |   |   |   |   |   |   |--- value: [42.80]\n",
            "|   |   |   |   |   |   |--- feature_6 >  44.35\n",
            "|   |   |   |   |   |   |   |--- feature_6 <= 62.55\n",
            "|   |   |   |   |   |   |   |   |--- value: [35.20]\n",
            "|   |   |   |   |   |   |   |--- feature_6 >  62.55\n",
            "|   |   |   |   |   |   |   |   |--- feature_0 <= 0.48\n",
            "|   |   |   |   |   |   |   |   |   |--- feature_11 <= 391.47\n",
            "|   |   |   |   |   |   |   |   |   |   |--- value: [37.60]\n",
            "|   |   |   |   |   |   |   |   |   |--- feature_11 >  391.47\n",
            "|   |   |   |   |   |   |   |   |   |   |--- feature_0 <= 0.09\n",
            "|   |   |   |   |   |   |   |   |   |   |   |--- value: [39.80]\n",
            "|   |   |   |   |   |   |   |   |   |   |--- feature_0 >  0.09\n",
            "|   |   |   |   |   |   |   |   |   |   |   |--- value: [38.70]\n",
            "|   |   |   |   |   |   |   |   |--- feature_0 >  0.48\n",
            "|   |   |   |   |   |   |   |   |   |--- value: [41.70]\n",
            "|   |   |--- feature_0 >  2.74\n",
            "|   |   |   |--- value: [21.90]\n",
            "\n"
          ],
          "name": "stdout"
        }
      ]
    },
    {
      "cell_type": "markdown",
      "metadata": {
        "id": "yvu_SK5uj8sI"
      },
      "source": [
        "### 회귀식 시각화"
      ]
    },
    {
      "cell_type": "code",
      "metadata": {
        "colab": {
          "base_uri": "https://localhost:8080/",
          "height": 443
        },
        "id": "FY9Df71sjrVj",
        "outputId": "32d46aa0-86d1-4e2e-d3f2-66041df686e9"
      },
      "source": [
        "plt.figure(figsize=(16,8))\r\n",
        "\r\n",
        "for pairidx, pair in enumerate([0,1,2]):\r\n",
        "  X = boston.data[:,pair].reshape(-1,1)\r\n",
        "  y = boston.target\r\n",
        "  \r\n",
        "  model = DecisionTreeRegressor()\r\n",
        "  model.fit(X,y)\r\n",
        "\r\n",
        "  X_test = np.arange(min(X), max(X), 0.1)[:, np.newaxis]\r\n",
        "  predict = model.predict(X_test)\r\n",
        "\r\n",
        "  plt.subplot(1, 3, pairidx + 1)\r\n",
        "  plt.scatter(X, y, s=20, edgecolors='k',\r\n",
        "              c='darkorange', label='data')\r\n",
        "  plt.plot(X_test, predict, color='royalblue', linewidth=2)\r\n",
        "  plt.xlabel(boston.feature_names[pair])\r\n",
        "  plt.ylabel('Target')"
      ],
      "execution_count": 60,
      "outputs": [
        {
          "output_type": "display_data",
          "data": {
            "image/png": "[encoded data removed]",
            "text/plain": [
              "<Figure size 1152x576 with 3 Axes>"
            ]
          },
          "metadata": {
            "tags": [],
            "needs_background": "light"
          }
        }
      ]
    },
    {
      "cell_type": "markdown",
      "metadata": {
        "id": "oWPkUCxPk80v"
      },
      "source": [
        "### 하이퍼파라미터의 변경"
      ]
    },
    {
      "cell_type": "code",
      "metadata": {
        "colab": {
          "base_uri": "https://localhost:8080/",
          "height": 493
        },
        "id": "f0kb3_yvku8l",
        "outputId": "997f29dd-bb76-4fae-cb49-b4b165a33feb"
      },
      "source": [
        "plt.figure(figsize=(16,8))\r\n",
        "\r\n",
        "for pairidx, pair in enumerate([0,1,2]):\r\n",
        "  X = boston.data[:,pair].reshape(-1,1)\r\n",
        "  y = boston.target\r\n",
        "  \r\n",
        "  model = DecisionTreeRegressor(max_depth=4)\r\n",
        "  model.fit(X,y)\r\n",
        "\r\n",
        "  X_test = np.arange(min(X), max(X), 0.1)[:, np.newaxis]\r\n",
        "  predict = model.predict(X_test)\r\n",
        "\r\n",
        "  plt.subplot(1, 3, pairidx + 1)\r\n",
        "  plt.scatter(X, y, s=20, edgecolors='k',\r\n",
        "              c='darkorange', label='data')\r\n",
        "  plt.plot(X_test, predict, color='royalblue', linewidth=2)\r\n",
        "  plt.xlabel(boston.feature_names[pair])\r\n",
        "  plt.ylabel('Target')"
      ],
      "execution_count": 61,
      "outputs": [
        {
          "output_type": "display_data",
          "data": {
            "image/png": "[encoded data removed]",
            "text/plain": [
              "<Figure size 1152x576 with 3 Axes>"
            ]
          },
          "metadata": {
            "tags": [],
            "needs_background": "light"
          }
        }
      ]
    },
    {
      "cell_type": "code",
      "metadata": {
        "id": "AkFGbVepk_pb"
      },
      "source": [
        ""
      ],
      "execution_count": null,
      "outputs": []
    }
  ]
}