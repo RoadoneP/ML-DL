{
 "cells": [
  {
   "cell_type": "code",
   "execution_count": 11,
   "metadata": {},
   "outputs": [],
   "source": [
    "import numpy as np\n",
    "import matplotlib.pyplot as plt"
   ]
  },
  {
   "cell_type": "code",
   "execution_count": 20,
   "metadata": {},
   "outputs": [],
   "source": [
    "def sigmoid(x):\n",
    "    return 1/(1+np.exp(-x))\n",
    "\n",
    "def ReLU(x):\n",
    "    return np.maximum(0, x)\n",
    "\n",
    "\n",
    "def tanh(x):\n",
    "    return np.tanh(x)"
   ]
  },
  {
   "cell_type": "code",
   "execution_count": 51,
   "metadata": {},
   "outputs": [],
   "source": [
    "input_data = np.random.randn(1000, 100)  # 1000개의 데이터\n",
    "node_num = 100  # 각 은닉층의 노드(뉴런) 수\n",
    "hidden_layer_size = 5  # 은닉층이 5개\n",
    "activations = {}  # 이곳에 활성화 결과를 저장"
   ]
  },
  {
   "cell_type": "code",
   "execution_count": 52,
   "metadata": {},
   "outputs": [],
   "source": [
    "x = input_data"
   ]
  },
  {
   "cell_type": "code",
   "execution_count": 53,
   "metadata": {},
   "outputs": [],
   "source": [
    "for i in range(hidden_layer_size):\n",
    "    if i!=0:\n",
    "        x=activations[i-1]\n",
    "        \n",
    "    #w = np.random.randn(node_num, node_num) * 1\n",
    "    #w = np.random.randn(node_num, node_num) * 0.01\n",
    "    w = np.random.randn(node_num, node_num) * np.sqrt(1.0 / node_num)\n",
    "    #w = np.random.randn(node_num, node_num) * np.sqrt(2.0 / node_num)\n",
    "\n",
    "    a=np.dot(x,w)\n",
    "    \n",
    "    #z = sigmoid(a)\n",
    "    z = ReLU(a)\n",
    "    #z = tanh(a)\n",
    "    \n",
    "    activations[i] = z"
   ]
  },
  {
   "cell_type": "code",
   "execution_count": 54,
   "metadata": {},
   "outputs": [
    {
     "data": {
      "image/png": "[encoded data removed]",
      "text/plain": [
       "<Figure size 432x288 with 5 Axes>"
      ]
     },
     "metadata": {
      "needs_background": "light"
     },
     "output_type": "display_data"
    }
   ],
   "source": [
    "for i, a in activations.items():\n",
    "    plt.subplot(1, len(activations), i+1)\n",
    "    plt.title(str(i+1) + \"-layer\")\n",
    "    if i != 0: plt.yticks([], [])\n",
    "    #plt.xlim(0.1, 1)\n",
    "    #plt.ylim(0, 7000)\n",
    "    plt.hist(a.flatten(), 30, range=(0,1))\n",
    "plt.show()"
   ]
  },
  {
   "cell_type": "code",
   "execution_count": 55,
   "metadata": {},
   "outputs": [],
   "source": [
    "import os\n",
    "import sys\n",
    "\n",
    "sys.path.append(os.pardir)  # 부모 디렉터리의 파일을 가져올 수 있도록 설정\n",
    "import numpy as np\n",
    "import matplotlib.pyplot as plt\n",
    "from dataset.mnist import load_mnist\n",
    "from common.util import smooth_curve\n",
    "from common.multi_layer_net import MultiLayerNet\n",
    "from common.optimizer import SGD"
   ]
  },
  {
   "cell_type": "code",
   "execution_count": 56,
   "metadata": {},
   "outputs": [],
   "source": [
    "# 0. MNIST 데이터 읽기==========\n",
    "(x_train, t_train), (x_test, t_test) = load_mnist(normalize=True)\n",
    "\n",
    "train_size = x_train.shape[0]\n",
    "batch_size = 128\n",
    "max_iterations = 2000\n",
    "\n",
    "\n",
    "# 1. 실험용 설정==========\n",
    "weight_init_types = {'std=0.01': 0.01, 'Xavier': 'sigmoid', 'He': 'relu'}\n",
    "optimizer = SGD(lr=0.01)\n",
    "\n",
    "networks = {}\n",
    "train_loss = {}\n",
    "for key, weight_type in weight_init_types.items():\n",
    "    networks[key] = MultiLayerNet(input_size=784, hidden_size_list=[100, 100, 100, 100],\n",
    "                                  output_size=10, weight_init_std=weight_type)\n",
    "    train_loss[key] = []"
   ]
  },
  {
   "cell_type": "code",
   "execution_count": 57,
   "metadata": {},
   "outputs": [
    {
     "name": "stdout",
     "output_type": "stream",
     "text": [
      "===========iteration:0===========\n",
      "std=0.01:2.3025527096312413\n",
      "Xavier:2.2850110170841447\n",
      "He:2.2529222475378647\n",
      "===========iteration:100===========\n",
      "std=0.01:2.3022359094851295\n",
      "Xavier:2.240092644353285\n",
      "He:1.4866479424157766\n",
      "===========iteration:200===========\n",
      "std=0.01:2.3013550104643703\n",
      "Xavier:2.040724528244163\n",
      "He:0.7582248790703665\n",
      "===========iteration:300===========\n",
      "std=0.01:2.301504723104824\n",
      "Xavier:1.5874815004020832\n",
      "He:0.43938470538967456\n",
      "===========iteration:400===========\n",
      "std=0.01:2.3026494883746333\n",
      "Xavier:1.1858611704326192\n",
      "He:0.43843062790705023\n",
      "===========iteration:500===========\n",
      "std=0.01:2.301438920636314\n",
      "Xavier:0.857613814801508\n",
      "He:0.3899108702440794\n",
      "===========iteration:600===========\n",
      "std=0.01:2.3016516878581683\n",
      "Xavier:0.6078988960784278\n",
      "He:0.34294737476747916\n",
      "===========iteration:700===========\n",
      "std=0.01:2.300460066504589\n",
      "Xavier:0.4684548775250396\n",
      "He:0.26490458513764215\n",
      "===========iteration:800===========\n",
      "std=0.01:2.3039262996237913\n",
      "Xavier:0.3802466386998866\n",
      "He:0.22754354914460756\n",
      "===========iteration:900===========\n",
      "std=0.01:2.300571595965172\n",
      "Xavier:0.40266708383848693\n",
      "He:0.2036207554733936\n",
      "===========iteration:1000===========\n",
      "std=0.01:2.3030112853813467\n",
      "Xavier:0.32336381379820767\n",
      "He:0.234333793155588\n",
      "===========iteration:1100===========\n",
      "std=0.01:2.2984633700538892\n",
      "Xavier:0.337054158204384\n",
      "He:0.21151727833069486\n",
      "===========iteration:1200===========\n",
      "std=0.01:2.300570873717639\n",
      "Xavier:0.4344838790527077\n",
      "He:0.3039109307649493\n",
      "===========iteration:1300===========\n",
      "std=0.01:2.300475373188487\n",
      "Xavier:0.29743557011986854\n",
      "He:0.20779841642019048\n",
      "===========iteration:1400===========\n",
      "std=0.01:2.297209963634435\n",
      "Xavier:0.29023306714634634\n",
      "He:0.18337103266962018\n",
      "===========iteration:1500===========\n",
      "std=0.01:2.302980495845504\n",
      "Xavier:0.2528907977677731\n",
      "He:0.1695775429765678\n",
      "===========iteration:1600===========\n",
      "std=0.01:2.3006630052619754\n",
      "Xavier:0.18127944983187746\n",
      "He:0.14360015556565836\n",
      "===========iteration:1700===========\n",
      "std=0.01:2.301046828244419\n",
      "Xavier:0.3026312386599286\n",
      "He:0.18101016172660556\n",
      "===========iteration:1800===========\n",
      "std=0.01:2.298772256439852\n",
      "Xavier:0.2604046865627837\n",
      "He:0.2003711607944456\n",
      "===========iteration:1900===========\n",
      "std=0.01:2.308166481089769\n",
      "Xavier:0.32164172267032204\n",
      "He:0.21286367714546495\n"
     ]
    }
   ],
   "source": [
    "# 2. 훈련 시작==========\n",
    "for i in range(max_iterations):\n",
    "    batch_mask = np.random.choice(train_size, batch_size)\n",
    "    x_batch = x_train[batch_mask]\n",
    "    t_batch = t_train[batch_mask]\n",
    "    \n",
    "    for key in weight_init_types.keys():\n",
    "        grads = networks[key].gradient(x_batch, t_batch)\n",
    "        optimizer.update(networks[key].params, grads)\n",
    "    \n",
    "        loss = networks[key].loss(x_batch, t_batch)\n",
    "        train_loss[key].append(loss)\n",
    "    \n",
    "    if i % 100 == 0:\n",
    "        print(\"===========\" + \"iteration:\" + str(i) + \"===========\")\n",
    "        for key in weight_init_types.keys():\n",
    "            loss = networks[key].loss(x_batch, t_batch)\n",
    "            print(key + \":\" + str(loss))"
   ]
  },
  {
   "cell_type": "code",
   "execution_count": 58,
   "metadata": {},
   "outputs": [
    {
     "data": {
      "image/png": "[encoded data removed]",
      "text/plain": [
       "<Figure size 432x288 with 1 Axes>"
      ]
     },
     "metadata": {
      "needs_background": "light"
     },
     "output_type": "display_data"
    }
   ],
   "source": [
    "# 3. 그래프 그리기==========\n",
    "markers = {'std=0.01': 'o', 'Xavier': 's', 'He': 'D'}\n",
    "x = np.arange(max_iterations)\n",
    "for key in weight_init_types.keys():\n",
    "    plt.plot(x, smooth_curve(train_loss[key]), marker=markers[key], markevery=100, label=key)\n",
    "plt.xlabel(\"iterations\")\n",
    "plt.ylabel(\"loss\")\n",
    "plt.ylim(0, 2.5)\n",
    "plt.legend()\n",
    "plt.show()"
   ]
  },
  {
   "cell_type": "code",
   "execution_count": null,
   "metadata": {},
   "outputs": [],
   "source": []
  }
 ],
 "metadata": {
  "kernelspec": {
   "display_name": "Python 3",
   "language": "python",
   "name": "python3"
  },
  "language_info": {
   "codemirror_mode": {
    "name": "ipython",
    "version": 3
   },
   "file_extension": ".py",
   "mimetype": "text/x-python",
   "name": "python",
   "nbconvert_exporter": "python",
   "pygments_lexer": "ipython3",
   "version": "3.8.3"
  }
 },
 "nbformat": 4,
 "nbformat_minor": 4
}
