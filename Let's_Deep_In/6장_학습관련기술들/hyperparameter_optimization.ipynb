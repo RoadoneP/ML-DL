{
 "cells": [
  {
   "cell_type": "code",
   "execution_count": 1,
   "metadata": {},
   "outputs": [],
   "source": [
    "# coding: utf-8\n",
    "import sys, os\n",
    "sys.path.append(os.pardir)  # 부모 디렉터리의 파일을 가져올 수 있도록 설정\n",
    "import numpy as np\n",
    "import matplotlib.pyplot as plt\n",
    "from dataset.mnist import load_mnist\n",
    "from common.multi_layer_net import MultiLayerNet\n",
    "from common.util import shuffle_dataset\n",
    "from common.trainer import Trainer"
   ]
  },
  {
   "cell_type": "code",
   "execution_count": 2,
   "metadata": {},
   "outputs": [],
   "source": [
    "(x_train, t_train), (x_test, t_test) = load_mnist(normalize=True)"
   ]
  },
  {
   "cell_type": "code",
   "execution_count": 3,
   "metadata": {},
   "outputs": [],
   "source": [
    "# 결과를 빠르게 얻기 위해 훈련 데이터를 줄임\n",
    "x_train = x_train[:500]\n",
    "t_train = t_train[:500]"
   ]
  },
  {
   "cell_type": "code",
   "execution_count": 4,
   "metadata": {},
   "outputs": [],
   "source": [
    "# 20%를 검증 데이터로 분할\n",
    "validation_rate = 0.20\n",
    "validation_num = int(x_train.shape[0] * validation_rate)\n",
    "x_train, t_train = shuffle_dataset(x_train, t_train)\n",
    "x_val = x_train[:validation_num]\n",
    "t_val = t_train[:validation_num]\n",
    "x_train = x_train[validation_num:]\n",
    "t_train = t_train[validation_num:]"
   ]
  },
  {
   "cell_type": "code",
   "execution_count": 16,
   "metadata": {},
   "outputs": [],
   "source": [
    "def __train(lr, weight_decay, epocs=50):\n",
    "    network = MultiLayerNet(input_size=784, hidden_size_list=[100, 100, 100, 100, 100, 100],\n",
    "                            output_size=10, weight_decay_lambda=weight_decay)\n",
    "    trainer = Trainer(network, x_train, t_train, x_val, t_val,\n",
    "                      epochs=epocs, mini_batch_size=100,\n",
    "                      optimizer='sgd', optimizer_param={'lr': lr}, verbose=False)\n",
    "    trainer.train()\n",
    "\n",
    "    return trainer.test_acc_list, trainer.train_acc_list"
   ]
  },
  {
   "cell_type": "code",
   "execution_count": 17,
   "metadata": {},
   "outputs": [
    {
     "name": "stdout",
     "output_type": "stream",
     "text": [
      "val acc:0.34 | lr:0.0015783939589226594, weight decay:4.635385077805204e-06\n",
      "val acc:0.64 | lr:0.004721329154127304, weight decay:1.3044837264229482e-07\n",
      "val acc:0.21 | lr:0.0014323427019155158, weight decay:3.7953905281329135e-06\n",
      "val acc:0.08 | lr:0.00011072771618877232, weight decay:9.800923533921988e-08\n",
      "val acc:0.65 | lr:0.0036521343578833068, weight decay:9.619141273027662e-07\n",
      "val acc:0.08 | lr:0.00026198060023645227, weight decay:4.373163359418619e-08\n",
      "val acc:0.12 | lr:0.0004918068632943017, weight decay:1.540822266687732e-08\n",
      "val acc:0.08 | lr:3.760597140185336e-05, weight decay:4.047126185128229e-07\n",
      "val acc:0.24 | lr:0.0006360542939048602, weight decay:8.432641557884833e-07\n",
      "val acc:0.57 | lr:0.0031667774281305757, weight decay:4.930586559615625e-06\n",
      "val acc:0.07 | lr:4.3347798591173084e-06, weight decay:3.565831632682788e-08\n",
      "val acc:0.14 | lr:2.5201765376653936e-05, weight decay:1.0342506282103859e-06\n",
      "val acc:0.14 | lr:0.00023576022550768724, weight decay:3.0721476627129066e-06\n",
      "val acc:0.19 | lr:0.0003181838210541329, weight decay:7.213126293442702e-07\n",
      "val acc:0.09 | lr:5.1157923328526775e-06, weight decay:4.71498703516961e-08\n",
      "val acc:0.08 | lr:1.0701252997578765e-05, weight decay:2.5835253789309695e-07\n",
      "val acc:0.61 | lr:0.005200035607450106, weight decay:6.775168185731962e-08\n",
      "val acc:0.12 | lr:8.868231866463786e-06, weight decay:1.305888351834486e-06\n",
      "val acc:0.07 | lr:8.940060888830778e-05, weight decay:4.6464727608853564e-08\n",
      "val acc:0.04 | lr:8.546621021230655e-06, weight decay:2.266890869427941e-05\n",
      "val acc:0.13 | lr:0.0001279041787933405, weight decay:6.555297810744638e-05\n",
      "val acc:0.1 | lr:0.001112525040657528, weight decay:4.3721893802617406e-05\n",
      "val acc:0.06 | lr:0.0001098285679875609, weight decay:2.845093469185924e-05\n",
      "val acc:0.09 | lr:0.00031755954471210737, weight decay:1.4601571684176576e-06\n",
      "val acc:0.1 | lr:9.43789108799647e-06, weight decay:3.7048967535834027e-06\n",
      "val acc:0.71 | lr:0.007505989702787074, weight decay:2.7462509953309147e-08\n",
      "val acc:0.11 | lr:1.2170135099053145e-06, weight decay:7.846761895418001e-07\n",
      "val acc:0.13 | lr:3.681734924059293e-05, weight decay:9.354801400356598e-08\n",
      "val acc:0.79 | lr:0.009051374217713012, weight decay:4.7729766202703186e-08\n",
      "val acc:0.72 | lr:0.005207684157605325, weight decay:7.2800359763249e-05\n",
      "val acc:0.09 | lr:1.1271589641259337e-06, weight decay:5.1402717318066e-08\n",
      "val acc:0.11 | lr:5.154377313892936e-05, weight decay:4.3542632003820796e-05\n",
      "val acc:0.03 | lr:2.4838574581312614e-06, weight decay:9.398671433922898e-05\n",
      "val acc:0.12 | lr:8.474240795315012e-06, weight decay:1.5254424668842737e-06\n",
      "val acc:0.73 | lr:0.007788682437645302, weight decay:6.73430185800994e-06\n",
      "val acc:0.07 | lr:7.575516664899786e-06, weight decay:4.755253847890949e-08\n",
      "val acc:0.08 | lr:5.7152534280745755e-05, weight decay:1.3139608965858589e-05\n",
      "val acc:0.18 | lr:0.0021683680383669636, weight decay:1.5599146459568073e-06\n",
      "val acc:0.14 | lr:0.00014056443465595636, weight decay:5.643672516253504e-07\n",
      "val acc:0.35 | lr:0.0009185728655074608, weight decay:6.647410193207965e-08\n",
      "val acc:0.12 | lr:1.607945859795884e-05, weight decay:1.9645376972558855e-08\n",
      "val acc:0.12 | lr:1.2004886137129107e-05, weight decay:4.089863979190693e-08\n",
      "val acc:0.2 | lr:0.0017098214359418512, weight decay:3.1638740007510235e-06\n",
      "val acc:0.07 | lr:2.577289986700992e-06, weight decay:1.723385644710256e-08\n",
      "val acc:0.34 | lr:0.002564974414966327, weight decay:2.034457975394846e-07\n",
      "val acc:0.1 | lr:0.00014165323303522251, weight decay:5.433312535235877e-06\n",
      "val acc:0.65 | lr:0.0042672541171910865, weight decay:8.138198953129783e-05\n",
      "val acc:0.52 | lr:0.003142252985975724, weight decay:1.3325380312254602e-06\n",
      "val acc:0.63 | lr:0.004727775422809774, weight decay:9.059626598982116e-08\n",
      "val acc:0.1 | lr:2.020113075046707e-05, weight decay:5.2809727152000016e-06\n",
      "val acc:0.2 | lr:0.0006914068389593669, weight decay:9.902033433732119e-05\n",
      "val acc:0.15 | lr:0.0005932535837523964, weight decay:7.669090016470515e-06\n",
      "val acc:0.11 | lr:7.621673040623032e-05, weight decay:7.646462847624623e-06\n",
      "val acc:0.51 | lr:0.0035637849992896037, weight decay:1.211991691267397e-08\n",
      "val acc:0.12 | lr:6.9347890054600514e-06, weight decay:3.8106917101938035e-08\n",
      "val acc:0.04 | lr:3.5981498582137387e-06, weight decay:2.312919395139789e-06\n",
      "val acc:0.56 | lr:0.003850623625933393, weight decay:2.5542787524949018e-05\n",
      "val acc:0.1 | lr:0.0004178949341776862, weight decay:9.430496805809432e-08\n",
      "val acc:0.13 | lr:3.297295491824157e-05, weight decay:1.2659526172324223e-08\n",
      "val acc:0.48 | lr:0.0035982625308393326, weight decay:1.1733673017461325e-05\n",
      "val acc:0.1 | lr:5.4948649812014076e-05, weight decay:1.4332485971960194e-05\n",
      "val acc:0.55 | lr:0.003872130014445834, weight decay:1.1711491013052271e-05\n",
      "val acc:0.14 | lr:9.645174665281033e-05, weight decay:8.760796425569161e-07\n",
      "val acc:0.14 | lr:3.9966448551936145e-06, weight decay:7.4928331058036e-06\n",
      "val acc:0.1 | lr:4.5581842085266065e-06, weight decay:2.2371554286047896e-07\n",
      "val acc:0.11 | lr:6.685908478824276e-05, weight decay:1.3030750029133464e-08\n",
      "val acc:0.13 | lr:0.0008582259789702013, weight decay:2.3264103763549212e-05\n",
      "val acc:0.15 | lr:0.0003619801432210424, weight decay:1.1823953596467966e-05\n",
      "val acc:0.06 | lr:2.240036845656157e-06, weight decay:8.734212149529517e-05\n",
      "val acc:0.1 | lr:5.207781412753117e-06, weight decay:3.717007635415976e-05\n",
      "val acc:0.05 | lr:1.965802784518071e-06, weight decay:1.164676807126432e-07\n",
      "val acc:0.07 | lr:7.435890296478795e-05, weight decay:1.4245472289661821e-07\n",
      "val acc:0.17 | lr:0.0010627438770250827, weight decay:4.199502405576124e-05\n",
      "val acc:0.02 | lr:1.2241350113278472e-06, weight decay:2.2938502401229473e-08\n",
      "val acc:0.08 | lr:0.0001135748430339742, weight decay:2.9003979387150496e-07\n",
      "val acc:0.07 | lr:1.969350573447834e-05, weight decay:2.439121013540067e-07\n",
      "val acc:0.06 | lr:1.4527696957943525e-06, weight decay:1.1753903641873085e-07\n",
      "val acc:0.62 | lr:0.004830898759826381, weight decay:7.761137328148458e-05\n",
      "val acc:0.11 | lr:1.8584707654207284e-05, weight decay:8.558191988274627e-08\n",
      "val acc:0.08 | lr:1.2915296075229347e-05, weight decay:6.04143240725243e-06\n",
      "val acc:0.06 | lr:1.2701710136619636e-05, weight decay:5.627725444082234e-05\n",
      "val acc:0.1 | lr:0.00012385055556297448, weight decay:3.7352030317272574e-08\n",
      "val acc:0.08 | lr:5.829822841749896e-05, weight decay:2.6009667173471344e-08\n",
      "val acc:0.09 | lr:3.0861626628699296e-06, weight decay:6.80398200231533e-08\n",
      "val acc:0.05 | lr:0.00021033589028420294, weight decay:1.5990471452806825e-06\n",
      "val acc:0.15 | lr:2.6833644907043237e-06, weight decay:1.8349864606597416e-07\n",
      "val acc:0.15 | lr:2.0458476282723003e-06, weight decay:9.264427761192543e-05\n",
      "val acc:0.11 | lr:9.339747218972067e-05, weight decay:1.3924701008641373e-06\n",
      "val acc:0.1 | lr:0.0003970332249283808, weight decay:3.4002282921959384e-06\n",
      "val acc:0.24 | lr:0.0008290208773650223, weight decay:2.5295045208474437e-07\n",
      "val acc:0.44 | lr:0.0021401738972474963, weight decay:5.117985906268159e-07\n",
      "val acc:0.15 | lr:2.638502568627373e-05, weight decay:5.32411606430827e-07\n",
      "val acc:0.09 | lr:1.560243857403824e-06, weight decay:2.4423378215059403e-05\n",
      "val acc:0.12 | lr:3.6395268849242266e-05, weight decay:4.198010841556746e-06\n",
      "val acc:0.13 | lr:6.384793979164967e-06, weight decay:3.1335919278435923e-06\n",
      "val acc:0.13 | lr:2.745332502110686e-05, weight decay:4.847418814183453e-06\n",
      "val acc:0.07 | lr:0.00013385038482322475, weight decay:3.728457132288296e-08\n",
      "val acc:0.75 | lr:0.008594843748926023, weight decay:2.5873378224862258e-08\n",
      "val acc:0.63 | lr:0.004489937699037793, weight decay:6.513222884854864e-07\n",
      "val acc:0.04 | lr:2.067327793778953e-06, weight decay:1.513672588996577e-08\n"
     ]
    }
   ],
   "source": [
    "# 하이퍼파라미터 무작위 탐색======================================\n",
    "optimization_trial = 100\n",
    "results_val = {}\n",
    "results_train = {}\n",
    "for _ in range(optimization_trial):\n",
    "    # 탐색한 하이퍼파라미터의 범위 지정===============\n",
    "    weight_decay = 10 ** np.random.uniform(-8, -4)\n",
    "    lr = 10 ** np.random.uniform(-6, -2)\n",
    "    # ================================================\n",
    "\n",
    "    val_acc_list, train_acc_list = __train(lr, weight_decay)\n",
    "    print(\"val acc:\" + str(val_acc_list[-1]) + \" | lr:\" + str(lr) + \", weight decay:\" + str(weight_decay))\n",
    "    key = \"lr:\" + str(lr) + \", weight decay:\" + str(weight_decay)\n",
    "    results_val[key] = val_acc_list\n",
    "    results_train[key] = train_acc_list"
   ]
  },
  {
   "cell_type": "code",
   "execution_count": 18,
   "metadata": {},
   "outputs": [
    {
     "name": "stdout",
     "output_type": "stream",
     "text": [
      "=========== Hyper-Parameter Optimization Result ===========\n",
      "Best-1(val acc:0.79) | lr:0.009051374217713012, weight decay:4.7729766202703186e-08\n",
      "Best-2(val acc:0.75) | lr:0.008594843748926023, weight decay:2.5873378224862258e-08\n",
      "Best-3(val acc:0.73) | lr:0.007788682437645302, weight decay:6.73430185800994e-06\n",
      "Best-4(val acc:0.72) | lr:0.005207684157605325, weight decay:7.2800359763249e-05\n",
      "Best-5(val acc:0.71) | lr:0.007505989702787074, weight decay:2.7462509953309147e-08\n",
      "Best-6(val acc:0.65) | lr:0.0036521343578833068, weight decay:9.619141273027662e-07\n",
      "Best-7(val acc:0.65) | lr:0.0042672541171910865, weight decay:8.138198953129783e-05\n",
      "Best-8(val acc:0.64) | lr:0.004721329154127304, weight decay:1.3044837264229482e-07\n",
      "Best-9(val acc:0.63) | lr:0.004727775422809774, weight decay:9.059626598982116e-08\n",
      "Best-10(val acc:0.63) | lr:0.004489937699037793, weight decay:6.513222884854864e-07\n",
      "Best-11(val acc:0.62) | lr:0.004830898759826381, weight decay:7.761137328148458e-05\n",
      "Best-12(val acc:0.61) | lr:0.005200035607450106, weight decay:6.775168185731962e-08\n",
      "Best-13(val acc:0.57) | lr:0.0031667774281305757, weight decay:4.930586559615625e-06\n",
      "Best-14(val acc:0.56) | lr:0.003850623625933393, weight decay:2.5542787524949018e-05\n",
      "Best-15(val acc:0.55) | lr:0.003872130014445834, weight decay:1.1711491013052271e-05\n",
      "Best-16(val acc:0.52) | lr:0.003142252985975724, weight decay:1.3325380312254602e-06\n",
      "Best-17(val acc:0.51) | lr:0.0035637849992896037, weight decay:1.211991691267397e-08\n",
      "Best-18(val acc:0.48) | lr:0.0035982625308393326, weight decay:1.1733673017461325e-05\n",
      "Best-19(val acc:0.44) | lr:0.0021401738972474963, weight decay:5.117985906268159e-07\n",
      "Best-20(val acc:0.35) | lr:0.0009185728655074608, weight decay:6.647410193207965e-08\n"
     ]
    },
    {
     "data": {
      "image/png": "[encoded data removed]",
      "text/plain": [
       "<Figure size 432x288 with 20 Axes>"
      ]
     },
     "metadata": {
      "needs_background": "light"
     },
     "output_type": "display_data"
    }
   ],
   "source": [
    "print(\"=========== Hyper-Parameter Optimization Result ===========\")\n",
    "graph_draw_num = 20\n",
    "col_num = 5\n",
    "row_num = int(np.ceil(graph_draw_num / col_num))\n",
    "i = 0\n",
    "\n",
    "for key, val_acc_list in sorted(results_val.items(), key=lambda x:x[1][-1], reverse=True):\n",
    "    print(\"Best-\" + str(i+1) + \"(val acc:\" + str(val_acc_list[-1]) + \") | \" + key)\n",
    "\n",
    "    plt.subplot(row_num, col_num, i+1)\n",
    "    plt.title(\"Best-\" + str(i+1))\n",
    "    plt.ylim(0.0, 1.0)\n",
    "    if i % 5: plt.yticks([])\n",
    "    plt.xticks([])\n",
    "    x = np.arange(len(val_acc_list))\n",
    "    plt.plot(x, val_acc_list)\n",
    "    plt.plot(x, results_train[key], \"--\")\n",
    "    i += 1\n",
    "\n",
    "    if i >= graph_draw_num:\n",
    "        break\n",
    "\n",
    "plt.show()"
   ]
  },
  {
   "cell_type": "code",
   "execution_count": null,
   "metadata": {},
   "outputs": [],
   "source": []
  }
 ],
 "metadata": {
  "kernelspec": {
   "display_name": "Python 3",
   "language": "python",
   "name": "python3"
  },
  "language_info": {
   "codemirror_mode": {
    "name": "ipython",
    "version": 3
   },
   "file_extension": ".py",
   "mimetype": "text/x-python",
   "name": "python",
   "nbconvert_exporter": "python",
   "pygments_lexer": "ipython3",
   "version": "3.8.3"
  }
 },
 "nbformat": 4,
 "nbformat_minor": 4
}
